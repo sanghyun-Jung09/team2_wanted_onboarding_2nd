{
 "cells": [
  {
   "cell_type": "markdown",
   "metadata": {},
   "source": [
    "## Ⅰ. Intro\n",
    "###  1. 분석주제 \n",
    "<br></br>\n",
    "#### (1) 모두의 컴퍼니(모두의 주차장) 유저별 이용 횟수 예측하기\n",
    "#### (2) 요일별 이용량에 대한 분석 - EDA\n",
    "#### (3) 유저별 이용 count 값에 대한 분석 - EDA\n",
    "<br></br>\n",
    "### 2. 세부사항\n",
    "#### 3주차 과제 제출에 포함되어야 하는 형태 (최소)\n",
    "#### 모델링에 대한 결과 .ipynb 파일\n",
    "#### Input : X데이터 : [user_id, +@]\n",
    "#### Output : Count column 예측값\n",
    "#### 2020.01.01~2020.09.30 : Training Data\n",
    "#### 2020.10.01~2020.12.31 : Test Data\n",
    "#### 2020.10.01~2020.12.31 구간에 대한 MSE, MAE 계산값"
   ]
  },
  {
   "cell_type": "markdown",
   "metadata": {},
   "source": [
    "### 정보"
   ]
  },
  {
   "cell_type": "markdown",
   "metadata": {},
   "source": [
    "•\t유저 가입 정보: id, 가입일  \n",
    "•\t소비 행동 정보: 상품id, 점포 주소, 결제일, 결제건수  \n",
    "•\t외부 정보: 서울시 지점별 교통량 데이터 기온, 강수량, 풍속 등 기상데이터  "
   ]
  },
  {
   "cell_type": "markdown",
   "metadata": {},
   "source": [
    "***"
   ]
  },
  {
   "cell_type": "markdown",
   "metadata": {},
   "source": [
    "## Ⅱ . 머신러닝"
   ]
  },
  {
   "cell_type": "code",
   "execution_count": 1,
   "metadata": {},
   "outputs": [],
   "source": [
    "import pandas as pd\n",
    "import numpy as np\n",
    "import pandas as pd\n",
    "import matplotlib.pyplot as plt\n",
    "import seaborn as sns\n",
    "import warnings\n",
    "\n",
    "plt.rcParams['font.family'] = 'Malgun Gothic'\n",
    "plt.style.use(\"fivethirtyeight\")\n",
    "plt.rcParams['axes.unicode_minus'] = False\n",
    "warnings.filterwarnings(action='ignore')"
   ]
  },
  {
   "cell_type": "code",
   "execution_count": 2,
   "metadata": {},
   "outputs": [],
   "source": [
    "np.random.seed(42) "
   ]
  },
  {
   "cell_type": "code",
   "execution_count": 3,
   "metadata": {},
   "outputs": [
    {
     "data": {
      "text/html": [
       "<div>\n",
       "<style scoped>\n",
       "    .dataframe tbody tr th:only-of-type {\n",
       "        vertical-align: middle;\n",
       "    }\n",
       "\n",
       "    .dataframe tbody tr th {\n",
       "        vertical-align: top;\n",
       "    }\n",
       "\n",
       "    .dataframe thead th {\n",
       "        text-align: right;\n",
       "    }\n",
       "</style>\n",
       "<table border=\"1\" class=\"dataframe\">\n",
       "  <thead>\n",
       "    <tr style=\"text-align: right;\">\n",
       "      <th></th>\n",
       "      <th>USER_ID</th>\n",
       "      <th>JOIN_DATE</th>\n",
       "      <th>D_TYPE</th>\n",
       "      <th>STORE_ID</th>\n",
       "      <th>GOODS_TYPE</th>\n",
       "      <th>DATE</th>\n",
       "      <th>COUNT</th>\n",
       "      <th>AD1</th>\n",
       "    </tr>\n",
       "  </thead>\n",
       "  <tbody>\n",
       "    <tr>\n",
       "      <th>0</th>\n",
       "      <td>2858</td>\n",
       "      <td>2014-01-07</td>\n",
       "      <td>AA</td>\n",
       "      <td>1892</td>\n",
       "      <td>A</td>\n",
       "      <td>2020-01-01</td>\n",
       "      <td>1</td>\n",
       "      <td>GN</td>\n",
       "    </tr>\n",
       "    <tr>\n",
       "      <th>1</th>\n",
       "      <td>5647</td>\n",
       "      <td>2014-02-14</td>\n",
       "      <td>BB</td>\n",
       "      <td>182009</td>\n",
       "      <td>A</td>\n",
       "      <td>2020-01-01</td>\n",
       "      <td>1</td>\n",
       "      <td>J</td>\n",
       "    </tr>\n",
       "    <tr>\n",
       "      <th>2</th>\n",
       "      <td>33314</td>\n",
       "      <td>2014-11-20</td>\n",
       "      <td>BB</td>\n",
       "      <td>82431</td>\n",
       "      <td>A</td>\n",
       "      <td>2020-01-01</td>\n",
       "      <td>1</td>\n",
       "      <td>SC</td>\n",
       "    </tr>\n",
       "    <tr>\n",
       "      <th>3</th>\n",
       "      <td>37001</td>\n",
       "      <td>2014-12-04</td>\n",
       "      <td>BB</td>\n",
       "      <td>725</td>\n",
       "      <td>C</td>\n",
       "      <td>2020-01-01</td>\n",
       "      <td>1</td>\n",
       "      <td>MP</td>\n",
       "    </tr>\n",
       "    <tr>\n",
       "      <th>4</th>\n",
       "      <td>37819</td>\n",
       "      <td>2014-12-07</td>\n",
       "      <td>AA</td>\n",
       "      <td>220691</td>\n",
       "      <td>C</td>\n",
       "      <td>2020-01-01</td>\n",
       "      <td>1</td>\n",
       "      <td>JRR</td>\n",
       "    </tr>\n",
       "    <tr>\n",
       "      <th>...</th>\n",
       "      <td>...</td>\n",
       "      <td>...</td>\n",
       "      <td>...</td>\n",
       "      <td>...</td>\n",
       "      <td>...</td>\n",
       "      <td>...</td>\n",
       "      <td>...</td>\n",
       "      <td>...</td>\n",
       "    </tr>\n",
       "    <tr>\n",
       "      <th>879266</th>\n",
       "      <td>1830551</td>\n",
       "      <td>2020-12-31</td>\n",
       "      <td>BB</td>\n",
       "      <td>219886</td>\n",
       "      <td>B</td>\n",
       "      <td>2020-12-31</td>\n",
       "      <td>1</td>\n",
       "      <td>GN</td>\n",
       "    </tr>\n",
       "    <tr>\n",
       "      <th>879267</th>\n",
       "      <td>1830570</td>\n",
       "      <td>2020-12-31</td>\n",
       "      <td>BB</td>\n",
       "      <td>82433</td>\n",
       "      <td>B</td>\n",
       "      <td>2020-12-31</td>\n",
       "      <td>1</td>\n",
       "      <td>CY</td>\n",
       "    </tr>\n",
       "    <tr>\n",
       "      <th>879268</th>\n",
       "      <td>1830580</td>\n",
       "      <td>2020-12-31</td>\n",
       "      <td>AA</td>\n",
       "      <td>92020</td>\n",
       "      <td>B</td>\n",
       "      <td>2020-12-31</td>\n",
       "      <td>1</td>\n",
       "      <td>JRR</td>\n",
       "    </tr>\n",
       "    <tr>\n",
       "      <th>879269</th>\n",
       "      <td>1830589</td>\n",
       "      <td>2020-12-31</td>\n",
       "      <td>BB</td>\n",
       "      <td>92437</td>\n",
       "      <td>B</td>\n",
       "      <td>2020-12-31</td>\n",
       "      <td>1</td>\n",
       "      <td>J</td>\n",
       "    </tr>\n",
       "    <tr>\n",
       "      <th>879270</th>\n",
       "      <td>1830598</td>\n",
       "      <td>2020-12-31</td>\n",
       "      <td>AA</td>\n",
       "      <td>220959</td>\n",
       "      <td>B</td>\n",
       "      <td>2020-12-31</td>\n",
       "      <td>1</td>\n",
       "      <td>SC</td>\n",
       "    </tr>\n",
       "  </tbody>\n",
       "</table>\n",
       "<p>879271 rows × 8 columns</p>\n",
       "</div>"
      ],
      "text/plain": [
       "        USER_ID   JOIN_DATE D_TYPE  STORE_ID GOODS_TYPE        DATE  COUNT  \\\n",
       "0          2858  2014-01-07     AA      1892          A  2020-01-01      1   \n",
       "1          5647  2014-02-14     BB    182009          A  2020-01-01      1   \n",
       "2         33314  2014-11-20     BB     82431          A  2020-01-01      1   \n",
       "3         37001  2014-12-04     BB       725          C  2020-01-01      1   \n",
       "4         37819  2014-12-07     AA    220691          C  2020-01-01      1   \n",
       "...         ...         ...    ...       ...        ...         ...    ...   \n",
       "879266  1830551  2020-12-31     BB    219886          B  2020-12-31      1   \n",
       "879267  1830570  2020-12-31     BB     82433          B  2020-12-31      1   \n",
       "879268  1830580  2020-12-31     AA     92020          B  2020-12-31      1   \n",
       "879269  1830589  2020-12-31     BB     92437          B  2020-12-31      1   \n",
       "879270  1830598  2020-12-31     AA    220959          B  2020-12-31      1   \n",
       "\n",
       "        AD1  \n",
       "0        GN  \n",
       "1         J  \n",
       "2        SC  \n",
       "3        MP  \n",
       "4       JRR  \n",
       "...     ...  \n",
       "879266   GN  \n",
       "879267   CY  \n",
       "879268  JRR  \n",
       "879269    J  \n",
       "879270   SC  \n",
       "\n",
       "[879271 rows x 8 columns]"
      ]
     },
     "execution_count": 3,
     "metadata": {},
     "output_type": "execute_result"
    }
   ],
   "source": [
    "df= pd.read_csv('실전db.csv',encoding='cp949')\n",
    "df"
   ]
  },
  {
   "cell_type": "code",
   "execution_count": 4,
   "metadata": {},
   "outputs": [
    {
     "name": "stdout",
     "output_type": "stream",
     "text": [
      "<class 'pandas.core.frame.DataFrame'>\n",
      "RangeIndex: 879271 entries, 0 to 879270\n",
      "Data columns (total 8 columns):\n",
      " #   Column      Non-Null Count   Dtype \n",
      "---  ------      --------------   ----- \n",
      " 0   USER_ID     879271 non-null  int64 \n",
      " 1   JOIN_DATE   879271 non-null  object\n",
      " 2   D_TYPE      879271 non-null  object\n",
      " 3   STORE_ID    879271 non-null  int64 \n",
      " 4   GOODS_TYPE  879271 non-null  object\n",
      " 5   DATE        879271 non-null  object\n",
      " 6   COUNT       879271 non-null  int64 \n",
      " 7   AD1         879271 non-null  object\n",
      "dtypes: int64(3), object(5)\n",
      "memory usage: 53.7+ MB\n"
     ]
    }
   ],
   "source": [
    "df.info()"
   ]
  },
  {
   "cell_type": "markdown",
   "metadata": {},
   "source": [
    "- 종속변수 분리"
   ]
  },
  {
   "cell_type": "code",
   "execution_count": 5,
   "metadata": {},
   "outputs": [],
   "source": [
    "df.columns=[i.lower() for i in df.columns.values]"
   ]
  },
  {
   "cell_type": "markdown",
   "metadata": {},
   "source": [
    "#### 전처리"
   ]
  },
  {
   "cell_type": "code",
   "execution_count": 6,
   "metadata": {},
   "outputs": [],
   "source": [
    "df['join_date']=pd.to_datetime(df['join_date'])\n",
    "df['date']=pd.to_datetime(df['date'])"
   ]
  },
  {
   "cell_type": "code",
   "execution_count": 7,
   "metadata": {},
   "outputs": [],
   "source": [
    "df['weekday']=[i.lower() for i in df.date.dt.day_name()]"
   ]
  },
  {
   "cell_type": "code",
   "execution_count": 8,
   "metadata": {},
   "outputs": [],
   "source": [
    "df['j_y']=df['join_date'].dt.year\n",
    "df['j_m']=df['join_date'].dt.month\n",
    "df['j_day']=df['join_date'].dt.day\n",
    "df['j_wday']=df['join_date'].dt.weekday\n",
    "df['p_y']=df['date'].dt.year\n",
    "df['p_m']=df['date'].dt.month\n",
    "df['p_day']=df['date'].dt.day\n",
    "df['p_wday']=df['date'].dt.weekday"
   ]
  },
  {
   "cell_type": "code",
   "execution_count": 9,
   "metadata": {},
   "outputs": [],
   "source": [
    "Train_X=df.loc[df['date']<'20201001',:].drop('count',axis=1)\n",
    "Train_y=df.loc[df['date']<'20201001','count']\n",
    "Train_X=Train_X.drop(['join_date','date'],axis=1)\n",
    "Test_X=df.loc[df['date']>='20201001',:].drop('count',axis=1)\n",
    "Test_X=Test_X.drop(['join_date','date'],axis=1)\n",
    "Test_y=df.loc[df['date']>='20201001','count']"
   ]
  },
  {
   "cell_type": "code",
   "execution_count": 10,
   "metadata": {},
   "outputs": [
    {
     "data": {
      "text/plain": [
       "Index(['user_id', 'd_type', 'store_id', 'goods_type', 'ad1', 'weekday', 'j_y',\n",
       "       'j_m', 'j_day', 'j_wday', 'p_y', 'p_m', 'p_day', 'p_wday'],\n",
       "      dtype='object')"
      ]
     },
     "execution_count": 10,
     "metadata": {},
     "output_type": "execute_result"
    }
   ],
   "source": [
    "Train_X.columns"
   ]
  },
  {
   "cell_type": "code",
   "execution_count": 11,
   "metadata": {},
   "outputs": [
    {
     "data": {
      "text/html": [
       "<div>\n",
       "<style scoped>\n",
       "    .dataframe tbody tr th:only-of-type {\n",
       "        vertical-align: middle;\n",
       "    }\n",
       "\n",
       "    .dataframe tbody tr th {\n",
       "        vertical-align: top;\n",
       "    }\n",
       "\n",
       "    .dataframe thead th {\n",
       "        text-align: right;\n",
       "    }\n",
       "</style>\n",
       "<table border=\"1\" class=\"dataframe\">\n",
       "  <thead>\n",
       "    <tr style=\"text-align: right;\">\n",
       "      <th></th>\n",
       "      <th>user_id</th>\n",
       "      <th>d_type</th>\n",
       "      <th>store_id</th>\n",
       "      <th>goods_type</th>\n",
       "      <th>ad1</th>\n",
       "      <th>weekday</th>\n",
       "      <th>j_y</th>\n",
       "      <th>j_m</th>\n",
       "      <th>j_day</th>\n",
       "      <th>j_wday</th>\n",
       "      <th>p_y</th>\n",
       "      <th>p_m</th>\n",
       "      <th>p_day</th>\n",
       "      <th>p_wday</th>\n",
       "    </tr>\n",
       "  </thead>\n",
       "  <tbody>\n",
       "    <tr>\n",
       "      <th>623579</th>\n",
       "      <td>15521</td>\n",
       "      <td>AA</td>\n",
       "      <td>182320</td>\n",
       "      <td>A</td>\n",
       "      <td>JRR</td>\n",
       "      <td>thursday</td>\n",
       "      <td>2014</td>\n",
       "      <td>9</td>\n",
       "      <td>12</td>\n",
       "      <td>4</td>\n",
       "      <td>2020</td>\n",
       "      <td>10</td>\n",
       "      <td>1</td>\n",
       "      <td>3</td>\n",
       "    </tr>\n",
       "    <tr>\n",
       "      <th>623580</th>\n",
       "      <td>17651</td>\n",
       "      <td>BB</td>\n",
       "      <td>82434</td>\n",
       "      <td>D</td>\n",
       "      <td>J</td>\n",
       "      <td>thursday</td>\n",
       "      <td>2014</td>\n",
       "      <td>9</td>\n",
       "      <td>19</td>\n",
       "      <td>4</td>\n",
       "      <td>2020</td>\n",
       "      <td>10</td>\n",
       "      <td>1</td>\n",
       "      <td>3</td>\n",
       "    </tr>\n",
       "    <tr>\n",
       "      <th>623581</th>\n",
       "      <td>26388</td>\n",
       "      <td>BB</td>\n",
       "      <td>182320</td>\n",
       "      <td>A</td>\n",
       "      <td>JRR</td>\n",
       "      <td>thursday</td>\n",
       "      <td>2014</td>\n",
       "      <td>10</td>\n",
       "      <td>25</td>\n",
       "      <td>5</td>\n",
       "      <td>2020</td>\n",
       "      <td>10</td>\n",
       "      <td>1</td>\n",
       "      <td>3</td>\n",
       "    </tr>\n",
       "    <tr>\n",
       "      <th>623582</th>\n",
       "      <td>81772</td>\n",
       "      <td>BB</td>\n",
       "      <td>204438</td>\n",
       "      <td>A</td>\n",
       "      <td>DJ</td>\n",
       "      <td>thursday</td>\n",
       "      <td>2015</td>\n",
       "      <td>5</td>\n",
       "      <td>2</td>\n",
       "      <td>5</td>\n",
       "      <td>2020</td>\n",
       "      <td>10</td>\n",
       "      <td>1</td>\n",
       "      <td>3</td>\n",
       "    </tr>\n",
       "    <tr>\n",
       "      <th>623583</th>\n",
       "      <td>92258</td>\n",
       "      <td>AA</td>\n",
       "      <td>220745</td>\n",
       "      <td>A</td>\n",
       "      <td>SD</td>\n",
       "      <td>thursday</td>\n",
       "      <td>2015</td>\n",
       "      <td>5</td>\n",
       "      <td>24</td>\n",
       "      <td>6</td>\n",
       "      <td>2020</td>\n",
       "      <td>10</td>\n",
       "      <td>1</td>\n",
       "      <td>3</td>\n",
       "    </tr>\n",
       "    <tr>\n",
       "      <th>...</th>\n",
       "      <td>...</td>\n",
       "      <td>...</td>\n",
       "      <td>...</td>\n",
       "      <td>...</td>\n",
       "      <td>...</td>\n",
       "      <td>...</td>\n",
       "      <td>...</td>\n",
       "      <td>...</td>\n",
       "      <td>...</td>\n",
       "      <td>...</td>\n",
       "      <td>...</td>\n",
       "      <td>...</td>\n",
       "      <td>...</td>\n",
       "      <td>...</td>\n",
       "    </tr>\n",
       "    <tr>\n",
       "      <th>879266</th>\n",
       "      <td>1830551</td>\n",
       "      <td>BB</td>\n",
       "      <td>219886</td>\n",
       "      <td>B</td>\n",
       "      <td>GN</td>\n",
       "      <td>thursday</td>\n",
       "      <td>2020</td>\n",
       "      <td>12</td>\n",
       "      <td>31</td>\n",
       "      <td>3</td>\n",
       "      <td>2020</td>\n",
       "      <td>12</td>\n",
       "      <td>31</td>\n",
       "      <td>3</td>\n",
       "    </tr>\n",
       "    <tr>\n",
       "      <th>879267</th>\n",
       "      <td>1830570</td>\n",
       "      <td>BB</td>\n",
       "      <td>82433</td>\n",
       "      <td>B</td>\n",
       "      <td>CY</td>\n",
       "      <td>thursday</td>\n",
       "      <td>2020</td>\n",
       "      <td>12</td>\n",
       "      <td>31</td>\n",
       "      <td>3</td>\n",
       "      <td>2020</td>\n",
       "      <td>12</td>\n",
       "      <td>31</td>\n",
       "      <td>3</td>\n",
       "    </tr>\n",
       "    <tr>\n",
       "      <th>879268</th>\n",
       "      <td>1830580</td>\n",
       "      <td>AA</td>\n",
       "      <td>92020</td>\n",
       "      <td>B</td>\n",
       "      <td>JRR</td>\n",
       "      <td>thursday</td>\n",
       "      <td>2020</td>\n",
       "      <td>12</td>\n",
       "      <td>31</td>\n",
       "      <td>3</td>\n",
       "      <td>2020</td>\n",
       "      <td>12</td>\n",
       "      <td>31</td>\n",
       "      <td>3</td>\n",
       "    </tr>\n",
       "    <tr>\n",
       "      <th>879269</th>\n",
       "      <td>1830589</td>\n",
       "      <td>BB</td>\n",
       "      <td>92437</td>\n",
       "      <td>B</td>\n",
       "      <td>J</td>\n",
       "      <td>thursday</td>\n",
       "      <td>2020</td>\n",
       "      <td>12</td>\n",
       "      <td>31</td>\n",
       "      <td>3</td>\n",
       "      <td>2020</td>\n",
       "      <td>12</td>\n",
       "      <td>31</td>\n",
       "      <td>3</td>\n",
       "    </tr>\n",
       "    <tr>\n",
       "      <th>879270</th>\n",
       "      <td>1830598</td>\n",
       "      <td>AA</td>\n",
       "      <td>220959</td>\n",
       "      <td>B</td>\n",
       "      <td>SC</td>\n",
       "      <td>thursday</td>\n",
       "      <td>2020</td>\n",
       "      <td>12</td>\n",
       "      <td>31</td>\n",
       "      <td>3</td>\n",
       "      <td>2020</td>\n",
       "      <td>12</td>\n",
       "      <td>31</td>\n",
       "      <td>3</td>\n",
       "    </tr>\n",
       "  </tbody>\n",
       "</table>\n",
       "<p>255692 rows × 14 columns</p>\n",
       "</div>"
      ],
      "text/plain": [
       "        user_id d_type  store_id goods_type  ad1   weekday   j_y  j_m  j_day  \\\n",
       "623579    15521     AA    182320          A  JRR  thursday  2014    9     12   \n",
       "623580    17651     BB     82434          D    J  thursday  2014    9     19   \n",
       "623581    26388     BB    182320          A  JRR  thursday  2014   10     25   \n",
       "623582    81772     BB    204438          A   DJ  thursday  2015    5      2   \n",
       "623583    92258     AA    220745          A   SD  thursday  2015    5     24   \n",
       "...         ...    ...       ...        ...  ...       ...   ...  ...    ...   \n",
       "879266  1830551     BB    219886          B   GN  thursday  2020   12     31   \n",
       "879267  1830570     BB     82433          B   CY  thursday  2020   12     31   \n",
       "879268  1830580     AA     92020          B  JRR  thursday  2020   12     31   \n",
       "879269  1830589     BB     92437          B    J  thursday  2020   12     31   \n",
       "879270  1830598     AA    220959          B   SC  thursday  2020   12     31   \n",
       "\n",
       "        j_wday   p_y  p_m  p_day  p_wday  \n",
       "623579       4  2020   10      1       3  \n",
       "623580       4  2020   10      1       3  \n",
       "623581       5  2020   10      1       3  \n",
       "623582       5  2020   10      1       3  \n",
       "623583       6  2020   10      1       3  \n",
       "...        ...   ...  ...    ...     ...  \n",
       "879266       3  2020   12     31       3  \n",
       "879267       3  2020   12     31       3  \n",
       "879268       3  2020   12     31       3  \n",
       "879269       3  2020   12     31       3  \n",
       "879270       3  2020   12     31       3  \n",
       "\n",
       "[255692 rows x 14 columns]"
      ]
     },
     "execution_count": 11,
     "metadata": {},
     "output_type": "execute_result"
    }
   ],
   "source": [
    "Test_X"
   ]
  },
  {
   "cell_type": "code",
   "execution_count": 12,
   "metadata": {},
   "outputs": [
    {
     "data": {
      "text/plain": [
       "0         1\n",
       "1         1\n",
       "2         1\n",
       "3         1\n",
       "4         1\n",
       "         ..\n",
       "623574    1\n",
       "623575    1\n",
       "623576    1\n",
       "623577    2\n",
       "623578    1\n",
       "Name: count, Length: 623579, dtype: int64"
      ]
     },
     "execution_count": 12,
     "metadata": {},
     "output_type": "execute_result"
    }
   ],
   "source": [
    "Train_y"
   ]
  },
  {
   "cell_type": "code",
   "execution_count": 13,
   "metadata": {},
   "outputs": [
    {
     "data": {
      "text/plain": [
       "623579    1\n",
       "623580    1\n",
       "623581    1\n",
       "623582    1\n",
       "623583    1\n",
       "         ..\n",
       "879266    1\n",
       "879267    1\n",
       "879268    1\n",
       "879269    1\n",
       "879270    1\n",
       "Name: count, Length: 255692, dtype: int64"
      ]
     },
     "execution_count": 13,
     "metadata": {},
     "output_type": "execute_result"
    }
   ],
   "source": [
    "Test_y"
   ]
  },
  {
   "cell_type": "code",
   "execution_count": 14,
   "metadata": {},
   "outputs": [],
   "source": [
    "col1=Train_X.columns.values\n",
    "\n",
    "train_numcol=[]\n",
    "train_strcol=[]\n",
    "for i in col1:\n",
    "    if Train_X[i].dtype == 'int64':\n",
    "        train_numcol.append(i)\n",
    "    elif Train_X[i].dtype == 'object':\n",
    "        train_strcol.append(i)\n",
    "        "
   ]
  },
  {
   "cell_type": "code",
   "execution_count": 15,
   "metadata": {},
   "outputs": [],
   "source": [
    "col2=Test_X.columns.values\n",
    "test_numcol=[]\n",
    "test_strcol=[]\n",
    "for i in col1:\n",
    "    if Train_X[i].dtype == 'int64':\n",
    "        test_numcol.append(i)\n",
    "    elif Train_X[i].dtype == 'object':\n",
    "        test_strcol.append(i)"
   ]
  },
  {
   "cell_type": "code",
   "execution_count": 16,
   "metadata": {},
   "outputs": [],
   "source": [
    "# 스케일링\n",
    "from sklearn.preprocessing import StandardScaler\n",
    "scaler=StandardScaler()\n",
    "Train_X.loc[:,train_numcol]=scaler.fit_transform(Train_X.loc[:,train_numcol])\n",
    "Test_X.loc[:,test_numcol]=scaler.fit_transform(Test_X.loc[:,test_numcol])"
   ]
  },
  {
   "cell_type": "code",
   "execution_count": 17,
   "metadata": {},
   "outputs": [],
   "source": [
    "# 인코딩\n",
    "Train_X=pd.get_dummies(Train_X)\n",
    "Test_X=pd.get_dummies(Test_X)"
   ]
  },
  {
   "cell_type": "code",
   "execution_count": 18,
   "metadata": {},
   "outputs": [],
   "source": [
    "a1=Train_X.columns.values"
   ]
  },
  {
   "cell_type": "code",
   "execution_count": 19,
   "metadata": {},
   "outputs": [],
   "source": [
    "b1=Test_X.columns.values"
   ]
  },
  {
   "cell_type": "code",
   "execution_count": 20,
   "metadata": {},
   "outputs": [
    {
     "data": {
      "text/plain": [
       "['ad1_NW', 'ad1_SP', 'ad1_WOID']"
      ]
     },
     "execution_count": 20,
     "metadata": {},
     "output_type": "execute_result"
    }
   ],
   "source": [
    "# test에 없는 train 컬럼\n",
    "l12=[]\n",
    "for i in a1:\n",
    "    if i not in b1:\n",
    "        l12.append(i)\n",
    "l12"
   ]
  },
  {
   "cell_type": "code",
   "execution_count": 21,
   "metadata": {},
   "outputs": [
    {
     "data": {
      "text/plain": [
       "['ad1_ADS', 'ad1_CVB', 'ad1_DY', 'ad1_GR', 'ad1_VO', 'ad1_WH', 'ad1_X']"
      ]
     },
     "execution_count": 21,
     "metadata": {},
     "output_type": "execute_result"
    }
   ],
   "source": [
    "# train에 없는 test 컬럼\n",
    "l11=[]\n",
    "for i in b1:\n",
    "    if i not in a1:\n",
    "        l11.append(i)\n",
    "l11"
   ]
  },
  {
   "cell_type": "code",
   "execution_count": 22,
   "metadata": {},
   "outputs": [],
   "source": [
    "Train_X=Train_X.drop(l12,axis=1)"
   ]
  },
  {
   "cell_type": "code",
   "execution_count": 23,
   "metadata": {},
   "outputs": [],
   "source": [
    "Test_X=Test_X.drop(l11,axis=1)"
   ]
  },
  {
   "cell_type": "markdown",
   "metadata": {},
   "source": [
    "#### 모델링"
   ]
  },
  {
   "cell_type": "code",
   "execution_count": 24,
   "metadata": {},
   "outputs": [
    {
     "data": {
      "text/plain": [
       "XGBRegressor(base_score=0.5, booster='gbtree', colsample_bylevel=1,\n",
       "             colsample_bynode=1, colsample_bytree=1, gamma=0, gpu_id=-1,\n",
       "             importance_type='gain', interaction_constraints='',\n",
       "             learning_rate=0.300000012, max_delta_step=0, max_depth=6,\n",
       "             min_child_weight=1, missing=nan, monotone_constraints='()',\n",
       "             n_estimators=100, n_jobs=8, num_parallel_tree=1, random_state=42,\n",
       "             reg_alpha=0, reg_lambda=1, scale_pos_weight=1, subsample=1,\n",
       "             tree_method='exact', validate_parameters=1, verbosity=None)"
      ]
     },
     "execution_count": 24,
     "metadata": {},
     "output_type": "execute_result"
    }
   ],
   "source": [
    "from xgboost import XGBRegressor\n",
    "from sklearn.model_selection import GridSearchCV\n",
    "\n",
    "xgb_reg=XGBRegressor(random_state=42)\n",
    "\n",
    "#params = [{ 'max_depth' : [3,7,10]}]\n",
    "\n",
    "#girdcv=GridSearchCV(estimator=xgb_reg,\n",
    "#                       param_grid=params,\n",
    "#                       scoring='neg_mean_squared_error',\n",
    "#                       cv=5)\n",
    "\n",
    "xgb_reg.fit(Train_X,Train_y)"
   ]
  },
  {
   "cell_type": "code",
   "execution_count": 25,
   "metadata": {},
   "outputs": [],
   "source": [
    "# grid_df = pd.DataFrame(girdcv.cv_results_)\n",
    "# grid_df.loc[:, ['mean_test_score', \"params\"]]"
   ]
  },
  {
   "cell_type": "code",
   "execution_count": 26,
   "metadata": {},
   "outputs": [],
   "source": [
    "y_pred=xgb_reg.predict(Test_X)"
   ]
  },
  {
   "cell_type": "code",
   "execution_count": 27,
   "metadata": {},
   "outputs": [
    {
     "data": {
      "text/plain": [
       "array([1.0164901 , 0.9944212 , 1.0125068 , ..., 0.98289543, 0.97814393,\n",
       "       0.9943313 ], dtype=float32)"
      ]
     },
     "execution_count": 27,
     "metadata": {},
     "output_type": "execute_result"
    }
   ],
   "source": [
    "y_pred"
   ]
  },
  {
   "cell_type": "code",
   "execution_count": 28,
   "metadata": {},
   "outputs": [],
   "source": [
    "from sklearn.metrics import mean_squared_error\n",
    "from sklearn.metrics import mean_absolute_error"
   ]
  },
  {
   "cell_type": "code",
   "execution_count": 29,
   "metadata": {},
   "outputs": [
    {
     "data": {
      "text/plain": [
       "623579    1\n",
       "623580    1\n",
       "623581    1\n",
       "623582    1\n",
       "623583    1\n",
       "         ..\n",
       "879266    1\n",
       "879267    1\n",
       "879268    1\n",
       "879269    1\n",
       "879270    1\n",
       "Name: count, Length: 255692, dtype: int64"
      ]
     },
     "execution_count": 29,
     "metadata": {},
     "output_type": "execute_result"
    }
   ],
   "source": [
    "Test_y"
   ]
  },
  {
   "cell_type": "code",
   "execution_count": 30,
   "metadata": {},
   "outputs": [
    {
     "data": {
      "text/plain": [
       "623579    1\n",
       "623580    1\n",
       "623581    1\n",
       "623582    1\n",
       "623583    1\n",
       "         ..\n",
       "879266    1\n",
       "879267    1\n",
       "879268    1\n",
       "879269    1\n",
       "879270    1\n",
       "Name: count, Length: 255692, dtype: int64"
      ]
     },
     "execution_count": 30,
     "metadata": {},
     "output_type": "execute_result"
    }
   ],
   "source": [
    "Test_y"
   ]
  },
  {
   "cell_type": "markdown",
   "metadata": {},
   "source": [
    "#### MSE"
   ]
  },
  {
   "cell_type": "code",
   "execution_count": 31,
   "metadata": {},
   "outputs": [
    {
     "data": {
      "text/plain": [
       "0.4574057987965948"
      ]
     },
     "execution_count": 31,
     "metadata": {},
     "output_type": "execute_result"
    }
   ],
   "source": [
    "mean_squared_error(Test_y,y_pred)"
   ]
  },
  {
   "cell_type": "markdown",
   "metadata": {},
   "source": [
    "#### MAE"
   ]
  },
  {
   "cell_type": "code",
   "execution_count": 32,
   "metadata": {
    "scrolled": true
   },
   "outputs": [
    {
     "data": {
      "text/plain": [
       "0.054749509685301574"
      ]
     },
     "execution_count": 32,
     "metadata": {},
     "output_type": "execute_result"
    }
   ],
   "source": [
    "mean_absolute_error(Test_y,y_pred)"
   ]
  },
  {
   "cell_type": "markdown",
   "metadata": {},
   "source": [
    "***"
   ]
  },
  {
   "cell_type": "markdown",
   "metadata": {},
   "source": [
    "## Ⅲ. 요일별 이용량에 대한 분석 - EDA\n",
    "- 금>목>수>토>화>월>일순으로 데이터가 있고, 일요일이 다른 요일에 비해 상당히 적다.\n",
    "- 어플에서는 평일 ,휴일, 당일, 심야 3,5,12,24시간권 등이 있다.\n",
    "- 주어진 db데이터 내에서는 시간에 대해서는 알 수 없고, 평일 휴일을 구분할 수 있다."
   ]
  },
  {
   "cell_type": "code",
   "execution_count": 33,
   "metadata": {},
   "outputs": [
    {
     "data": {
      "text/html": [
       "<div>\n",
       "<style scoped>\n",
       "    .dataframe tbody tr th:only-of-type {\n",
       "        vertical-align: middle;\n",
       "    }\n",
       "\n",
       "    .dataframe tbody tr th {\n",
       "        vertical-align: top;\n",
       "    }\n",
       "\n",
       "    .dataframe thead th {\n",
       "        text-align: right;\n",
       "    }\n",
       "</style>\n",
       "<table border=\"1\" class=\"dataframe\">\n",
       "  <thead>\n",
       "    <tr style=\"text-align: right;\">\n",
       "      <th></th>\n",
       "      <th>user_id</th>\n",
       "      <th>join_date</th>\n",
       "      <th>d_type</th>\n",
       "      <th>store_id</th>\n",
       "      <th>goods_type</th>\n",
       "      <th>date</th>\n",
       "      <th>count</th>\n",
       "      <th>ad1</th>\n",
       "      <th>weekday</th>\n",
       "      <th>j_y</th>\n",
       "      <th>j_m</th>\n",
       "      <th>j_day</th>\n",
       "      <th>j_wday</th>\n",
       "      <th>p_y</th>\n",
       "      <th>p_m</th>\n",
       "      <th>p_day</th>\n",
       "      <th>p_wday</th>\n",
       "    </tr>\n",
       "  </thead>\n",
       "  <tbody>\n",
       "    <tr>\n",
       "      <th>0</th>\n",
       "      <td>2858</td>\n",
       "      <td>2014-01-07</td>\n",
       "      <td>AA</td>\n",
       "      <td>1892</td>\n",
       "      <td>A</td>\n",
       "      <td>2020-01-01</td>\n",
       "      <td>1</td>\n",
       "      <td>GN</td>\n",
       "      <td>wednesday</td>\n",
       "      <td>2014</td>\n",
       "      <td>1</td>\n",
       "      <td>7</td>\n",
       "      <td>1</td>\n",
       "      <td>2020</td>\n",
       "      <td>1</td>\n",
       "      <td>1</td>\n",
       "      <td>2</td>\n",
       "    </tr>\n",
       "    <tr>\n",
       "      <th>1</th>\n",
       "      <td>5647</td>\n",
       "      <td>2014-02-14</td>\n",
       "      <td>BB</td>\n",
       "      <td>182009</td>\n",
       "      <td>A</td>\n",
       "      <td>2020-01-01</td>\n",
       "      <td>1</td>\n",
       "      <td>J</td>\n",
       "      <td>wednesday</td>\n",
       "      <td>2014</td>\n",
       "      <td>2</td>\n",
       "      <td>14</td>\n",
       "      <td>4</td>\n",
       "      <td>2020</td>\n",
       "      <td>1</td>\n",
       "      <td>1</td>\n",
       "      <td>2</td>\n",
       "    </tr>\n",
       "    <tr>\n",
       "      <th>2</th>\n",
       "      <td>33314</td>\n",
       "      <td>2014-11-20</td>\n",
       "      <td>BB</td>\n",
       "      <td>82431</td>\n",
       "      <td>A</td>\n",
       "      <td>2020-01-01</td>\n",
       "      <td>1</td>\n",
       "      <td>SC</td>\n",
       "      <td>wednesday</td>\n",
       "      <td>2014</td>\n",
       "      <td>11</td>\n",
       "      <td>20</td>\n",
       "      <td>3</td>\n",
       "      <td>2020</td>\n",
       "      <td>1</td>\n",
       "      <td>1</td>\n",
       "      <td>2</td>\n",
       "    </tr>\n",
       "    <tr>\n",
       "      <th>3</th>\n",
       "      <td>37001</td>\n",
       "      <td>2014-12-04</td>\n",
       "      <td>BB</td>\n",
       "      <td>725</td>\n",
       "      <td>C</td>\n",
       "      <td>2020-01-01</td>\n",
       "      <td>1</td>\n",
       "      <td>MP</td>\n",
       "      <td>wednesday</td>\n",
       "      <td>2014</td>\n",
       "      <td>12</td>\n",
       "      <td>4</td>\n",
       "      <td>3</td>\n",
       "      <td>2020</td>\n",
       "      <td>1</td>\n",
       "      <td>1</td>\n",
       "      <td>2</td>\n",
       "    </tr>\n",
       "    <tr>\n",
       "      <th>4</th>\n",
       "      <td>37819</td>\n",
       "      <td>2014-12-07</td>\n",
       "      <td>AA</td>\n",
       "      <td>220691</td>\n",
       "      <td>C</td>\n",
       "      <td>2020-01-01</td>\n",
       "      <td>1</td>\n",
       "      <td>JRR</td>\n",
       "      <td>wednesday</td>\n",
       "      <td>2014</td>\n",
       "      <td>12</td>\n",
       "      <td>7</td>\n",
       "      <td>6</td>\n",
       "      <td>2020</td>\n",
       "      <td>1</td>\n",
       "      <td>1</td>\n",
       "      <td>2</td>\n",
       "    </tr>\n",
       "    <tr>\n",
       "      <th>...</th>\n",
       "      <td>...</td>\n",
       "      <td>...</td>\n",
       "      <td>...</td>\n",
       "      <td>...</td>\n",
       "      <td>...</td>\n",
       "      <td>...</td>\n",
       "      <td>...</td>\n",
       "      <td>...</td>\n",
       "      <td>...</td>\n",
       "      <td>...</td>\n",
       "      <td>...</td>\n",
       "      <td>...</td>\n",
       "      <td>...</td>\n",
       "      <td>...</td>\n",
       "      <td>...</td>\n",
       "      <td>...</td>\n",
       "      <td>...</td>\n",
       "    </tr>\n",
       "    <tr>\n",
       "      <th>879266</th>\n",
       "      <td>1830551</td>\n",
       "      <td>2020-12-31</td>\n",
       "      <td>BB</td>\n",
       "      <td>219886</td>\n",
       "      <td>B</td>\n",
       "      <td>2020-12-31</td>\n",
       "      <td>1</td>\n",
       "      <td>GN</td>\n",
       "      <td>thursday</td>\n",
       "      <td>2020</td>\n",
       "      <td>12</td>\n",
       "      <td>31</td>\n",
       "      <td>3</td>\n",
       "      <td>2020</td>\n",
       "      <td>12</td>\n",
       "      <td>31</td>\n",
       "      <td>3</td>\n",
       "    </tr>\n",
       "    <tr>\n",
       "      <th>879267</th>\n",
       "      <td>1830570</td>\n",
       "      <td>2020-12-31</td>\n",
       "      <td>BB</td>\n",
       "      <td>82433</td>\n",
       "      <td>B</td>\n",
       "      <td>2020-12-31</td>\n",
       "      <td>1</td>\n",
       "      <td>CY</td>\n",
       "      <td>thursday</td>\n",
       "      <td>2020</td>\n",
       "      <td>12</td>\n",
       "      <td>31</td>\n",
       "      <td>3</td>\n",
       "      <td>2020</td>\n",
       "      <td>12</td>\n",
       "      <td>31</td>\n",
       "      <td>3</td>\n",
       "    </tr>\n",
       "    <tr>\n",
       "      <th>879268</th>\n",
       "      <td>1830580</td>\n",
       "      <td>2020-12-31</td>\n",
       "      <td>AA</td>\n",
       "      <td>92020</td>\n",
       "      <td>B</td>\n",
       "      <td>2020-12-31</td>\n",
       "      <td>1</td>\n",
       "      <td>JRR</td>\n",
       "      <td>thursday</td>\n",
       "      <td>2020</td>\n",
       "      <td>12</td>\n",
       "      <td>31</td>\n",
       "      <td>3</td>\n",
       "      <td>2020</td>\n",
       "      <td>12</td>\n",
       "      <td>31</td>\n",
       "      <td>3</td>\n",
       "    </tr>\n",
       "    <tr>\n",
       "      <th>879269</th>\n",
       "      <td>1830589</td>\n",
       "      <td>2020-12-31</td>\n",
       "      <td>BB</td>\n",
       "      <td>92437</td>\n",
       "      <td>B</td>\n",
       "      <td>2020-12-31</td>\n",
       "      <td>1</td>\n",
       "      <td>J</td>\n",
       "      <td>thursday</td>\n",
       "      <td>2020</td>\n",
       "      <td>12</td>\n",
       "      <td>31</td>\n",
       "      <td>3</td>\n",
       "      <td>2020</td>\n",
       "      <td>12</td>\n",
       "      <td>31</td>\n",
       "      <td>3</td>\n",
       "    </tr>\n",
       "    <tr>\n",
       "      <th>879270</th>\n",
       "      <td>1830598</td>\n",
       "      <td>2020-12-31</td>\n",
       "      <td>AA</td>\n",
       "      <td>220959</td>\n",
       "      <td>B</td>\n",
       "      <td>2020-12-31</td>\n",
       "      <td>1</td>\n",
       "      <td>SC</td>\n",
       "      <td>thursday</td>\n",
       "      <td>2020</td>\n",
       "      <td>12</td>\n",
       "      <td>31</td>\n",
       "      <td>3</td>\n",
       "      <td>2020</td>\n",
       "      <td>12</td>\n",
       "      <td>31</td>\n",
       "      <td>3</td>\n",
       "    </tr>\n",
       "  </tbody>\n",
       "</table>\n",
       "<p>879271 rows × 17 columns</p>\n",
       "</div>"
      ],
      "text/plain": [
       "        user_id  join_date d_type  store_id goods_type       date  count  ad1  \\\n",
       "0          2858 2014-01-07     AA      1892          A 2020-01-01      1   GN   \n",
       "1          5647 2014-02-14     BB    182009          A 2020-01-01      1    J   \n",
       "2         33314 2014-11-20     BB     82431          A 2020-01-01      1   SC   \n",
       "3         37001 2014-12-04     BB       725          C 2020-01-01      1   MP   \n",
       "4         37819 2014-12-07     AA    220691          C 2020-01-01      1  JRR   \n",
       "...         ...        ...    ...       ...        ...        ...    ...  ...   \n",
       "879266  1830551 2020-12-31     BB    219886          B 2020-12-31      1   GN   \n",
       "879267  1830570 2020-12-31     BB     82433          B 2020-12-31      1   CY   \n",
       "879268  1830580 2020-12-31     AA     92020          B 2020-12-31      1  JRR   \n",
       "879269  1830589 2020-12-31     BB     92437          B 2020-12-31      1    J   \n",
       "879270  1830598 2020-12-31     AA    220959          B 2020-12-31      1   SC   \n",
       "\n",
       "          weekday   j_y  j_m  j_day  j_wday   p_y  p_m  p_day  p_wday  \n",
       "0       wednesday  2014    1      7       1  2020    1      1       2  \n",
       "1       wednesday  2014    2     14       4  2020    1      1       2  \n",
       "2       wednesday  2014   11     20       3  2020    1      1       2  \n",
       "3       wednesday  2014   12      4       3  2020    1      1       2  \n",
       "4       wednesday  2014   12      7       6  2020    1      1       2  \n",
       "...           ...   ...  ...    ...     ...   ...  ...    ...     ...  \n",
       "879266   thursday  2020   12     31       3  2020   12     31       3  \n",
       "879267   thursday  2020   12     31       3  2020   12     31       3  \n",
       "879268   thursday  2020   12     31       3  2020   12     31       3  \n",
       "879269   thursday  2020   12     31       3  2020   12     31       3  \n",
       "879270   thursday  2020   12     31       3  2020   12     31       3  \n",
       "\n",
       "[879271 rows x 17 columns]"
      ]
     },
     "execution_count": 33,
     "metadata": {},
     "output_type": "execute_result"
    }
   ],
   "source": [
    "df"
   ]
  },
  {
   "cell_type": "code",
   "execution_count": 34,
   "metadata": {},
   "outputs": [],
   "source": [
    "from pandas.tseries.holiday import AbstractHolidayCalendar, Holiday\n",
    "class Calendar(AbstractHolidayCalendar):\n",
    "    rules = [\n",
    "        Holiday('New Year', month=1, day=1),\n",
    "        Holiday('KR_New Year1', month=1, day=24),\n",
    "        Holiday('KR_New Year2', month=1, day=25),\n",
    "        Holiday('KR_New Year3', month=1, day=26),\n",
    "        Holiday('3.1', month=3, day=1),\n",
    "        Holiday('Buddha Day', month=4, day=30),\n",
    "        Holiday('Memorial Day', month=6, day=6),\n",
    "        Holiday('Liberation Day', month=8, day=15),\n",
    "        Holiday('KR_Thanksgiving1', month=9, day=30),\n",
    "        Holiday('KR_Thanksgiving2', month=10, day=1),\n",
    "        Holiday('KR_Thanksgiving3', month=10, day=2),\n",
    "        Holiday('National Foundation Day', month=10, day=3),\n",
    "        Holiday('Hangul Day', month=10, day=9),\n",
    "        Holiday('Christmas', month=12, day=25)\n",
    "    ]\n",
    "       \n",
    "dr = pd.date_range(start='2020-01-01', end='2020-12-31')\n",
    "cal = Calendar()\n",
    "holidays = cal.holidays(start=dr.min(), end=dr.max())\n",
    "df['holiday'] = df['date'].isin(holidays)"
   ]
  },
  {
   "cell_type": "code",
   "execution_count": 35,
   "metadata": {},
   "outputs": [
    {
     "data": {
      "text/plain": [
       "date\n",
       "Friday       141837\n",
       "Thursday     137323\n",
       "Wednesday    136034\n",
       "Saturday     135906\n",
       "Tuesday      134288\n",
       "Monday       130447\n",
       "Sunday        89004\n",
       "Name: count, dtype: int64"
      ]
     },
     "execution_count": 35,
     "metadata": {},
     "output_type": "execute_result"
    }
   ],
   "source": [
    "# 요일별 이용횟수의 합\n",
    "df.groupby(df.date.dt.day_name())['count'].sum().sort_values(ascending=False)"
   ]
  },
  {
   "cell_type": "code",
   "execution_count": 36,
   "metadata": {},
   "outputs": [
    {
     "data": {
      "text/plain": [
       "<matplotlib.axes._subplots.AxesSubplot at 0x20f9efbbd88>"
      ]
     },
     "execution_count": 36,
     "metadata": {},
     "output_type": "execute_result"
    },
    {
     "data": {
      "image/png": "[encoded data removed]",
      "text/plain": [
       "<Figure size 432x288 with 1 Axes>"
      ]
     },
     "metadata": {
      "needs_background": "light"
     },
     "output_type": "display_data"
    }
   ],
   "source": [
    "sns.countplot(x= df.date.dt.day_name(), data=df)"
   ]
  },
  {
   "cell_type": "markdown",
   "metadata": {},
   "source": [
    "- 해당 주차장 예약 이용 서비스는 일요일에 특히 적고 금요일에 많이 이용하는 특징이 있다."
   ]
  },
  {
   "cell_type": "code",
   "execution_count": 37,
   "metadata": {},
   "outputs": [],
   "source": [
    "df['weekday']=[i.lower() for i in df.date.dt.day_name()]"
   ]
  },
  {
   "cell_type": "code",
   "execution_count": 38,
   "metadata": {},
   "outputs": [
    {
     "data": {
      "text/html": [
       "<style type=\"text/css\">\n",
       "#T_a367b_row0_col0 {\n",
       "  background-color: #3181bd;\n",
       "  color: #f1f1f1;\n",
       "}\n",
       "#T_a367b_row0_col1 {\n",
       "  background-color: #539ecd;\n",
       "  color: #f1f1f1;\n",
       "}\n",
       "#T_a367b_row0_col2 {\n",
       "  background-color: #e8f1fa;\n",
       "  color: #000000;\n",
       "}\n",
       "#T_a367b_row0_col3, #T_a367b_row4_col1, #T_a367b_row5_col0, #T_a367b_row5_col2 {\n",
       "  background-color: #08306b;\n",
       "  color: #f1f1f1;\n",
       "}\n",
       "#T_a367b_row1_col0, #T_a367b_row2_col0 {\n",
       "  background-color: #2f7fbc;\n",
       "  color: #f1f1f1;\n",
       "}\n",
       "#T_a367b_row1_col1 {\n",
       "  background-color: #2979b9;\n",
       "  color: #f1f1f1;\n",
       "}\n",
       "#T_a367b_row1_col2 {\n",
       "  background-color: #d6e6f4;\n",
       "  color: #000000;\n",
       "}\n",
       "#T_a367b_row1_col3 {\n",
       "  background-color: #3a8ac2;\n",
       "  color: #f1f1f1;\n",
       "}\n",
       "#T_a367b_row2_col1 {\n",
       "  background-color: #206fb4;\n",
       "  color: #f1f1f1;\n",
       "}\n",
       "#T_a367b_row2_col2 {\n",
       "  background-color: #c4daee;\n",
       "  color: #000000;\n",
       "}\n",
       "#T_a367b_row2_col3 {\n",
       "  background-color: #3585bf;\n",
       "  color: #f1f1f1;\n",
       "}\n",
       "#T_a367b_row3_col0 {\n",
       "  background-color: #3080bd;\n",
       "  color: #f1f1f1;\n",
       "}\n",
       "#T_a367b_row3_col1 {\n",
       "  background-color: #1663aa;\n",
       "  color: #f1f1f1;\n",
       "}\n",
       "#T_a367b_row3_col2 {\n",
       "  background-color: #c2d9ee;\n",
       "  color: #000000;\n",
       "}\n",
       "#T_a367b_row3_col3 {\n",
       "  background-color: #2777b8;\n",
       "  color: #f1f1f1;\n",
       "}\n",
       "#T_a367b_row4_col0 {\n",
       "  background-color: #4594c7;\n",
       "  color: #f1f1f1;\n",
       "}\n",
       "#T_a367b_row4_col2 {\n",
       "  background-color: #7cb7da;\n",
       "  color: #000000;\n",
       "}\n",
       "#T_a367b_row4_col3 {\n",
       "  background-color: #1967ad;\n",
       "  color: #f1f1f1;\n",
       "}\n",
       "#T_a367b_row5_col1 {\n",
       "  background-color: #d9e8f5;\n",
       "  color: #000000;\n",
       "}\n",
       "#T_a367b_row5_col3 {\n",
       "  background-color: #b9d6ea;\n",
       "  color: #000000;\n",
       "}\n",
       "#T_a367b_row6_col0, #T_a367b_row6_col1, #T_a367b_row6_col2, #T_a367b_row6_col3 {\n",
       "  background-color: #f7fbff;\n",
       "  color: #000000;\n",
       "}\n",
       "</style>\n",
       "<table id=\"T_a367b_\">\n",
       "  <thead>\n",
       "    <tr>\n",
       "      <th class=\"index_name level0\" >goods_type</th>\n",
       "      <th class=\"col_heading level0 col0\" >A</th>\n",
       "      <th class=\"col_heading level0 col1\" >B</th>\n",
       "      <th class=\"col_heading level0 col2\" >C</th>\n",
       "      <th class=\"col_heading level0 col3\" >D</th>\n",
       "    </tr>\n",
       "    <tr>\n",
       "      <th class=\"index_name level0\" >weekday</th>\n",
       "      <th class=\"blank col0\" >&nbsp;</th>\n",
       "      <th class=\"blank col1\" >&nbsp;</th>\n",
       "      <th class=\"blank col2\" >&nbsp;</th>\n",
       "      <th class=\"blank col3\" >&nbsp;</th>\n",
       "    </tr>\n",
       "  </thead>\n",
       "  <tbody>\n",
       "    <tr>\n",
       "      <th id=\"T_a367b_level0_row0\" class=\"row_heading level0 row0\" >monday</th>\n",
       "      <td id=\"T_a367b_row0_col0\" class=\"data row0 col0\" >0.146114</td>\n",
       "      <td id=\"T_a367b_row0_col1\" class=\"data row0 col1\" >0.143351</td>\n",
       "      <td id=\"T_a367b_row0_col2\" class=\"data row0 col2\" >0.127574</td>\n",
       "      <td id=\"T_a367b_row0_col3\" class=\"data row0 col3\" >0.213733</td>\n",
       "    </tr>\n",
       "    <tr>\n",
       "      <th id=\"T_a367b_level0_row1\" class=\"row_heading level0 row1\" >tuesday</th>\n",
       "      <td id=\"T_a367b_row1_col0\" class=\"data row1 col0\" >0.146608</td>\n",
       "      <td id=\"T_a367b_row1_col1\" class=\"data row1 col1\" >0.174994</td>\n",
       "      <td id=\"T_a367b_row1_col2\" class=\"data row1 col2\" >0.133338</td>\n",
       "      <td id=\"T_a367b_row1_col3\" class=\"data row1 col3\" >0.154118</td>\n",
       "    </tr>\n",
       "    <tr>\n",
       "      <th id=\"T_a367b_level0_row2\" class=\"row_heading level0 row2\" >wednesday</th>\n",
       "      <td id=\"T_a367b_row2_col0\" class=\"data row2 col0\" >0.146542</td>\n",
       "      <td id=\"T_a367b_row2_col1\" class=\"data row2 col1\" >0.182097</td>\n",
       "      <td id=\"T_a367b_row2_col2\" class=\"data row2 col2\" >0.138995</td>\n",
       "      <td id=\"T_a367b_row2_col3\" class=\"data row2 col3\" >0.157152</td>\n",
       "    </tr>\n",
       "    <tr>\n",
       "      <th id=\"T_a367b_level0_row3\" class=\"row_heading level0 row3\" >thursday</th>\n",
       "      <td id=\"T_a367b_row3_col0\" class=\"data row3 col0\" >0.146355</td>\n",
       "      <td id=\"T_a367b_row3_col1\" class=\"data row3 col1\" >0.192279</td>\n",
       "      <td id=\"T_a367b_row3_col2\" class=\"data row3 col2\" >0.139452</td>\n",
       "      <td id=\"T_a367b_row3_col3\" class=\"data row3 col3\" >0.166153</td>\n",
       "    </tr>\n",
       "    <tr>\n",
       "      <th id=\"T_a367b_level0_row4\" class=\"row_heading level0 row4\" >friday</th>\n",
       "      <td id=\"T_a367b_row4_col0\" class=\"data row4 col0\" >0.142118</td>\n",
       "      <td id=\"T_a367b_row4_col1\" class=\"data row4 col1\" >0.234915</td>\n",
       "      <td id=\"T_a367b_row4_col2\" class=\"data row4 col2\" >0.151819</td>\n",
       "      <td id=\"T_a367b_row4_col3\" class=\"data row4 col3\" >0.176720</td>\n",
       "    </tr>\n",
       "    <tr>\n",
       "      <th id=\"T_a367b_level0_row5\" class=\"row_heading level0 row5\" >saturday</th>\n",
       "      <td id=\"T_a367b_row5_col0\" class=\"data row5 col0\" >0.162430</td>\n",
       "      <td id=\"T_a367b_row5_col1\" class=\"data row5 col1\" >0.052454</td>\n",
       "      <td id=\"T_a367b_row5_col2\" class=\"data row5 col2\" >0.186127</td>\n",
       "      <td id=\"T_a367b_row5_col3\" class=\"data row5 col3\" >0.091065</td>\n",
       "    </tr>\n",
       "    <tr>\n",
       "      <th id=\"T_a367b_level0_row6\" class=\"row_heading level0 row6\" >sunday</th>\n",
       "      <td id=\"T_a367b_row6_col0\" class=\"data row6 col0\" >0.109833</td>\n",
       "      <td id=\"T_a367b_row6_col1\" class=\"data row6 col1\" >0.019909</td>\n",
       "      <td id=\"T_a367b_row6_col2\" class=\"data row6 col2\" >0.122695</td>\n",
       "      <td id=\"T_a367b_row6_col3\" class=\"data row6 col3\" >0.041058</td>\n",
       "    </tr>\n",
       "  </tbody>\n",
       "</table>\n"
      ],
      "text/plain": [
       "<pandas.io.formats.style.Styler at 0x20f900cd8c8>"
      ]
     },
     "execution_count": 38,
     "metadata": {},
     "output_type": "execute_result"
    }
   ],
   "source": [
    "wday=['monday','tuesday','wednesday','thursday','friday','saturday','sunday']\n",
    "pd.crosstab(df['weekday'], \n",
    "            df['goods_type'], normalize=1).loc[wday,:].style.background_gradient(cmap ='Blues')"
   ]
  },
  {
   "cell_type": "markdown",
   "metadata": {},
   "source": [
    "- 요일별로 goods_type의 차이가 있음"
   ]
  },
  {
   "cell_type": "markdown",
   "metadata": {},
   "source": [
    "#### (2) 요일별 지역별(store_id)별 분석\n",
    "- 이상값 제거"
   ]
  },
  {
   "cell_type": "code",
   "execution_count": 39,
   "metadata": {},
   "outputs": [],
   "source": [
    "a1=df.groupby(['weekday','store_id'])['count'].sum().unstack()"
   ]
  },
  {
   "cell_type": "code",
   "execution_count": 40,
   "metadata": {},
   "outputs": [],
   "source": [
    "q1=df.groupby(['weekday','store_id'])['count'].sum().quantile(0.25)"
   ]
  },
  {
   "cell_type": "code",
   "execution_count": 41,
   "metadata": {},
   "outputs": [],
   "source": [
    "q3=df.groupby(['weekday','store_id'])['count'].sum().quantile(0.75)"
   ]
  },
  {
   "cell_type": "code",
   "execution_count": 42,
   "metadata": {},
   "outputs": [],
   "source": [
    "iqr=q3-q1"
   ]
  },
  {
   "cell_type": "code",
   "execution_count": 43,
   "metadata": {},
   "outputs": [],
   "source": [
    "a11=df.groupby(['weekday','store_id'])['count'].sum().reset_index()\n",
    "a1=a11.query(\"(count >= @q1-1.5*@iqr) and (count <= @q3+1.5*@iqr)\")\n",
    "a1=a1.fillna(0.0)"
   ]
  },
  {
   "cell_type": "code",
   "execution_count": 44,
   "metadata": {},
   "outputs": [],
   "source": [
    "a1=a1.pivot(index='weekday',columns='store_id',values='count')"
   ]
  },
  {
   "cell_type": "markdown",
   "metadata": {},
   "source": [
    "#### 전체 데이터에서 요일별 이용횟수의 평균을 구하면 차이는 소수점단위로 있으나 이용횟수는 정수단위이므로 의미가 없다.\n",
    "#### 반면 <U>요일별 주차장별 이용횟수의 합계의 요일별 평균은 차이가 있다.</U>"
   ]
  },
  {
   "cell_type": "code",
   "execution_count": 45,
   "metadata": {},
   "outputs": [
    {
     "data": {
      "text/html": [
       "<style type=\"text/css\">\n",
       "#T_eb4a5_row0_col1 {\n",
       "  background-color: #dadada;\n",
       "  color: #000000;\n",
       "}\n",
       "#T_eb4a5_row1_col1 {\n",
       "  background-color: #ffffff;\n",
       "  color: #000000;\n",
       "}\n",
       "#T_eb4a5_row2_col1 {\n",
       "  background-color: #000000;\n",
       "  color: #f1f1f1;\n",
       "}\n",
       "#T_eb4a5_row3_col1 {\n",
       "  background-color: #4b4b4b;\n",
       "  color: #f1f1f1;\n",
       "}\n",
       "#T_eb4a5_row4_col1 {\n",
       "  background-color: #ececec;\n",
       "  color: #000000;\n",
       "}\n",
       "#T_eb4a5_row5_col1 {\n",
       "  background-color: #f0f0f0;\n",
       "  color: #000000;\n",
       "}\n",
       "#T_eb4a5_row6_col1 {\n",
       "  background-color: #dcdcdc;\n",
       "  color: #000000;\n",
       "}\n",
       "</style>\n",
       "<table id=\"T_eb4a5_\">\n",
       "  <thead>\n",
       "    <tr>\n",
       "      <th class=\"blank level0\" >&nbsp;</th>\n",
       "      <th class=\"col_heading level0 col0\" >weekday</th>\n",
       "      <th class=\"col_heading level0 col1\" >count</th>\n",
       "    </tr>\n",
       "  </thead>\n",
       "  <tbody>\n",
       "    <tr>\n",
       "      <th id=\"T_eb4a5_level0_row0\" class=\"row_heading level0 row0\" >0</th>\n",
       "      <td id=\"T_eb4a5_row0_col0\" class=\"data row0 col0\" >friday</td>\n",
       "      <td id=\"T_eb4a5_row0_col1\" class=\"data row0 col1\" >1.028423</td>\n",
       "    </tr>\n",
       "    <tr>\n",
       "      <th id=\"T_eb4a5_level0_row1\" class=\"row_heading level0 row1\" >1</th>\n",
       "      <td id=\"T_eb4a5_row1_col0\" class=\"data row1 col0\" >monday</td>\n",
       "      <td id=\"T_eb4a5_row1_col1\" class=\"data row1 col1\" >1.026721</td>\n",
       "    </tr>\n",
       "    <tr>\n",
       "      <th id=\"T_eb4a5_level0_row2\" class=\"row_heading level0 row2\" >2</th>\n",
       "      <td id=\"T_eb4a5_row2_col0\" class=\"data row2 col0\" >saturday</td>\n",
       "      <td id=\"T_eb4a5_row2_col1\" class=\"data row2 col1\" >1.033663</td>\n",
       "    </tr>\n",
       "    <tr>\n",
       "      <th id=\"T_eb4a5_level0_row3\" class=\"row_heading level0 row3\" >3</th>\n",
       "      <td id=\"T_eb4a5_row3_col0\" class=\"data row3 col0\" >sunday</td>\n",
       "      <td id=\"T_eb4a5_row3_col1\" class=\"data row3 col1\" >1.032050</td>\n",
       "    </tr>\n",
       "    <tr>\n",
       "      <th id=\"T_eb4a5_level0_row4\" class=\"row_heading level0 row4\" >4</th>\n",
       "      <td id=\"T_eb4a5_row4_col0\" class=\"data row4 col0\" >thursday</td>\n",
       "      <td id=\"T_eb4a5_row4_col1\" class=\"data row4 col1\" >1.027744</td>\n",
       "    </tr>\n",
       "    <tr>\n",
       "      <th id=\"T_eb4a5_level0_row5\" class=\"row_heading level0 row5\" >5</th>\n",
       "      <td id=\"T_eb4a5_row5_col0\" class=\"data row5 col0\" >tuesday</td>\n",
       "      <td id=\"T_eb4a5_row5_col1\" class=\"data row5 col1\" >1.027602</td>\n",
       "    </tr>\n",
       "    <tr>\n",
       "      <th id=\"T_eb4a5_level0_row6\" class=\"row_heading level0 row6\" >6</th>\n",
       "      <td id=\"T_eb4a5_row6_col0\" class=\"data row6 col0\" >wednesday</td>\n",
       "      <td id=\"T_eb4a5_row6_col1\" class=\"data row6 col1\" >1.028340</td>\n",
       "    </tr>\n",
       "  </tbody>\n",
       "</table>\n"
      ],
      "text/plain": [
       "<pandas.io.formats.style.Styler at 0x20f9ac1bec8>"
      ]
     },
     "execution_count": 45,
     "metadata": {},
     "output_type": "execute_result"
    }
   ],
   "source": [
    "# 요일별 이용횟수의 평균\n",
    "df.groupby('weekday')['count'].mean().reset_index().style.background_gradient(cmap ='Greys')"
   ]
  },
  {
   "cell_type": "code",
   "execution_count": 46,
   "metadata": {},
   "outputs": [],
   "source": [
    "std_a1=scaler.fit_transform(a1)"
   ]
  },
  {
   "cell_type": "code",
   "execution_count": 47,
   "metadata": {},
   "outputs": [],
   "source": [
    "std_a1=pd.DataFrame(std_a1,columns=a1.columns,index=a1.index)"
   ]
  },
  {
   "cell_type": "code",
   "execution_count": 48,
   "metadata": {},
   "outputs": [
    {
     "data": {
      "text/html": [
       "<style type=\"text/css\">\n",
       "#T_8be69_row0_col1 {\n",
       "  background-color: #aaaaaa;\n",
       "  color: #f1f1f1;\n",
       "}\n",
       "#T_8be69_row1_col1 {\n",
       "  background-color: #f6f6f6;\n",
       "  color: #000000;\n",
       "}\n",
       "#T_8be69_row2_col1 {\n",
       "  background-color: #000000;\n",
       "  color: #f1f1f1;\n",
       "}\n",
       "#T_8be69_row3_col1 {\n",
       "  background-color: #6c6c6c;\n",
       "  color: #f1f1f1;\n",
       "}\n",
       "#T_8be69_row4_col1 {\n",
       "  background-color: #f8f8f8;\n",
       "  color: #000000;\n",
       "}\n",
       "#T_8be69_row5_col1 {\n",
       "  background-color: #ffffff;\n",
       "  color: #000000;\n",
       "}\n",
       "#T_8be69_row6_col1 {\n",
       "  background-color: #fefefe;\n",
       "  color: #000000;\n",
       "}\n",
       "</style>\n",
       "<table id=\"T_8be69_\">\n",
       "  <thead>\n",
       "    <tr>\n",
       "      <th class=\"blank level0\" >&nbsp;</th>\n",
       "      <th class=\"col_heading level0 col0\" >weekday</th>\n",
       "      <th class=\"col_heading level0 col1\" >0</th>\n",
       "    </tr>\n",
       "  </thead>\n",
       "  <tbody>\n",
       "    <tr>\n",
       "      <th id=\"T_8be69_level0_row0\" class=\"row_heading level0 row0\" >0</th>\n",
       "      <td id=\"T_8be69_row0_col0\" class=\"data row0 col0\" >friday</td>\n",
       "      <td id=\"T_8be69_row0_col1\" class=\"data row0 col1\" >53.679894</td>\n",
       "    </tr>\n",
       "    <tr>\n",
       "      <th id=\"T_8be69_level0_row1\" class=\"row_heading level0 row1\" >1</th>\n",
       "      <td id=\"T_8be69_row1_col0\" class=\"data row1 col0\" >monday</td>\n",
       "      <td id=\"T_8be69_row1_col1\" class=\"data row1 col1\" >49.424516</td>\n",
       "    </tr>\n",
       "    <tr>\n",
       "      <th id=\"T_8be69_level0_row2\" class=\"row_heading level0 row2\" >2</th>\n",
       "      <td id=\"T_8be69_row2_col0\" class=\"data row2 col0\" >saturday</td>\n",
       "      <td id=\"T_8be69_row2_col1\" class=\"data row2 col1\" >60.358696</td>\n",
       "    </tr>\n",
       "    <tr>\n",
       "      <th id=\"T_8be69_level0_row3\" class=\"row_heading level0 row3\" >3</th>\n",
       "      <td id=\"T_8be69_row3_col0\" class=\"data row3 col0\" >sunday</td>\n",
       "      <td id=\"T_8be69_row3_col1\" class=\"data row3 col1\" >56.235849</td>\n",
       "    </tr>\n",
       "    <tr>\n",
       "      <th id=\"T_8be69_level0_row4\" class=\"row_heading level0 row4\" >4</th>\n",
       "      <td id=\"T_8be69_row4_col0\" class=\"data row4 col0\" >thursday</td>\n",
       "      <td id=\"T_8be69_row4_col1\" class=\"data row4 col1\" >49.200000</td>\n",
       "    </tr>\n",
       "    <tr>\n",
       "      <th id=\"T_8be69_level0_row5\" class=\"row_heading level0 row5\" >5</th>\n",
       "      <td id=\"T_8be69_row5_col0\" class=\"data row5 col0\" >tuesday</td>\n",
       "      <td id=\"T_8be69_row5_col1\" class=\"data row5 col1\" >48.520805</td>\n",
       "    </tr>\n",
       "    <tr>\n",
       "      <th id=\"T_8be69_level0_row6\" class=\"row_heading level0 row6\" >6</th>\n",
       "      <td id=\"T_8be69_row6_col0\" class=\"data row6 col0\" >wednesday</td>\n",
       "      <td id=\"T_8be69_row6_col1\" class=\"data row6 col1\" >48.686842</td>\n",
       "    </tr>\n",
       "  </tbody>\n",
       "</table>\n"
      ],
      "text/plain": [
       "<pandas.io.formats.style.Styler at 0x20f9ac19308>"
      ]
     },
     "execution_count": 48,
     "metadata": {},
     "output_type": "execute_result"
    }
   ],
   "source": [
    "# 이상값 제거후 표준화한 요일별 주차장별 이용횟수의 합계의 요일별 평균\n",
    "a1mean=a1.mean(1)\n",
    "a1mean.reset_index().style.background_gradient(cmap ='Greys')"
   ]
  },
  {
   "cell_type": "markdown",
   "metadata": {},
   "source": [
    "- 토요일과 일요일 금요일에 순서대로 요일별 주차장별 이용횟수의 합계의 평균이 높다.\n",
    "- 표준화한 경우에는 같은 기준 토요일과 일요일의 평균이 높다."
   ]
  },
  {
   "cell_type": "code",
   "execution_count": 49,
   "metadata": {
    "scrolled": false
   },
   "outputs": [
    {
     "data": {
      "text/html": [
       "<style type=\"text/css\">\n",
       "#T_c3db4_row0_col1 {\n",
       "  background-color: #c7c7c7;\n",
       "  color: #000000;\n",
       "}\n",
       "#T_c3db4_row1_col1 {\n",
       "  background-color: #fdfdfd;\n",
       "  color: #000000;\n",
       "}\n",
       "#T_c3db4_row2_col1 {\n",
       "  background-color: #000000;\n",
       "  color: #f1f1f1;\n",
       "}\n",
       "#T_c3db4_row3_col1 {\n",
       "  background-color: #303030;\n",
       "  color: #f1f1f1;\n",
       "}\n",
       "#T_c3db4_row4_col1 {\n",
       "  background-color: #ffffff;\n",
       "  color: #000000;\n",
       "}\n",
       "#T_c3db4_row5_col1 {\n",
       "  background-color: #d0d0d0;\n",
       "  color: #000000;\n",
       "}\n",
       "#T_c3db4_row6_col1 {\n",
       "  background-color: #eaeaea;\n",
       "  color: #000000;\n",
       "}\n",
       "</style>\n",
       "<table id=\"T_c3db4_\">\n",
       "  <thead>\n",
       "    <tr>\n",
       "      <th class=\"blank level0\" >&nbsp;</th>\n",
       "      <th class=\"col_heading level0 col0\" >weekday</th>\n",
       "      <th class=\"col_heading level0 col1\" >0</th>\n",
       "    </tr>\n",
       "  </thead>\n",
       "  <tbody>\n",
       "    <tr>\n",
       "      <th id=\"T_c3db4_level0_row0\" class=\"row_heading level0 row0\" >0</th>\n",
       "      <td id=\"T_c3db4_row0_col0\" class=\"data row0 col0\" >friday</td>\n",
       "      <td id=\"T_c3db4_row0_col1\" class=\"data row0 col1\" >0.157142</td>\n",
       "    </tr>\n",
       "    <tr>\n",
       "      <th id=\"T_c3db4_level0_row1\" class=\"row_heading level0 row1\" >1</th>\n",
       "      <td id=\"T_c3db4_row1_col0\" class=\"data row1 col0\" >monday</td>\n",
       "      <td id=\"T_c3db4_row1_col1\" class=\"data row1 col1\" >0.011293</td>\n",
       "    </tr>\n",
       "    <tr>\n",
       "      <th id=\"T_c3db4_level0_row2\" class=\"row_heading level0 row2\" >2</th>\n",
       "      <td id=\"T_c3db4_row2_col0\" class=\"data row2 col0\" >saturday</td>\n",
       "      <td id=\"T_c3db4_row2_col1\" class=\"data row2 col1\" >0.474830</td>\n",
       "    </tr>\n",
       "    <tr>\n",
       "      <th id=\"T_c3db4_level0_row3\" class=\"row_heading level0 row3\" >3</th>\n",
       "      <td id=\"T_c3db4_row3_col0\" class=\"data row3 col0\" >sunday</td>\n",
       "      <td id=\"T_c3db4_row3_col1\" class=\"data row3 col1\" >0.400201</td>\n",
       "    </tr>\n",
       "    <tr>\n",
       "      <th id=\"T_c3db4_level0_row4\" class=\"row_heading level0 row4\" >4</th>\n",
       "      <td id=\"T_c3db4_row4_col0\" class=\"data row4 col0\" >thursday</td>\n",
       "      <td id=\"T_c3db4_row4_col1\" class=\"data row4 col1\" >0.000455</td>\n",
       "    </tr>\n",
       "    <tr>\n",
       "      <th id=\"T_c3db4_level0_row5\" class=\"row_heading level0 row5\" >5</th>\n",
       "      <td id=\"T_c3db4_row5_col0\" class=\"data row5 col0\" >tuesday</td>\n",
       "      <td id=\"T_c3db4_row5_col1\" class=\"data row5 col1\" >0.138025</td>\n",
       "    </tr>\n",
       "    <tr>\n",
       "      <th id=\"T_c3db4_level0_row6\" class=\"row_heading level0 row6\" >6</th>\n",
       "      <td id=\"T_c3db4_row6_col0\" class=\"data row6 col0\" >wednesday</td>\n",
       "      <td id=\"T_c3db4_row6_col1\" class=\"data row6 col1\" >0.075742</td>\n",
       "    </tr>\n",
       "  </tbody>\n",
       "</table>\n"
      ],
      "text/plain": [
       "<pandas.io.formats.style.Styler at 0x20f908ad248>"
      ]
     },
     "execution_count": 49,
     "metadata": {},
     "output_type": "execute_result"
    }
   ],
   "source": [
    "# 표준화한 요일별 주차장별 이용횟수의 합계의 요일별 평균\n",
    "std_a1mean=std_a1.mean(1)\n",
    "std_a1mean=pd.Series([abs(i) for i in std_a1mean],index=std_a1mean.index)\n",
    "std_a1mean.reset_index().style.background_gradient(cmap ='Greys')"
   ]
  },
  {
   "cell_type": "markdown",
   "metadata": {},
   "source": [
    "- 일요일은 이용횟수가 비교적 낮은쪽에 모여있고, 토요일은 제일 낮은 횟수는 제외하고 비교적 쌍봉의 형태에 가깝다.\n",
    "- 즉, "
   ]
  },
  {
   "cell_type": "code",
   "execution_count": 50,
   "metadata": {},
   "outputs": [
    {
     "data": {
      "text/plain": [
       "<matplotlib.axes._subplots.AxesSubplot at 0x20f908a5a48>"
      ]
     },
     "execution_count": 50,
     "metadata": {},
     "output_type": "execute_result"
    },
    {
     "data": {
      "image/png": "[encoded data removed]",
      "text/plain": [
       "<Figure size 432x288 with 1 Axes>"
      ]
     },
     "metadata": {
      "needs_background": "light"
     },
     "output_type": "display_data"
    }
   ],
   "source": [
    "sns.distplot(std_a1.loc['sunday',:])"
   ]
  },
  {
   "cell_type": "code",
   "execution_count": 51,
   "metadata": {},
   "outputs": [
    {
     "data": {
      "text/plain": [
       "<matplotlib.axes._subplots.AxesSubplot at 0x20f9094de48>"
      ]
     },
     "execution_count": 51,
     "metadata": {},
     "output_type": "execute_result"
    },
    {
     "data": {
      "image/png": "[encoded data removed]",
      "text/plain": [
       "<Figure size 432x288 with 1 Axes>"
      ]
     },
     "metadata": {
      "needs_background": "light"
     },
     "output_type": "display_data"
    }
   ],
   "source": [
    "sns.distplot(std_a1.loc['saturday',:])"
   ]
  },
  {
   "cell_type": "code",
   "execution_count": 52,
   "metadata": {
    "scrolled": true
   },
   "outputs": [
    {
     "data": {
      "text/plain": [
       "Text(0.5, 1.0, '요일별 주차장별 이용횟수의 요일별 평균 그래프')"
      ]
     },
     "execution_count": 52,
     "metadata": {},
     "output_type": "execute_result"
    },
    {
     "data": {
      "image/png": "[encoded data removed]",
      "text/plain": [
       "<Figure size 432x288 with 1 Axes>"
      ]
     },
     "metadata": {
      "needs_background": "light"
     },
     "output_type": "display_data"
    }
   ],
   "source": [
    "plt.bar(x=a1mean.index,height=a1mean)\n",
    "plt.title(\"요일별 주차장별 이용횟수의 요일별 평균 그래프\")"
   ]
  },
  {
   "cell_type": "code",
   "execution_count": 53,
   "metadata": {
    "scrolled": true
   },
   "outputs": [
    {
     "data": {
      "text/plain": [
       "Text(0.5, 1.0, '표준화한 요일별 주차장별 이용횟수의 요일별 평균 그래프')"
      ]
     },
     "execution_count": 53,
     "metadata": {},
     "output_type": "execute_result"
    },
    {
     "data": {
      "image/png": "[encoded data removed]",
      "text/plain": [
       "<Figure size 432x288 with 1 Axes>"
      ]
     },
     "metadata": {
      "needs_background": "light"
     },
     "output_type": "display_data"
    }
   ],
   "source": [
    "plt.bar(x=std_a1mean.index,height=std_a1mean)\n",
    "plt.title(\"표준화한 요일별 주차장별 이용횟수의 요일별 평균 그래프\")"
   ]
  },
  {
   "cell_type": "markdown",
   "metadata": {},
   "source": [
    "- 주차장별 요일별 이용횟수의 요일별 평균의 경우, 일요일이 2위인 것은 요일별 데이터수의 총합에서의 일요일이 순위가 제일 낮은 것과는  다르다.\n",
    "- 그리고, 토요일의 경우 데이터의 수에서는 금, 목, 수요일에 밀려 4위 였으나, 주차장별 요일별 평균의 경우 가장 많은 이용횟수를 가진 요일이다.\n",
    "- 표준화 할경우 일요일과 토요일 그룹의 평균과 다른 요일의 평균의 편차는 더 커진다.\n",
    "- 가장 눈에 띄는 것은 데이터의 수가 일요일 보다 많지만 주자창별 이용회수의 평균이 다른 요일들에 비해 높다는 점이다.  \n",
    "    그러므로, <U>일요일이 다른 요일과 어떠한 차이가 있는지 비교해 볼 필요가 있다.</U>"
   ]
  },
  {
   "cell_type": "markdown",
   "metadata": {},
   "source": [
    "#### 1) Goodstype의 경우에는 B와 C가 차지하는 구성 비율의 순서가 차이가 있다.\n",
    "    - 대체로 다른 요일은 B와 C가 차이가 크지 않고 B가 더 높은데, 일요일은 C가 B보다 약 7배 차이나며 더 높다."
   ]
  },
  {
   "cell_type": "code",
   "execution_count": 54,
   "metadata": {},
   "outputs": [
    {
     "data": {
      "text/plain": [
       "A    0.776612\n",
       "C    0.186607\n",
       "B    0.027365\n",
       "D    0.009416\n",
       "Name: goods_type, dtype: float64"
      ]
     },
     "execution_count": 54,
     "metadata": {},
     "output_type": "execute_result"
    }
   ],
   "source": [
    "df.query(\"weekday == 'sunday'\").goods_type.value_counts(normalize=True)"
   ]
  },
  {
   "cell_type": "code",
   "execution_count": 55,
   "metadata": {},
   "outputs": [
    {
     "data": {
      "text/plain": [
       "A    0.701280\n",
       "B    0.133748\n",
       "C    0.131702\n",
       "D    0.033270\n",
       "Name: goods_type, dtype: float64"
      ]
     },
     "execution_count": 55,
     "metadata": {},
     "output_type": "execute_result"
    }
   ],
   "source": [
    "df.query(\"weekday == 'monday'\").goods_type.value_counts(normalize=True)"
   ]
  },
  {
   "cell_type": "code",
   "execution_count": 56,
   "metadata": {},
   "outputs": [
    {
     "data": {
      "text/plain": [
       "A    0.684109\n",
       "B    0.158738\n",
       "C    0.133830\n",
       "D    0.023324\n",
       "Name: goods_type, dtype: float64"
      ]
     },
     "execution_count": 56,
     "metadata": {},
     "output_type": "execute_result"
    }
   ],
   "source": [
    "df.query(\"weekday == 'tuesday'\").goods_type.value_counts(normalize=True)"
   ]
  },
  {
   "cell_type": "code",
   "execution_count": 57,
   "metadata": {},
   "outputs": [
    {
     "data": {
      "text/plain": [
       "A    0.675511\n",
       "B    0.163178\n",
       "C    0.137816\n",
       "D    0.023495\n",
       "Name: goods_type, dtype: float64"
      ]
     },
     "execution_count": 57,
     "metadata": {},
     "output_type": "execute_result"
    }
   ],
   "source": [
    "df.query(\"weekday == 'wednesday'\").goods_type.value_counts(normalize=True)"
   ]
  },
  {
   "cell_type": "code",
   "execution_count": 58,
   "metadata": {},
   "outputs": [
    {
     "data": {
      "text/plain": [
       "A    0.667929\n",
       "B    0.170586\n",
       "C    0.136892\n",
       "D    0.024593\n",
       "Name: goods_type, dtype: float64"
      ]
     },
     "execution_count": 58,
     "metadata": {},
     "output_type": "execute_result"
    }
   ],
   "source": [
    "df.query(\"weekday == 'thursday'\").goods_type.value_counts(normalize=True)"
   ]
  },
  {
   "cell_type": "code",
   "execution_count": 59,
   "metadata": {},
   "outputs": [
    {
     "data": {
      "text/plain": [
       "A    0.628363\n",
       "B    0.201911\n",
       "C    0.144384\n",
       "D    0.025341\n",
       "Name: goods_type, dtype: float64"
      ]
     },
     "execution_count": 59,
     "metadata": {},
     "output_type": "execute_result"
    }
   ],
   "source": [
    "df.query(\"weekday == 'friday'\").goods_type.value_counts(normalize=True)"
   ]
  },
  {
   "cell_type": "markdown",
   "metadata": {},
   "source": [
    "#### 2) D_TYPE의 경우에는 일요일과 다른요일의 차이가 거의 없다."
   ]
  },
  {
   "cell_type": "code",
   "execution_count": 60,
   "metadata": {},
   "outputs": [
    {
     "data": {
      "text/plain": [
       "AA    0.549687\n",
       "BB    0.448609\n",
       "CC    0.001705\n",
       "Name: d_type, dtype: float64"
      ]
     },
     "execution_count": 60,
     "metadata": {},
     "output_type": "execute_result"
    }
   ],
   "source": [
    "df.query(\"weekday == 'sunday'\").d_type.value_counts(normalize=True)"
   ]
  },
  {
   "cell_type": "code",
   "execution_count": 61,
   "metadata": {},
   "outputs": [
    {
     "data": {
      "text/plain": [
       "AA    0.562589\n",
       "BB    0.435696\n",
       "CC    0.001716\n",
       "Name: d_type, dtype: float64"
      ]
     },
     "execution_count": 61,
     "metadata": {},
     "output_type": "execute_result"
    }
   ],
   "source": [
    "df.query(\"weekday == 'monday'\").d_type.value_counts(normalize=True)"
   ]
  },
  {
   "cell_type": "code",
   "execution_count": 62,
   "metadata": {},
   "outputs": [
    {
     "data": {
      "text/plain": [
       "AA    0.561444\n",
       "BB    0.436758\n",
       "CC    0.001798\n",
       "Name: d_type, dtype: float64"
      ]
     },
     "execution_count": 62,
     "metadata": {},
     "output_type": "execute_result"
    }
   ],
   "source": [
    "df.query(\"weekday == 'tuesday'\").d_type.value_counts(normalize=True)"
   ]
  },
  {
   "cell_type": "code",
   "execution_count": 63,
   "metadata": {},
   "outputs": [
    {
     "data": {
      "text/plain": [
       "AA    0.559686\n",
       "BB    0.438462\n",
       "CC    0.001852\n",
       "Name: d_type, dtype: float64"
      ]
     },
     "execution_count": 63,
     "metadata": {},
     "output_type": "execute_result"
    }
   ],
   "source": [
    "df.query(\"weekday == 'wednesday'\").d_type.value_counts(normalize=True)"
   ]
  },
  {
   "cell_type": "code",
   "execution_count": 64,
   "metadata": {},
   "outputs": [
    {
     "data": {
      "text/plain": [
       "AA    0.561310\n",
       "BB    0.436849\n",
       "CC    0.001841\n",
       "Name: d_type, dtype: float64"
      ]
     },
     "execution_count": 64,
     "metadata": {},
     "output_type": "execute_result"
    }
   ],
   "source": [
    "df.query(\"weekday == 'thursday'\").d_type.value_counts(normalize=True)"
   ]
  },
  {
   "cell_type": "code",
   "execution_count": 65,
   "metadata": {},
   "outputs": [
    {
     "data": {
      "text/plain": [
       "AA    0.559235\n",
       "BB    0.438865\n",
       "CC    0.001900\n",
       "Name: d_type, dtype: float64"
      ]
     },
     "execution_count": 65,
     "metadata": {},
     "output_type": "execute_result"
    }
   ],
   "source": [
    "df.query(\"weekday == 'friday'\").d_type.value_counts(normalize=True)"
   ]
  },
  {
   "cell_type": "markdown",
   "metadata": {},
   "source": [
    "#### 3) AD1의 경우에는 일요일에 J라는 지역의 주차비율이 다른 일자에 23%대와 비교하면 12%로 10%가까이 차이가 난다.  \n",
    "    (AD1의 경우에는 팀회의 결과, 지역명이라는 결론을 냈고 GN이 강남 MP가 마포 이런식이었음)"
   ]
  },
  {
   "cell_type": "code",
   "execution_count": 66,
   "metadata": {},
   "outputs": [
    {
     "data": {
      "text/plain": [
       "GN     0.206505\n",
       "JRR    0.172379\n",
       "J      0.125823\n",
       "SC     0.110993\n",
       "MP     0.100093\n",
       "Name: ad1, dtype: float64"
      ]
     },
     "execution_count": 66,
     "metadata": {},
     "output_type": "execute_result"
    }
   ],
   "source": [
    "df.query(\"weekday == 'sunday'\").ad1.value_counts(normalize=True)[:5]"
   ]
  },
  {
   "cell_type": "code",
   "execution_count": 67,
   "metadata": {
    "scrolled": true
   },
   "outputs": [
    {
     "data": {
      "text/plain": [
       "J      0.230221\n",
       "GN     0.190749\n",
       "JRR    0.135567\n",
       "SC     0.076709\n",
       "MP     0.066658\n",
       "Name: ad1, dtype: float64"
      ]
     },
     "execution_count": 67,
     "metadata": {},
     "output_type": "execute_result"
    }
   ],
   "source": [
    "df.query(\"weekday == 'monday'\").ad1.value_counts(normalize=True)[:5]"
   ]
  },
  {
   "cell_type": "code",
   "execution_count": 68,
   "metadata": {},
   "outputs": [
    {
     "data": {
      "text/plain": [
       "J      0.229460\n",
       "GN     0.188030\n",
       "JRR    0.138712\n",
       "SC     0.078053\n",
       "MP     0.068579\n",
       "Name: ad1, dtype: float64"
      ]
     },
     "execution_count": 68,
     "metadata": {},
     "output_type": "execute_result"
    }
   ],
   "source": [
    "df.query(\"weekday == 'tuesday'\").ad1.value_counts(normalize=True)[:5]"
   ]
  },
  {
   "cell_type": "code",
   "execution_count": 69,
   "metadata": {},
   "outputs": [
    {
     "data": {
      "text/plain": [
       "J      0.228114\n",
       "GN     0.188857\n",
       "JRR    0.138769\n",
       "SC     0.079707\n",
       "MP     0.068617\n",
       "Name: ad1, dtype: float64"
      ]
     },
     "execution_count": 69,
     "metadata": {},
     "output_type": "execute_result"
    }
   ],
   "source": [
    "df.query(\"weekday == 'wednesday'\").ad1.value_counts(normalize=True)[:5]"
   ]
  },
  {
   "cell_type": "code",
   "execution_count": 70,
   "metadata": {},
   "outputs": [
    {
     "data": {
      "text/plain": [
       "J      0.224225\n",
       "GN     0.188286\n",
       "JRR    0.138913\n",
       "SC     0.082924\n",
       "MP     0.070860\n",
       "Name: ad1, dtype: float64"
      ]
     },
     "execution_count": 70,
     "metadata": {},
     "output_type": "execute_result"
    }
   ],
   "source": [
    "df.query(\"weekday == 'thursday'\").ad1.value_counts(normalize=True)[:5]"
   ]
  },
  {
   "cell_type": "code",
   "execution_count": 71,
   "metadata": {},
   "outputs": [
    {
     "data": {
      "text/plain": [
       "J      0.213433\n",
       "GN     0.193247\n",
       "JRR    0.138032\n",
       "SC     0.082600\n",
       "MP     0.076060\n",
       "Name: ad1, dtype: float64"
      ]
     },
     "execution_count": 71,
     "metadata": {},
     "output_type": "execute_result"
    }
   ],
   "source": [
    "df.query(\"weekday == 'friday'\").ad1.value_counts(normalize=True)[:5]"
   ]
  },
  {
   "cell_type": "markdown",
   "metadata": {},
   "source": [
    "#### 5) Store_id의 경우에는 일요일에 182335의 경우 요일별 이용비중이 2등인 주차장인데 토요일은 5등이고, 나머지 요일은 5등내에 없다."
   ]
  },
  {
   "cell_type": "code",
   "execution_count": 72,
   "metadata": {},
   "outputs": [
    {
     "data": {
      "text/plain": [
       "220655    0.029557\n",
       "182335    0.020165\n",
       "105033    0.019910\n",
       "182320    0.019527\n",
       "90542     0.016605\n",
       "Name: store_id, dtype: float64"
      ]
     },
     "execution_count": 72,
     "metadata": {},
     "output_type": "execute_result"
    }
   ],
   "source": [
    "df.query(\"weekday == 'sunday'\").store_id.value_counts(normalize=True)[:5]"
   ]
  },
  {
   "cell_type": "code",
   "execution_count": 73,
   "metadata": {},
   "outputs": [
    {
     "data": {
      "text/plain": [
       "220557    0.025116\n",
       "220893    0.022510\n",
       "92437     0.020448\n",
       "91853     0.019449\n",
       "109037    0.019441\n",
       "Name: store_id, dtype: float64"
      ]
     },
     "execution_count": 73,
     "metadata": {},
     "output_type": "execute_result"
    }
   ],
   "source": [
    "df.query(\"weekday == 'monday'\").store_id.value_counts(normalize=True)[:5]"
   ]
  },
  {
   "cell_type": "code",
   "execution_count": 74,
   "metadata": {},
   "outputs": [
    {
     "data": {
      "text/plain": [
       "220557    0.023531\n",
       "220893    0.021816\n",
       "1109      0.020011\n",
       "91853     0.019437\n",
       "92437     0.019069\n",
       "Name: store_id, dtype: float64"
      ]
     },
     "execution_count": 74,
     "metadata": {},
     "output_type": "execute_result"
    }
   ],
   "source": [
    "df.query(\"weekday == 'tuesday'\").store_id.value_counts(normalize=True)[:5]"
   ]
  },
  {
   "cell_type": "code",
   "execution_count": 75,
   "metadata": {},
   "outputs": [
    {
     "data": {
      "text/plain": [
       "220557    0.022618\n",
       "220893    0.021045\n",
       "1109      0.020350\n",
       "92437     0.019995\n",
       "91853     0.019239\n",
       "Name: store_id, dtype: float64"
      ]
     },
     "execution_count": 75,
     "metadata": {},
     "output_type": "execute_result"
    }
   ],
   "source": [
    "df.query(\"weekday == 'wednesday'\").store_id.value_counts(normalize=True)[:5]"
   ]
  },
  {
   "cell_type": "code",
   "execution_count": 76,
   "metadata": {},
   "outputs": [
    {
     "data": {
      "text/plain": [
       "220557    0.023006\n",
       "220893    0.021113\n",
       "1109      0.020140\n",
       "92437     0.019549\n",
       "91853     0.018815\n",
       "Name: store_id, dtype: float64"
      ]
     },
     "execution_count": 76,
     "metadata": {},
     "output_type": "execute_result"
    }
   ],
   "source": [
    "df.query(\"weekday == 'thursday'\").store_id.value_counts(normalize=True)[:5]"
   ]
  },
  {
   "cell_type": "code",
   "execution_count": 77,
   "metadata": {},
   "outputs": [
    {
     "data": {
      "text/plain": [
       "220893    0.021926\n",
       "220557    0.020911\n",
       "220848    0.019330\n",
       "92437     0.018489\n",
       "1109      0.017946\n",
       "Name: store_id, dtype: float64"
      ]
     },
     "execution_count": 77,
     "metadata": {},
     "output_type": "execute_result"
    }
   ],
   "source": [
    "df.query(\"weekday == 'friday'\").store_id.value_counts(normalize=True)[:5]"
   ]
  },
  {
   "cell_type": "code",
   "execution_count": 78,
   "metadata": {},
   "outputs": [
    {
     "data": {
      "text/plain": [
       "220655    0.028347\n",
       "220848    0.026848\n",
       "105033    0.019433\n",
       "220893    0.017273\n",
       "182335    0.016740\n",
       "Name: store_id, dtype: float64"
      ]
     },
     "execution_count": 78,
     "metadata": {},
     "output_type": "execute_result"
    }
   ],
   "source": [
    "df.query(\"weekday == 'saturday'\").store_id.value_counts(normalize=True)[:5]"
   ]
  },
  {
   "cell_type": "markdown",
   "metadata": {},
   "source": [
    "### Summary\n",
    "#### 위의 분석으로 다음과 같은 인사이트를 얻을 수 있다.\n",
    "#### 일요일이 전체에서 데이터수는 적지만 주차장별 이용횟수의 평균이 월요일부터 금요일보다 높다.\n",
    "#### 이와 같은 사실에 근거해 다른 요일과의 차이를 비교하면 다음의 차이가 있다\n",
    "1. Goods_type에서 일요일은 다른 요일에 비해 C의 비중이 높고, B의 비중이 적다.\n",
    "2. AD1을 지역으로 볼 경우, 일요일은 다른 요일에 비해 J지역의 사용률이 10%가까이 낮아진다.\n",
    "3. 사용주차장의 고유ID의 순위의 경우, 182335라는 주차장은 월-금에는 5위내에 없고, 토요일은 5등인데 일요일에는 두번째로 많이 이용하는 주차장이다.\n",
    "#### 이처럼 월-목요일과 금,토,일의 경향이 나뉘는 것을 고려하여 weekdayYN변수를 생성한다."
   ]
  },
  {
   "cell_type": "code",
   "execution_count": 79,
   "metadata": {},
   "outputs": [],
   "source": [
    "l1=[]\n",
    "for i in range(df.shape[0]):\n",
    "    if (df['weekday'][i] not in ['friday','saturday','sunday']) :\n",
    "        l1.append('weekday')\n",
    "    else:\n",
    "        l1.append(df['weekday'][i])\n",
    "        \n",
    "df['weekdayYN']=l1"
   ]
  },
  {
   "cell_type": "markdown",
   "metadata": {},
   "source": [
    "***"
   ]
  },
  {
   "cell_type": "markdown",
   "metadata": {},
   "source": [
    "## Ⅳ. 유저별 이용 count에 대한 분석"
   ]
  },
  {
   "cell_type": "markdown",
   "metadata": {},
   "source": [
    "#### 유저들의 가입년도별 주차장별 결제건수의 합의 평균"
   ]
  },
  {
   "cell_type": "code",
   "execution_count": 80,
   "metadata": {},
   "outputs": [
    {
     "data": {
      "text/html": [
       "<div>\n",
       "<style scoped>\n",
       "    .dataframe tbody tr th:only-of-type {\n",
       "        vertical-align: middle;\n",
       "    }\n",
       "\n",
       "    .dataframe tbody tr th {\n",
       "        vertical-align: top;\n",
       "    }\n",
       "\n",
       "    .dataframe thead th {\n",
       "        text-align: right;\n",
       "    }\n",
       "</style>\n",
       "<table border=\"1\" class=\"dataframe\">\n",
       "  <thead>\n",
       "    <tr style=\"text-align: right;\">\n",
       "      <th>store_id</th>\n",
       "      <th>4</th>\n",
       "      <th>8</th>\n",
       "      <th>161</th>\n",
       "      <th>179</th>\n",
       "      <th>262</th>\n",
       "      <th>295</th>\n",
       "      <th>353</th>\n",
       "      <th>453</th>\n",
       "      <th>456</th>\n",
       "      <th>466</th>\n",
       "      <th>...</th>\n",
       "      <th>231420</th>\n",
       "      <th>231427</th>\n",
       "      <th>231428</th>\n",
       "      <th>231429</th>\n",
       "      <th>231430</th>\n",
       "      <th>231431</th>\n",
       "      <th>231434</th>\n",
       "      <th>231444</th>\n",
       "      <th>231453</th>\n",
       "      <th>231465</th>\n",
       "    </tr>\n",
       "    <tr>\n",
       "      <th>j_y</th>\n",
       "      <th></th>\n",
       "      <th></th>\n",
       "      <th></th>\n",
       "      <th></th>\n",
       "      <th></th>\n",
       "      <th></th>\n",
       "      <th></th>\n",
       "      <th></th>\n",
       "      <th></th>\n",
       "      <th></th>\n",
       "      <th></th>\n",
       "      <th></th>\n",
       "      <th></th>\n",
       "      <th></th>\n",
       "      <th></th>\n",
       "      <th></th>\n",
       "      <th></th>\n",
       "      <th></th>\n",
       "      <th></th>\n",
       "      <th></th>\n",
       "      <th></th>\n",
       "    </tr>\n",
       "  </thead>\n",
       "  <tbody>\n",
       "    <tr>\n",
       "      <th>1970</th>\n",
       "      <td>NaN</td>\n",
       "      <td>NaN</td>\n",
       "      <td>NaN</td>\n",
       "      <td>NaN</td>\n",
       "      <td>NaN</td>\n",
       "      <td>NaN</td>\n",
       "      <td>NaN</td>\n",
       "      <td>NaN</td>\n",
       "      <td>NaN</td>\n",
       "      <td>NaN</td>\n",
       "      <td>...</td>\n",
       "      <td>NaN</td>\n",
       "      <td>NaN</td>\n",
       "      <td>NaN</td>\n",
       "      <td>NaN</td>\n",
       "      <td>NaN</td>\n",
       "      <td>NaN</td>\n",
       "      <td>NaN</td>\n",
       "      <td>NaN</td>\n",
       "      <td>NaN</td>\n",
       "      <td>NaN</td>\n",
       "    </tr>\n",
       "    <tr>\n",
       "      <th>2013</th>\n",
       "      <td>NaN</td>\n",
       "      <td>NaN</td>\n",
       "      <td>NaN</td>\n",
       "      <td>NaN</td>\n",
       "      <td>NaN</td>\n",
       "      <td>NaN</td>\n",
       "      <td>NaN</td>\n",
       "      <td>NaN</td>\n",
       "      <td>NaN</td>\n",
       "      <td>NaN</td>\n",
       "      <td>...</td>\n",
       "      <td>NaN</td>\n",
       "      <td>NaN</td>\n",
       "      <td>NaN</td>\n",
       "      <td>NaN</td>\n",
       "      <td>NaN</td>\n",
       "      <td>NaN</td>\n",
       "      <td>NaN</td>\n",
       "      <td>NaN</td>\n",
       "      <td>NaN</td>\n",
       "      <td>NaN</td>\n",
       "    </tr>\n",
       "    <tr>\n",
       "      <th>2014</th>\n",
       "      <td>NaN</td>\n",
       "      <td>NaN</td>\n",
       "      <td>NaN</td>\n",
       "      <td>NaN</td>\n",
       "      <td>NaN</td>\n",
       "      <td>NaN</td>\n",
       "      <td>NaN</td>\n",
       "      <td>NaN</td>\n",
       "      <td>NaN</td>\n",
       "      <td>NaN</td>\n",
       "      <td>...</td>\n",
       "      <td>NaN</td>\n",
       "      <td>NaN</td>\n",
       "      <td>NaN</td>\n",
       "      <td>NaN</td>\n",
       "      <td>NaN</td>\n",
       "      <td>NaN</td>\n",
       "      <td>NaN</td>\n",
       "      <td>NaN</td>\n",
       "      <td>NaN</td>\n",
       "      <td>1.0</td>\n",
       "    </tr>\n",
       "    <tr>\n",
       "      <th>2015</th>\n",
       "      <td>NaN</td>\n",
       "      <td>2.0</td>\n",
       "      <td>NaN</td>\n",
       "      <td>NaN</td>\n",
       "      <td>2.0</td>\n",
       "      <td>NaN</td>\n",
       "      <td>NaN</td>\n",
       "      <td>NaN</td>\n",
       "      <td>NaN</td>\n",
       "      <td>NaN</td>\n",
       "      <td>...</td>\n",
       "      <td>NaN</td>\n",
       "      <td>NaN</td>\n",
       "      <td>NaN</td>\n",
       "      <td>NaN</td>\n",
       "      <td>NaN</td>\n",
       "      <td>NaN</td>\n",
       "      <td>NaN</td>\n",
       "      <td>NaN</td>\n",
       "      <td>NaN</td>\n",
       "      <td>NaN</td>\n",
       "    </tr>\n",
       "    <tr>\n",
       "      <th>2016</th>\n",
       "      <td>3.0</td>\n",
       "      <td>1.0</td>\n",
       "      <td>NaN</td>\n",
       "      <td>NaN</td>\n",
       "      <td>3.0</td>\n",
       "      <td>NaN</td>\n",
       "      <td>NaN</td>\n",
       "      <td>NaN</td>\n",
       "      <td>NaN</td>\n",
       "      <td>NaN</td>\n",
       "      <td>...</td>\n",
       "      <td>NaN</td>\n",
       "      <td>NaN</td>\n",
       "      <td>NaN</td>\n",
       "      <td>1.0</td>\n",
       "      <td>NaN</td>\n",
       "      <td>NaN</td>\n",
       "      <td>3.0</td>\n",
       "      <td>NaN</td>\n",
       "      <td>1.0</td>\n",
       "      <td>NaN</td>\n",
       "    </tr>\n",
       "    <tr>\n",
       "      <th>2017</th>\n",
       "      <td>3.0</td>\n",
       "      <td>5.0</td>\n",
       "      <td>NaN</td>\n",
       "      <td>7.0</td>\n",
       "      <td>8.0</td>\n",
       "      <td>NaN</td>\n",
       "      <td>NaN</td>\n",
       "      <td>NaN</td>\n",
       "      <td>NaN</td>\n",
       "      <td>3.0</td>\n",
       "      <td>...</td>\n",
       "      <td>NaN</td>\n",
       "      <td>NaN</td>\n",
       "      <td>NaN</td>\n",
       "      <td>8.0</td>\n",
       "      <td>2.0</td>\n",
       "      <td>NaN</td>\n",
       "      <td>11.0</td>\n",
       "      <td>NaN</td>\n",
       "      <td>1.0</td>\n",
       "      <td>5.0</td>\n",
       "    </tr>\n",
       "    <tr>\n",
       "      <th>2018</th>\n",
       "      <td>5.0</td>\n",
       "      <td>11.0</td>\n",
       "      <td>1.0</td>\n",
       "      <td>10.0</td>\n",
       "      <td>17.0</td>\n",
       "      <td>NaN</td>\n",
       "      <td>NaN</td>\n",
       "      <td>1.0</td>\n",
       "      <td>NaN</td>\n",
       "      <td>9.0</td>\n",
       "      <td>...</td>\n",
       "      <td>NaN</td>\n",
       "      <td>NaN</td>\n",
       "      <td>NaN</td>\n",
       "      <td>9.0</td>\n",
       "      <td>1.0</td>\n",
       "      <td>1.0</td>\n",
       "      <td>5.0</td>\n",
       "      <td>NaN</td>\n",
       "      <td>5.0</td>\n",
       "      <td>NaN</td>\n",
       "    </tr>\n",
       "    <tr>\n",
       "      <th>2019</th>\n",
       "      <td>4.0</td>\n",
       "      <td>15.0</td>\n",
       "      <td>NaN</td>\n",
       "      <td>22.0</td>\n",
       "      <td>23.0</td>\n",
       "      <td>2.0</td>\n",
       "      <td>NaN</td>\n",
       "      <td>NaN</td>\n",
       "      <td>1.0</td>\n",
       "      <td>12.0</td>\n",
       "      <td>...</td>\n",
       "      <td>NaN</td>\n",
       "      <td>NaN</td>\n",
       "      <td>2.0</td>\n",
       "      <td>17.0</td>\n",
       "      <td>1.0</td>\n",
       "      <td>NaN</td>\n",
       "      <td>8.0</td>\n",
       "      <td>2.0</td>\n",
       "      <td>8.0</td>\n",
       "      <td>2.0</td>\n",
       "    </tr>\n",
       "    <tr>\n",
       "      <th>2020</th>\n",
       "      <td>10.0</td>\n",
       "      <td>13.0</td>\n",
       "      <td>4.0</td>\n",
       "      <td>21.0</td>\n",
       "      <td>23.0</td>\n",
       "      <td>1.0</td>\n",
       "      <td>1.0</td>\n",
       "      <td>1.0</td>\n",
       "      <td>5.0</td>\n",
       "      <td>47.0</td>\n",
       "      <td>...</td>\n",
       "      <td>4.0</td>\n",
       "      <td>1.0</td>\n",
       "      <td>2.0</td>\n",
       "      <td>36.0</td>\n",
       "      <td>11.0</td>\n",
       "      <td>7.0</td>\n",
       "      <td>24.0</td>\n",
       "      <td>1.0</td>\n",
       "      <td>8.0</td>\n",
       "      <td>6.0</td>\n",
       "    </tr>\n",
       "  </tbody>\n",
       "</table>\n",
       "<p>9 rows × 1061 columns</p>\n",
       "</div>"
      ],
      "text/plain": [
       "store_id  4       8       161     179     262     295     353     453     \\\n",
       "j_y                                                                        \n",
       "1970         NaN     NaN     NaN     NaN     NaN     NaN     NaN     NaN   \n",
       "2013         NaN     NaN     NaN     NaN     NaN     NaN     NaN     NaN   \n",
       "2014         NaN     NaN     NaN     NaN     NaN     NaN     NaN     NaN   \n",
       "2015         NaN     2.0     NaN     NaN     2.0     NaN     NaN     NaN   \n",
       "2016         3.0     1.0     NaN     NaN     3.0     NaN     NaN     NaN   \n",
       "2017         3.0     5.0     NaN     7.0     8.0     NaN     NaN     NaN   \n",
       "2018         5.0    11.0     1.0    10.0    17.0     NaN     NaN     1.0   \n",
       "2019         4.0    15.0     NaN    22.0    23.0     2.0     NaN     NaN   \n",
       "2020        10.0    13.0     4.0    21.0    23.0     1.0     1.0     1.0   \n",
       "\n",
       "store_id  456     466     ...  231420  231427  231428  231429  231430  231431  \\\n",
       "j_y                       ...                                                   \n",
       "1970         NaN     NaN  ...     NaN     NaN     NaN     NaN     NaN     NaN   \n",
       "2013         NaN     NaN  ...     NaN     NaN     NaN     NaN     NaN     NaN   \n",
       "2014         NaN     NaN  ...     NaN     NaN     NaN     NaN     NaN     NaN   \n",
       "2015         NaN     NaN  ...     NaN     NaN     NaN     NaN     NaN     NaN   \n",
       "2016         NaN     NaN  ...     NaN     NaN     NaN     1.0     NaN     NaN   \n",
       "2017         NaN     3.0  ...     NaN     NaN     NaN     8.0     2.0     NaN   \n",
       "2018         NaN     9.0  ...     NaN     NaN     NaN     9.0     1.0     1.0   \n",
       "2019         1.0    12.0  ...     NaN     NaN     2.0    17.0     1.0     NaN   \n",
       "2020         5.0    47.0  ...     4.0     1.0     2.0    36.0    11.0     7.0   \n",
       "\n",
       "store_id  231434  231444  231453  231465  \n",
       "j_y                                       \n",
       "1970         NaN     NaN     NaN     NaN  \n",
       "2013         NaN     NaN     NaN     NaN  \n",
       "2014         NaN     NaN     NaN     1.0  \n",
       "2015         NaN     NaN     NaN     NaN  \n",
       "2016         3.0     NaN     1.0     NaN  \n",
       "2017        11.0     NaN     1.0     5.0  \n",
       "2018         5.0     NaN     5.0     NaN  \n",
       "2019         8.0     2.0     8.0     2.0  \n",
       "2020        24.0     1.0     8.0     6.0  \n",
       "\n",
       "[9 rows x 1061 columns]"
      ]
     },
     "execution_count": 80,
     "metadata": {},
     "output_type": "execute_result"
    }
   ],
   "source": [
    "df.groupby(['j_y','store_id'])['count'].sum().unstack()"
   ]
  },
  {
   "cell_type": "code",
   "execution_count": 81,
   "metadata": {
    "scrolled": true
   },
   "outputs": [
    {
     "data": {
      "text/plain": [
       "<matplotlib.axes._subplots.AxesSubplot at 0x20f911a76c8>"
      ]
     },
     "execution_count": 81,
     "metadata": {},
     "output_type": "execute_result"
    },
    {
     "data": {
      "image/png": "[encoded data removed]",
      "text/plain": [
       "<Figure size 432x288 with 1 Axes>"
      ]
     },
     "metadata": {
      "needs_background": "light"
     },
     "output_type": "display_data"
    }
   ],
   "source": [
    "sns.barplot(x='j_y',y=0, data=df.groupby(['j_y','store_id'])['count'].sum().unstack().mean(1).reset_index())"
   ]
  },
  {
   "cell_type": "markdown",
   "metadata": {},
   "source": [
    "-  연도별로 보면 유저들이 비교적 최근에 가입할수록 주차장별 결제횟수의 합계의 평균이 높음"
   ]
  },
  {
   "cell_type": "markdown",
   "metadata": {},
   "source": [
    "#### 유저들의 가입월별 주차장별 결제건수의 합의 평균"
   ]
  },
  {
   "cell_type": "code",
   "execution_count": 82,
   "metadata": {},
   "outputs": [
    {
     "data": {
      "text/html": [
       "<div>\n",
       "<style scoped>\n",
       "    .dataframe tbody tr th:only-of-type {\n",
       "        vertical-align: middle;\n",
       "    }\n",
       "\n",
       "    .dataframe tbody tr th {\n",
       "        vertical-align: top;\n",
       "    }\n",
       "\n",
       "    .dataframe thead th {\n",
       "        text-align: right;\n",
       "    }\n",
       "</style>\n",
       "<table border=\"1\" class=\"dataframe\">\n",
       "  <thead>\n",
       "    <tr style=\"text-align: right;\">\n",
       "      <th>store_id</th>\n",
       "      <th>4</th>\n",
       "      <th>8</th>\n",
       "      <th>161</th>\n",
       "      <th>179</th>\n",
       "      <th>262</th>\n",
       "      <th>295</th>\n",
       "      <th>353</th>\n",
       "      <th>453</th>\n",
       "      <th>456</th>\n",
       "      <th>466</th>\n",
       "      <th>...</th>\n",
       "      <th>231420</th>\n",
       "      <th>231427</th>\n",
       "      <th>231428</th>\n",
       "      <th>231429</th>\n",
       "      <th>231430</th>\n",
       "      <th>231431</th>\n",
       "      <th>231434</th>\n",
       "      <th>231444</th>\n",
       "      <th>231453</th>\n",
       "      <th>231465</th>\n",
       "    </tr>\n",
       "    <tr>\n",
       "      <th>j_m</th>\n",
       "      <th></th>\n",
       "      <th></th>\n",
       "      <th></th>\n",
       "      <th></th>\n",
       "      <th></th>\n",
       "      <th></th>\n",
       "      <th></th>\n",
       "      <th></th>\n",
       "      <th></th>\n",
       "      <th></th>\n",
       "      <th></th>\n",
       "      <th></th>\n",
       "      <th></th>\n",
       "      <th></th>\n",
       "      <th></th>\n",
       "      <th></th>\n",
       "      <th></th>\n",
       "      <th></th>\n",
       "      <th></th>\n",
       "      <th></th>\n",
       "      <th></th>\n",
       "    </tr>\n",
       "  </thead>\n",
       "  <tbody>\n",
       "    <tr>\n",
       "      <th>1</th>\n",
       "      <td>NaN</td>\n",
       "      <td>3.0</td>\n",
       "      <td>1.0</td>\n",
       "      <td>4.0</td>\n",
       "      <td>4.0</td>\n",
       "      <td>NaN</td>\n",
       "      <td>NaN</td>\n",
       "      <td>NaN</td>\n",
       "      <td>NaN</td>\n",
       "      <td>1.0</td>\n",
       "      <td>...</td>\n",
       "      <td>NaN</td>\n",
       "      <td>NaN</td>\n",
       "      <td>NaN</td>\n",
       "      <td>1.0</td>\n",
       "      <td>NaN</td>\n",
       "      <td>NaN</td>\n",
       "      <td>2.0</td>\n",
       "      <td>NaN</td>\n",
       "      <td>3.0</td>\n",
       "      <td>NaN</td>\n",
       "    </tr>\n",
       "    <tr>\n",
       "      <th>2</th>\n",
       "      <td>1.0</td>\n",
       "      <td>3.0</td>\n",
       "      <td>NaN</td>\n",
       "      <td>3.0</td>\n",
       "      <td>6.0</td>\n",
       "      <td>NaN</td>\n",
       "      <td>NaN</td>\n",
       "      <td>1.0</td>\n",
       "      <td>1.0</td>\n",
       "      <td>1.0</td>\n",
       "      <td>...</td>\n",
       "      <td>NaN</td>\n",
       "      <td>NaN</td>\n",
       "      <td>NaN</td>\n",
       "      <td>4.0</td>\n",
       "      <td>1.0</td>\n",
       "      <td>NaN</td>\n",
       "      <td>4.0</td>\n",
       "      <td>NaN</td>\n",
       "      <td>1.0</td>\n",
       "      <td>NaN</td>\n",
       "    </tr>\n",
       "    <tr>\n",
       "      <th>3</th>\n",
       "      <td>6.0</td>\n",
       "      <td>NaN</td>\n",
       "      <td>1.0</td>\n",
       "      <td>3.0</td>\n",
       "      <td>6.0</td>\n",
       "      <td>NaN</td>\n",
       "      <td>NaN</td>\n",
       "      <td>NaN</td>\n",
       "      <td>NaN</td>\n",
       "      <td>2.0</td>\n",
       "      <td>...</td>\n",
       "      <td>NaN</td>\n",
       "      <td>NaN</td>\n",
       "      <td>NaN</td>\n",
       "      <td>3.0</td>\n",
       "      <td>NaN</td>\n",
       "      <td>NaN</td>\n",
       "      <td>3.0</td>\n",
       "      <td>1.0</td>\n",
       "      <td>4.0</td>\n",
       "      <td>2.0</td>\n",
       "    </tr>\n",
       "    <tr>\n",
       "      <th>4</th>\n",
       "      <td>NaN</td>\n",
       "      <td>5.0</td>\n",
       "      <td>NaN</td>\n",
       "      <td>3.0</td>\n",
       "      <td>3.0</td>\n",
       "      <td>NaN</td>\n",
       "      <td>NaN</td>\n",
       "      <td>NaN</td>\n",
       "      <td>NaN</td>\n",
       "      <td>5.0</td>\n",
       "      <td>...</td>\n",
       "      <td>NaN</td>\n",
       "      <td>NaN</td>\n",
       "      <td>NaN</td>\n",
       "      <td>4.0</td>\n",
       "      <td>NaN</td>\n",
       "      <td>2.0</td>\n",
       "      <td>1.0</td>\n",
       "      <td>NaN</td>\n",
       "      <td>1.0</td>\n",
       "      <td>1.0</td>\n",
       "    </tr>\n",
       "    <tr>\n",
       "      <th>5</th>\n",
       "      <td>1.0</td>\n",
       "      <td>1.0</td>\n",
       "      <td>NaN</td>\n",
       "      <td>4.0</td>\n",
       "      <td>7.0</td>\n",
       "      <td>1.0</td>\n",
       "      <td>NaN</td>\n",
       "      <td>NaN</td>\n",
       "      <td>NaN</td>\n",
       "      <td>4.0</td>\n",
       "      <td>...</td>\n",
       "      <td>NaN</td>\n",
       "      <td>NaN</td>\n",
       "      <td>1.0</td>\n",
       "      <td>1.0</td>\n",
       "      <td>NaN</td>\n",
       "      <td>NaN</td>\n",
       "      <td>4.0</td>\n",
       "      <td>NaN</td>\n",
       "      <td>NaN</td>\n",
       "      <td>NaN</td>\n",
       "    </tr>\n",
       "    <tr>\n",
       "      <th>6</th>\n",
       "      <td>2.0</td>\n",
       "      <td>10.0</td>\n",
       "      <td>NaN</td>\n",
       "      <td>2.0</td>\n",
       "      <td>6.0</td>\n",
       "      <td>NaN</td>\n",
       "      <td>NaN</td>\n",
       "      <td>NaN</td>\n",
       "      <td>NaN</td>\n",
       "      <td>25.0</td>\n",
       "      <td>...</td>\n",
       "      <td>NaN</td>\n",
       "      <td>NaN</td>\n",
       "      <td>1.0</td>\n",
       "      <td>6.0</td>\n",
       "      <td>NaN</td>\n",
       "      <td>NaN</td>\n",
       "      <td>3.0</td>\n",
       "      <td>NaN</td>\n",
       "      <td>2.0</td>\n",
       "      <td>1.0</td>\n",
       "    </tr>\n",
       "    <tr>\n",
       "      <th>7</th>\n",
       "      <td>2.0</td>\n",
       "      <td>7.0</td>\n",
       "      <td>NaN</td>\n",
       "      <td>4.0</td>\n",
       "      <td>12.0</td>\n",
       "      <td>NaN</td>\n",
       "      <td>1.0</td>\n",
       "      <td>NaN</td>\n",
       "      <td>3.0</td>\n",
       "      <td>7.0</td>\n",
       "      <td>...</td>\n",
       "      <td>NaN</td>\n",
       "      <td>NaN</td>\n",
       "      <td>NaN</td>\n",
       "      <td>9.0</td>\n",
       "      <td>NaN</td>\n",
       "      <td>NaN</td>\n",
       "      <td>4.0</td>\n",
       "      <td>NaN</td>\n",
       "      <td>1.0</td>\n",
       "      <td>1.0</td>\n",
       "    </tr>\n",
       "    <tr>\n",
       "      <th>8</th>\n",
       "      <td>2.0</td>\n",
       "      <td>6.0</td>\n",
       "      <td>2.0</td>\n",
       "      <td>13.0</td>\n",
       "      <td>6.0</td>\n",
       "      <td>NaN</td>\n",
       "      <td>NaN</td>\n",
       "      <td>NaN</td>\n",
       "      <td>NaN</td>\n",
       "      <td>NaN</td>\n",
       "      <td>...</td>\n",
       "      <td>NaN</td>\n",
       "      <td>NaN</td>\n",
       "      <td>1.0</td>\n",
       "      <td>5.0</td>\n",
       "      <td>5.0</td>\n",
       "      <td>NaN</td>\n",
       "      <td>8.0</td>\n",
       "      <td>NaN</td>\n",
       "      <td>3.0</td>\n",
       "      <td>1.0</td>\n",
       "    </tr>\n",
       "    <tr>\n",
       "      <th>9</th>\n",
       "      <td>2.0</td>\n",
       "      <td>4.0</td>\n",
       "      <td>1.0</td>\n",
       "      <td>6.0</td>\n",
       "      <td>5.0</td>\n",
       "      <td>2.0</td>\n",
       "      <td>NaN</td>\n",
       "      <td>NaN</td>\n",
       "      <td>NaN</td>\n",
       "      <td>4.0</td>\n",
       "      <td>...</td>\n",
       "      <td>1.0</td>\n",
       "      <td>NaN</td>\n",
       "      <td>NaN</td>\n",
       "      <td>11.0</td>\n",
       "      <td>1.0</td>\n",
       "      <td>NaN</td>\n",
       "      <td>4.0</td>\n",
       "      <td>NaN</td>\n",
       "      <td>NaN</td>\n",
       "      <td>1.0</td>\n",
       "    </tr>\n",
       "    <tr>\n",
       "      <th>10</th>\n",
       "      <td>3.0</td>\n",
       "      <td>5.0</td>\n",
       "      <td>NaN</td>\n",
       "      <td>6.0</td>\n",
       "      <td>5.0</td>\n",
       "      <td>NaN</td>\n",
       "      <td>NaN</td>\n",
       "      <td>NaN</td>\n",
       "      <td>2.0</td>\n",
       "      <td>4.0</td>\n",
       "      <td>...</td>\n",
       "      <td>1.0</td>\n",
       "      <td>NaN</td>\n",
       "      <td>NaN</td>\n",
       "      <td>4.0</td>\n",
       "      <td>2.0</td>\n",
       "      <td>NaN</td>\n",
       "      <td>3.0</td>\n",
       "      <td>1.0</td>\n",
       "      <td>2.0</td>\n",
       "      <td>3.0</td>\n",
       "    </tr>\n",
       "    <tr>\n",
       "      <th>11</th>\n",
       "      <td>4.0</td>\n",
       "      <td>1.0</td>\n",
       "      <td>NaN</td>\n",
       "      <td>8.0</td>\n",
       "      <td>6.0</td>\n",
       "      <td>NaN</td>\n",
       "      <td>NaN</td>\n",
       "      <td>NaN</td>\n",
       "      <td>NaN</td>\n",
       "      <td>16.0</td>\n",
       "      <td>...</td>\n",
       "      <td>NaN</td>\n",
       "      <td>1.0</td>\n",
       "      <td>1.0</td>\n",
       "      <td>10.0</td>\n",
       "      <td>3.0</td>\n",
       "      <td>2.0</td>\n",
       "      <td>2.0</td>\n",
       "      <td>NaN</td>\n",
       "      <td>2.0</td>\n",
       "      <td>NaN</td>\n",
       "    </tr>\n",
       "    <tr>\n",
       "      <th>12</th>\n",
       "      <td>2.0</td>\n",
       "      <td>2.0</td>\n",
       "      <td>NaN</td>\n",
       "      <td>4.0</td>\n",
       "      <td>10.0</td>\n",
       "      <td>NaN</td>\n",
       "      <td>NaN</td>\n",
       "      <td>1.0</td>\n",
       "      <td>NaN</td>\n",
       "      <td>2.0</td>\n",
       "      <td>...</td>\n",
       "      <td>2.0</td>\n",
       "      <td>NaN</td>\n",
       "      <td>NaN</td>\n",
       "      <td>13.0</td>\n",
       "      <td>3.0</td>\n",
       "      <td>4.0</td>\n",
       "      <td>13.0</td>\n",
       "      <td>1.0</td>\n",
       "      <td>4.0</td>\n",
       "      <td>4.0</td>\n",
       "    </tr>\n",
       "  </tbody>\n",
       "</table>\n",
       "<p>12 rows × 1061 columns</p>\n",
       "</div>"
      ],
      "text/plain": [
       "store_id  4       8       161     179     262     295     353     453     \\\n",
       "j_m                                                                        \n",
       "1            NaN     3.0     1.0     4.0     4.0     NaN     NaN     NaN   \n",
       "2            1.0     3.0     NaN     3.0     6.0     NaN     NaN     1.0   \n",
       "3            6.0     NaN     1.0     3.0     6.0     NaN     NaN     NaN   \n",
       "4            NaN     5.0     NaN     3.0     3.0     NaN     NaN     NaN   \n",
       "5            1.0     1.0     NaN     4.0     7.0     1.0     NaN     NaN   \n",
       "6            2.0    10.0     NaN     2.0     6.0     NaN     NaN     NaN   \n",
       "7            2.0     7.0     NaN     4.0    12.0     NaN     1.0     NaN   \n",
       "8            2.0     6.0     2.0    13.0     6.0     NaN     NaN     NaN   \n",
       "9            2.0     4.0     1.0     6.0     5.0     2.0     NaN     NaN   \n",
       "10           3.0     5.0     NaN     6.0     5.0     NaN     NaN     NaN   \n",
       "11           4.0     1.0     NaN     8.0     6.0     NaN     NaN     NaN   \n",
       "12           2.0     2.0     NaN     4.0    10.0     NaN     NaN     1.0   \n",
       "\n",
       "store_id  456     466     ...  231420  231427  231428  231429  231430  231431  \\\n",
       "j_m                       ...                                                   \n",
       "1            NaN     1.0  ...     NaN     NaN     NaN     1.0     NaN     NaN   \n",
       "2            1.0     1.0  ...     NaN     NaN     NaN     4.0     1.0     NaN   \n",
       "3            NaN     2.0  ...     NaN     NaN     NaN     3.0     NaN     NaN   \n",
       "4            NaN     5.0  ...     NaN     NaN     NaN     4.0     NaN     2.0   \n",
       "5            NaN     4.0  ...     NaN     NaN     1.0     1.0     NaN     NaN   \n",
       "6            NaN    25.0  ...     NaN     NaN     1.0     6.0     NaN     NaN   \n",
       "7            3.0     7.0  ...     NaN     NaN     NaN     9.0     NaN     NaN   \n",
       "8            NaN     NaN  ...     NaN     NaN     1.0     5.0     5.0     NaN   \n",
       "9            NaN     4.0  ...     1.0     NaN     NaN    11.0     1.0     NaN   \n",
       "10           2.0     4.0  ...     1.0     NaN     NaN     4.0     2.0     NaN   \n",
       "11           NaN    16.0  ...     NaN     1.0     1.0    10.0     3.0     2.0   \n",
       "12           NaN     2.0  ...     2.0     NaN     NaN    13.0     3.0     4.0   \n",
       "\n",
       "store_id  231434  231444  231453  231465  \n",
       "j_m                                       \n",
       "1            2.0     NaN     3.0     NaN  \n",
       "2            4.0     NaN     1.0     NaN  \n",
       "3            3.0     1.0     4.0     2.0  \n",
       "4            1.0     NaN     1.0     1.0  \n",
       "5            4.0     NaN     NaN     NaN  \n",
       "6            3.0     NaN     2.0     1.0  \n",
       "7            4.0     NaN     1.0     1.0  \n",
       "8            8.0     NaN     3.0     1.0  \n",
       "9            4.0     NaN     NaN     1.0  \n",
       "10           3.0     1.0     2.0     3.0  \n",
       "11           2.0     NaN     2.0     NaN  \n",
       "12          13.0     1.0     4.0     4.0  \n",
       "\n",
       "[12 rows x 1061 columns]"
      ]
     },
     "execution_count": 82,
     "metadata": {},
     "output_type": "execute_result"
    }
   ],
   "source": [
    "df.groupby(['j_m','store_id'])['count'].sum().unstack()"
   ]
  },
  {
   "cell_type": "code",
   "execution_count": 83,
   "metadata": {},
   "outputs": [
    {
     "data": {
      "text/plain": [
       "<matplotlib.axes._subplots.AxesSubplot at 0x20f914559c8>"
      ]
     },
     "execution_count": 83,
     "metadata": {},
     "output_type": "execute_result"
    },
    {
     "data": {
      "image/png": "[encoded data removed]",
      "text/plain": [
       "<Figure size 432x288 with 1 Axes>"
      ]
     },
     "metadata": {
      "needs_background": "light"
     },
     "output_type": "display_data"
    }
   ],
   "source": [
    "sns.barplot(x='j_m',y=0,data=df.groupby(['j_m','store_id'])['count'].sum().unstack().mean(1).reset_index().sort_values(by=0,ascending=False))"
   ]
  },
  {
   "cell_type": "code",
   "execution_count": 84,
   "metadata": {},
   "outputs": [
    {
     "data": {
      "text/html": [
       "<style type=\"text/css\">\n",
       "#T_5ad76_row0_col0, #T_5ad76_row10_col1 {\n",
       "  background-color: #ffffff;\n",
       "  color: #000000;\n",
       "}\n",
       "#T_5ad76_row0_col1 {\n",
       "  background-color: #c2c2c2;\n",
       "  color: #000000;\n",
       "}\n",
       "#T_5ad76_row1_col0 {\n",
       "  background-color: #f4f4f4;\n",
       "  color: #000000;\n",
       "}\n",
       "#T_5ad76_row1_col1 {\n",
       "  background-color: #a7a7a7;\n",
       "  color: #f1f1f1;\n",
       "}\n",
       "#T_5ad76_row2_col0 {\n",
       "  background-color: #e6e6e6;\n",
       "  color: #000000;\n",
       "}\n",
       "#T_5ad76_row2_col1 {\n",
       "  background-color: #090909;\n",
       "  color: #f1f1f1;\n",
       "}\n",
       "#T_5ad76_row3_col0 {\n",
       "  background-color: #d4d4d4;\n",
       "  color: #000000;\n",
       "}\n",
       "#T_5ad76_row3_col1 {\n",
       "  background-color: #a3a3a3;\n",
       "  color: #f1f1f1;\n",
       "}\n",
       "#T_5ad76_row4_col0 {\n",
       "  background-color: #bfbfbf;\n",
       "  color: #000000;\n",
       "}\n",
       "#T_5ad76_row4_col1 {\n",
       "  background-color: #959595;\n",
       "  color: #f1f1f1;\n",
       "}\n",
       "#T_5ad76_row5_col0 {\n",
       "  background-color: #a4a4a4;\n",
       "  color: #f1f1f1;\n",
       "}\n",
       "#T_5ad76_row5_col1 {\n",
       "  background-color: #696969;\n",
       "  color: #f1f1f1;\n",
       "}\n",
       "#T_5ad76_row6_col0 {\n",
       "  background-color: #898989;\n",
       "  color: #f1f1f1;\n",
       "}\n",
       "#T_5ad76_row6_col1, #T_5ad76_row11_col0 {\n",
       "  background-color: #000000;\n",
       "  color: #f1f1f1;\n",
       "}\n",
       "#T_5ad76_row7_col0 {\n",
       "  background-color: #707070;\n",
       "  color: #f1f1f1;\n",
       "}\n",
       "#T_5ad76_row7_col1 {\n",
       "  background-color: #272727;\n",
       "  color: #f1f1f1;\n",
       "}\n",
       "#T_5ad76_row8_col0 {\n",
       "  background-color: #575757;\n",
       "  color: #f1f1f1;\n",
       "}\n",
       "#T_5ad76_row8_col1 {\n",
       "  background-color: #838383;\n",
       "  color: #f1f1f1;\n",
       "}\n",
       "#T_5ad76_row9_col0 {\n",
       "  background-color: #393939;\n",
       "  color: #f1f1f1;\n",
       "}\n",
       "#T_5ad76_row9_col1 {\n",
       "  background-color: #dadada;\n",
       "  color: #000000;\n",
       "}\n",
       "#T_5ad76_row10_col0 {\n",
       "  background-color: #1b1b1b;\n",
       "  color: #f1f1f1;\n",
       "}\n",
       "#T_5ad76_row11_col1 {\n",
       "  background-color: #858585;\n",
       "  color: #f1f1f1;\n",
       "}\n",
       "</style>\n",
       "<table id=\"T_5ad76_\">\n",
       "  <thead>\n",
       "    <tr>\n",
       "      <th class=\"blank level0\" >&nbsp;</th>\n",
       "      <th class=\"col_heading level0 col0\" >j_m</th>\n",
       "      <th class=\"col_heading level0 col1\" >0</th>\n",
       "    </tr>\n",
       "  </thead>\n",
       "  <tbody>\n",
       "    <tr>\n",
       "      <th id=\"T_5ad76_level0_row0\" class=\"row_heading level0 row0\" >0</th>\n",
       "      <td id=\"T_5ad76_row0_col0\" class=\"data row0 col0\" >1</td>\n",
       "      <td id=\"T_5ad76_row0_col1\" class=\"data row0 col1\" >93.849797</td>\n",
       "    </tr>\n",
       "    <tr>\n",
       "      <th id=\"T_5ad76_level0_row1\" class=\"row_heading level0 row1\" >1</th>\n",
       "      <td id=\"T_5ad76_row1_col0\" class=\"data row1 col0\" >2</td>\n",
       "      <td id=\"T_5ad76_row1_col1\" class=\"data row1 col1\" >95.886457</td>\n",
       "    </tr>\n",
       "    <tr>\n",
       "      <th id=\"T_5ad76_level0_row2\" class=\"row_heading level0 row2\" >2</th>\n",
       "      <td id=\"T_5ad76_row2_col0\" class=\"data row2 col0\" >3</td>\n",
       "      <td id=\"T_5ad76_row2_col1\" class=\"data row2 col1\" >106.729986</td>\n",
       "    </tr>\n",
       "    <tr>\n",
       "      <th id=\"T_5ad76_level0_row3\" class=\"row_heading level0 row3\" >3</th>\n",
       "      <td id=\"T_5ad76_row3_col0\" class=\"data row3 col0\" >4</td>\n",
       "      <td id=\"T_5ad76_row3_col1\" class=\"data row3 col1\" >96.111260</td>\n",
       "    </tr>\n",
       "    <tr>\n",
       "      <th id=\"T_5ad76_level0_row4\" class=\"row_heading level0 row4\" >4</th>\n",
       "      <td id=\"T_5ad76_row4_col0\" class=\"data row4 col0\" >5</td>\n",
       "      <td id=\"T_5ad76_row4_col1\" class=\"data row4 col1\" >96.958333</td>\n",
       "    </tr>\n",
       "    <tr>\n",
       "      <th id=\"T_5ad76_level0_row5\" class=\"row_heading level0 row5\" >5</th>\n",
       "      <td id=\"T_5ad76_row5_col0\" class=\"data row5 col0\" >6</td>\n",
       "      <td id=\"T_5ad76_row5_col1\" class=\"data row5 col1\" >100.334204</td>\n",
       "    </tr>\n",
       "    <tr>\n",
       "      <th id=\"T_5ad76_level0_row6\" class=\"row_heading level0 row6\" >6</th>\n",
       "      <td id=\"T_5ad76_row6_col0\" class=\"data row6 col0\" >7</td>\n",
       "      <td id=\"T_5ad76_row6_col1\" class=\"data row6 col1\" >107.418043</td>\n",
       "    </tr>\n",
       "    <tr>\n",
       "      <th id=\"T_5ad76_level0_row7\" class=\"row_heading level0 row7\" >7</th>\n",
       "      <td id=\"T_5ad76_row7_col0\" class=\"data row7 col0\" >8</td>\n",
       "      <td id=\"T_5ad76_row7_col1\" class=\"data row7 col1\" >104.682519</td>\n",
       "    </tr>\n",
       "    <tr>\n",
       "      <th id=\"T_5ad76_level0_row8\" class=\"row_heading level0 row8\" >8</th>\n",
       "      <td id=\"T_5ad76_row8_col0\" class=\"data row8 col0\" >9</td>\n",
       "      <td id=\"T_5ad76_row8_col1\" class=\"data row8 col1\" >98.348045</td>\n",
       "    </tr>\n",
       "    <tr>\n",
       "      <th id=\"T_5ad76_level0_row9\" class=\"row_heading level0 row9\" >9</th>\n",
       "      <td id=\"T_5ad76_row9_col0\" class=\"data row9 col0\" >10</td>\n",
       "      <td id=\"T_5ad76_row9_col1\" class=\"data row9 col1\" >91.711418</td>\n",
       "    </tr>\n",
       "    <tr>\n",
       "      <th id=\"T_5ad76_level0_row10\" class=\"row_heading level0 row10\" >10</th>\n",
       "      <td id=\"T_5ad76_row10_col0\" class=\"data row10 col0\" >11</td>\n",
       "      <td id=\"T_5ad76_row10_col1\" class=\"data row10 col1\" >86.486585</td>\n",
       "    </tr>\n",
       "    <tr>\n",
       "      <th id=\"T_5ad76_level0_row11\" class=\"row_heading level0 row11\" >11</th>\n",
       "      <td id=\"T_5ad76_row11_col0\" class=\"data row11 col0\" >12</td>\n",
       "      <td id=\"T_5ad76_row11_col1\" class=\"data row11 col1\" >98.182390</td>\n",
       "    </tr>\n",
       "  </tbody>\n",
       "</table>\n"
      ],
      "text/plain": [
       "<pandas.io.formats.style.Styler at 0x20f91503488>"
      ]
     },
     "execution_count": 84,
     "metadata": {},
     "output_type": "execute_result"
    }
   ],
   "source": [
    "df.groupby(['j_m','store_id'])['count'].sum().unstack().mean(1).reset_index().style.background_gradient(cmap ='Greys')"
   ]
  },
  {
   "cell_type": "markdown",
   "metadata": {},
   "source": [
    "- 가입 월별로보면, 7월,3월,8월에 가입한 고객이 주차장별 결제건수의 합이 높고 11월에 가입한 고객이 결제건수의 합의 평균이 제일 낮음  "
   ]
  },
  {
   "cell_type": "code",
   "execution_count": 85,
   "metadata": {},
   "outputs": [
    {
     "data": {
      "text/html": [
       "<div>\n",
       "<style scoped>\n",
       "    .dataframe tbody tr th:only-of-type {\n",
       "        vertical-align: middle;\n",
       "    }\n",
       "\n",
       "    .dataframe tbody tr th {\n",
       "        vertical-align: top;\n",
       "    }\n",
       "\n",
       "    .dataframe thead th {\n",
       "        text-align: right;\n",
       "    }\n",
       "</style>\n",
       "<table border=\"1\" class=\"dataframe\">\n",
       "  <thead>\n",
       "    <tr style=\"text-align: right;\">\n",
       "      <th></th>\n",
       "      <th>user_id</th>\n",
       "      <th>count</th>\n",
       "    </tr>\n",
       "  </thead>\n",
       "  <tbody>\n",
       "    <tr>\n",
       "      <th>44115</th>\n",
       "      <td>999665</td>\n",
       "      <td>7919</td>\n",
       "    </tr>\n",
       "    <tr>\n",
       "      <th>100781</th>\n",
       "      <td>1514190</td>\n",
       "      <td>284</td>\n",
       "    </tr>\n",
       "    <tr>\n",
       "      <th>16448</th>\n",
       "      <td>591610</td>\n",
       "      <td>245</td>\n",
       "    </tr>\n",
       "    <tr>\n",
       "      <th>90227</th>\n",
       "      <td>1467323</td>\n",
       "      <td>239</td>\n",
       "    </tr>\n",
       "    <tr>\n",
       "      <th>76230</th>\n",
       "      <td>1355841</td>\n",
       "      <td>235</td>\n",
       "    </tr>\n",
       "    <tr>\n",
       "      <th>...</th>\n",
       "      <td>...</td>\n",
       "      <td>...</td>\n",
       "    </tr>\n",
       "    <tr>\n",
       "      <th>45671</th>\n",
       "      <td>1023974</td>\n",
       "      <td>1</td>\n",
       "    </tr>\n",
       "    <tr>\n",
       "      <th>110166</th>\n",
       "      <td>1551355</td>\n",
       "      <td>1</td>\n",
       "    </tr>\n",
       "    <tr>\n",
       "      <th>45674</th>\n",
       "      <td>1024027</td>\n",
       "      <td>1</td>\n",
       "    </tr>\n",
       "    <tr>\n",
       "      <th>45676</th>\n",
       "      <td>1024047</td>\n",
       "      <td>1</td>\n",
       "    </tr>\n",
       "    <tr>\n",
       "      <th>165424</th>\n",
       "      <td>1830598</td>\n",
       "      <td>1</td>\n",
       "    </tr>\n",
       "  </tbody>\n",
       "</table>\n",
       "<p>165425 rows × 2 columns</p>\n",
       "</div>"
      ],
      "text/plain": [
       "        user_id  count\n",
       "44115    999665   7919\n",
       "100781  1514190    284\n",
       "16448    591610    245\n",
       "90227   1467323    239\n",
       "76230   1355841    235\n",
       "...         ...    ...\n",
       "45671   1023974      1\n",
       "110166  1551355      1\n",
       "45674   1024027      1\n",
       "45676   1024047      1\n",
       "165424  1830598      1\n",
       "\n",
       "[165425 rows x 2 columns]"
      ]
     },
     "execution_count": 85,
     "metadata": {},
     "output_type": "execute_result"
    }
   ],
   "source": [
    "# 이력 CLV(고객생애가치) 구하기\n",
    "tempt=df.groupby('user_id')['count'].sum().reset_index().sort_values(by='count',ascending=False)\n",
    "tempt"
   ]
  },
  {
   "cell_type": "markdown",
   "metadata": {},
   "source": [
    "- 165425명의 고객을 모두 다룰수는 없으니 상위 100명 출력  \n",
    "    user_id가 44115인 고객은 이용횟수가 터무니없이 많아 이상값으로 판단이 되어서 제거해야함을 확인"
   ]
  },
  {
   "cell_type": "code",
   "execution_count": 86,
   "metadata": {},
   "outputs": [
    {
     "data": {
      "text/plain": [
       "<matplotlib.axes._subplots.AxesSubplot at 0x20f948c1848>"
      ]
     },
     "execution_count": 86,
     "metadata": {},
     "output_type": "execute_result"
    },
    {
     "data": {
      "image/png": "[encoded data removed]",
      "text/plain": [
       "<Figure size 432x288 with 1 Axes>"
      ]
     },
     "metadata": {
      "needs_background": "light"
     },
     "output_type": "display_data"
    }
   ],
   "source": [
    "sns.barplot(x='user_id',y='count',data=tempt.iloc[:100,:])"
   ]
  },
  {
   "cell_type": "code",
   "execution_count": 87,
   "metadata": {},
   "outputs": [],
   "source": [
    "# 제거\n",
    "df=df.loc[df.user_id!=44115,:]"
   ]
  },
  {
   "cell_type": "markdown",
   "metadata": {},
   "source": [
    "#### 유저별 사용 지역별 분석"
   ]
  },
  {
   "cell_type": "code",
   "execution_count": 88,
   "metadata": {},
   "outputs": [],
   "source": [
    "tempt2=df.groupby(['user_id','ad1'])['count'].sum().sort_values(ascending=False)"
   ]
  },
  {
   "cell_type": "code",
   "execution_count": 89,
   "metadata": {},
   "outputs": [
    {
     "data": {
      "text/html": [
       "<div>\n",
       "<style scoped>\n",
       "    .dataframe tbody tr th:only-of-type {\n",
       "        vertical-align: middle;\n",
       "    }\n",
       "\n",
       "    .dataframe tbody tr th {\n",
       "        vertical-align: top;\n",
       "    }\n",
       "\n",
       "    .dataframe thead th {\n",
       "        text-align: right;\n",
       "    }\n",
       "</style>\n",
       "<table border=\"1\" class=\"dataframe\">\n",
       "  <thead>\n",
       "    <tr style=\"text-align: right;\">\n",
       "      <th></th>\n",
       "      <th>user_id</th>\n",
       "      <th>ad1</th>\n",
       "      <th>count</th>\n",
       "    </tr>\n",
       "  </thead>\n",
       "  <tbody>\n",
       "    <tr>\n",
       "      <th>0</th>\n",
       "      <td>999665</td>\n",
       "      <td>J</td>\n",
       "      <td>1917</td>\n",
       "    </tr>\n",
       "    <tr>\n",
       "      <th>1</th>\n",
       "      <td>999665</td>\n",
       "      <td>GN</td>\n",
       "      <td>1310</td>\n",
       "    </tr>\n",
       "    <tr>\n",
       "      <th>2</th>\n",
       "      <td>999665</td>\n",
       "      <td>JRR</td>\n",
       "      <td>1009</td>\n",
       "    </tr>\n",
       "    <tr>\n",
       "      <th>3</th>\n",
       "      <td>999665</td>\n",
       "      <td>SC</td>\n",
       "      <td>904</td>\n",
       "    </tr>\n",
       "    <tr>\n",
       "      <th>4</th>\n",
       "      <td>999665</td>\n",
       "      <td>MP</td>\n",
       "      <td>384</td>\n",
       "    </tr>\n",
       "    <tr>\n",
       "      <th>...</th>\n",
       "      <td>...</td>\n",
       "      <td>...</td>\n",
       "      <td>...</td>\n",
       "    </tr>\n",
       "    <tr>\n",
       "      <th>255193</th>\n",
       "      <td>1179447</td>\n",
       "      <td>J</td>\n",
       "      <td>1</td>\n",
       "    </tr>\n",
       "    <tr>\n",
       "      <th>255194</th>\n",
       "      <td>1179464</td>\n",
       "      <td>CD</td>\n",
       "      <td>1</td>\n",
       "    </tr>\n",
       "    <tr>\n",
       "      <th>255195</th>\n",
       "      <td>1179474</td>\n",
       "      <td>GN</td>\n",
       "      <td>1</td>\n",
       "    </tr>\n",
       "    <tr>\n",
       "      <th>255196</th>\n",
       "      <td>1179476</td>\n",
       "      <td>J</td>\n",
       "      <td>1</td>\n",
       "    </tr>\n",
       "    <tr>\n",
       "      <th>255197</th>\n",
       "      <td>1830598</td>\n",
       "      <td>SC</td>\n",
       "      <td>1</td>\n",
       "    </tr>\n",
       "  </tbody>\n",
       "</table>\n",
       "<p>255198 rows × 3 columns</p>\n",
       "</div>"
      ],
      "text/plain": [
       "        user_id  ad1  count\n",
       "0        999665    J   1917\n",
       "1        999665   GN   1310\n",
       "2        999665  JRR   1009\n",
       "3        999665   SC    904\n",
       "4        999665   MP    384\n",
       "...         ...  ...    ...\n",
       "255193  1179447    J      1\n",
       "255194  1179464   CD      1\n",
       "255195  1179474   GN      1\n",
       "255196  1179476    J      1\n",
       "255197  1830598   SC      1\n",
       "\n",
       "[255198 rows x 3 columns]"
      ]
     },
     "execution_count": 89,
     "metadata": {},
     "output_type": "execute_result"
    }
   ],
   "source": [
    "tempt2.reset_index()"
   ]
  },
  {
   "cell_type": "code",
   "execution_count": 90,
   "metadata": {},
   "outputs": [],
   "source": [
    "reg=tempt2.reset_index().groupby('user_id')['count'].mean().sort_values(ascending=False)\n",
    "reg=reg.reset_index()"
   ]
  },
  {
   "cell_type": "code",
   "execution_count": 91,
   "metadata": {},
   "outputs": [],
   "source": [
    "f1= lambda x: x/x.sum()*100\n",
    "reg['pct']=reg[['count']].apply(f1,0)"
   ]
  },
  {
   "cell_type": "code",
   "execution_count": 92,
   "metadata": {},
   "outputs": [
    {
     "data": {
      "text/html": [
       "<div>\n",
       "<style scoped>\n",
       "    .dataframe tbody tr th:only-of-type {\n",
       "        vertical-align: middle;\n",
       "    }\n",
       "\n",
       "    .dataframe tbody tr th {\n",
       "        vertical-align: top;\n",
       "    }\n",
       "\n",
       "    .dataframe thead th {\n",
       "        text-align: right;\n",
       "    }\n",
       "</style>\n",
       "<table border=\"1\" class=\"dataframe\">\n",
       "  <thead>\n",
       "    <tr style=\"text-align: right;\">\n",
       "      <th></th>\n",
       "      <th>user_id</th>\n",
       "      <th>count</th>\n",
       "      <th>pct</th>\n",
       "    </tr>\n",
       "  </thead>\n",
       "  <tbody>\n",
       "    <tr>\n",
       "      <th>0</th>\n",
       "      <td>999665</td>\n",
       "      <td>282.821429</td>\n",
       "      <td>0.046741</td>\n",
       "    </tr>\n",
       "    <tr>\n",
       "      <th>1</th>\n",
       "      <td>591610</td>\n",
       "      <td>245.000000</td>\n",
       "      <td>0.040490</td>\n",
       "    </tr>\n",
       "    <tr>\n",
       "      <th>2</th>\n",
       "      <td>1467323</td>\n",
       "      <td>239.000000</td>\n",
       "      <td>0.039498</td>\n",
       "    </tr>\n",
       "    <tr>\n",
       "      <th>3</th>\n",
       "      <td>1355841</td>\n",
       "      <td>235.000000</td>\n",
       "      <td>0.038837</td>\n",
       "    </tr>\n",
       "    <tr>\n",
       "      <th>4</th>\n",
       "      <td>1365069</td>\n",
       "      <td>222.000000</td>\n",
       "      <td>0.036689</td>\n",
       "    </tr>\n",
       "    <tr>\n",
       "      <th>...</th>\n",
       "      <td>...</td>\n",
       "      <td>...</td>\n",
       "      <td>...</td>\n",
       "    </tr>\n",
       "    <tr>\n",
       "      <th>165420</th>\n",
       "      <td>1322915</td>\n",
       "      <td>1.000000</td>\n",
       "      <td>0.000165</td>\n",
       "    </tr>\n",
       "    <tr>\n",
       "      <th>165421</th>\n",
       "      <td>1322888</td>\n",
       "      <td>1.000000</td>\n",
       "      <td>0.000165</td>\n",
       "    </tr>\n",
       "    <tr>\n",
       "      <th>165422</th>\n",
       "      <td>1322884</td>\n",
       "      <td>1.000000</td>\n",
       "      <td>0.000165</td>\n",
       "    </tr>\n",
       "    <tr>\n",
       "      <th>165423</th>\n",
       "      <td>1322880</td>\n",
       "      <td>1.000000</td>\n",
       "      <td>0.000165</td>\n",
       "    </tr>\n",
       "    <tr>\n",
       "      <th>165424</th>\n",
       "      <td>1830598</td>\n",
       "      <td>1.000000</td>\n",
       "      <td>0.000165</td>\n",
       "    </tr>\n",
       "  </tbody>\n",
       "</table>\n",
       "<p>165425 rows × 3 columns</p>\n",
       "</div>"
      ],
      "text/plain": [
       "        user_id       count       pct\n",
       "0        999665  282.821429  0.046741\n",
       "1        591610  245.000000  0.040490\n",
       "2       1467323  239.000000  0.039498\n",
       "3       1355841  235.000000  0.038837\n",
       "4       1365069  222.000000  0.036689\n",
       "...         ...         ...       ...\n",
       "165420  1322915    1.000000  0.000165\n",
       "165421  1322888    1.000000  0.000165\n",
       "165422  1322884    1.000000  0.000165\n",
       "165423  1322880    1.000000  0.000165\n",
       "165424  1830598    1.000000  0.000165\n",
       "\n",
       "[165425 rows x 3 columns]"
      ]
     },
     "execution_count": 92,
     "metadata": {},
     "output_type": "execute_result"
    }
   ],
   "source": [
    "reg"
   ]
  },
  {
   "cell_type": "code",
   "execution_count": 93,
   "metadata": {},
   "outputs": [],
   "source": [
    "reg['pct_cumsum']=reg.pct.cumsum()"
   ]
  },
  {
   "cell_type": "code",
   "execution_count": 94,
   "metadata": {},
   "outputs": [],
   "source": [
    "l1=[]\n",
    "for i in reg.pct_cumsum:\n",
    "    if i > 66:\n",
    "        l1.append('하')\n",
    "    elif i > 33:\n",
    "        l1.append('중')\n",
    "    else:\n",
    "        l1.append('상')\n",
    "\n",
    "\n",
    "reg['reg_grade']=l1"
   ]
  },
  {
   "cell_type": "code",
   "execution_count": 95,
   "metadata": {},
   "outputs": [
    {
     "data": {
      "text/plain": [
       "ad1\n",
       "DY      48.000000\n",
       "BUD      8.217391\n",
       "DIV      7.090909\n",
       "GS       4.824812\n",
       "P        4.695421\n",
       "          ...    \n",
       "VO       1.000000\n",
       "WOID     1.000000\n",
       "NW       1.000000\n",
       "SP       1.000000\n",
       "GR       1.000000\n",
       "Name: 결제합계, Length: 85, dtype: float64"
      ]
     },
     "execution_count": 95,
     "metadata": {},
     "output_type": "execute_result"
    }
   ],
   "source": [
    "a=tempt2.reset_index()\n",
    "a.columns=['user_id','ad1','결제합계']\n",
    "a=a.groupby('ad1')['결제합계'].mean()\n",
    "a.sort_values(ascending=False)"
   ]
  },
  {
   "cell_type": "code",
   "execution_count": 96,
   "metadata": {
    "scrolled": true
   },
   "outputs": [
    {
     "data": {
      "text/plain": [
       "<matplotlib.axes._subplots.AxesSubplot at 0x20f998b77c8>"
      ]
     },
     "execution_count": 96,
     "metadata": {},
     "output_type": "execute_result"
    },
    {
     "data": {
      "image/png": "[encoded data removed]",
      "text/plain": [
       "<Figure size 432x288 with 1 Axes>"
      ]
     },
     "metadata": {
      "needs_background": "light"
     },
     "output_type": "display_data"
    }
   ],
   "source": [
    "sns.barplot(x='ad1',y='결제합계',data=a.reset_index())"
   ]
  },
  {
   "cell_type": "markdown",
   "metadata": {},
   "source": [
    "- 위 데이터에 따르면 다음의 결과를 도출할 수 있다.\n",
    "- user_id가 999665인 사람이 제일 많이 결제하며, 다른 상위권 사용자와 비교해도 10,000건 정도의 차이가 있다.\n",
    "- 유저별 지역별 결제건수의 합계의 지역별 평균의 경우에는 DY가 제일 많이 결제되는 지역으로, 사용자에서 이상값을 찾은것처럼\n",
    "    이상값으로 판단되어 제거할 필요가 있다."
   ]
  },
  {
   "cell_type": "code",
   "execution_count": 97,
   "metadata": {},
   "outputs": [],
   "source": [
    "df=df.query(\"ad1 !='DY'\")"
   ]
  },
  {
   "cell_type": "code",
   "execution_count": 98,
   "metadata": {},
   "outputs": [],
   "source": [
    "df=pd.merge(df,reg.loc[:,['user_id','reg_grade']],on='user_id',how='left')"
   ]
  },
  {
   "cell_type": "code",
   "execution_count": 99,
   "metadata": {},
   "outputs": [
    {
     "data": {
      "text/plain": [
       "879270"
      ]
     },
     "execution_count": 99,
     "metadata": {},
     "output_type": "execute_result"
    }
   ],
   "source": [
    "df.shape[0]"
   ]
  },
  {
   "cell_type": "markdown",
   "metadata": {},
   "source": [
    "***"
   ]
  },
  {
   "cell_type": "markdown",
   "metadata": {},
   "source": [
    "#### 교통량 데이터로 혼잡도 변수 추가"
   ]
  },
  {
   "cell_type": "code",
   "execution_count": 100,
   "metadata": {},
   "outputs": [],
   "source": [
    "traffic=pd.read_csv('2020trafficsum.csv',encoding='utf-8')"
   ]
  },
  {
   "cell_type": "code",
   "execution_count": 101,
   "metadata": {},
   "outputs": [],
   "source": [
    "traffic=traffic.set_index('DATE')"
   ]
  },
  {
   "cell_type": "code",
   "execution_count": 102,
   "metadata": {},
   "outputs": [
    {
     "data": {
      "text/plain": [
       "42715.0"
      ]
     },
     "execution_count": 102,
     "metadata": {},
     "output_type": "execute_result"
    }
   ],
   "source": [
    "df_traf=traffic.iloc[:,4:].sum(1)\n",
    "df_traf.quantile(0.75)"
   ]
  },
  {
   "cell_type": "code",
   "execution_count": 103,
   "metadata": {},
   "outputs": [],
   "source": [
    "l1=[]\n",
    "for i in range(df_traf.shape[0]):\n",
    "    if df_traf[i] > 42715:\n",
    "        l1.append(0)\n",
    "    else :\n",
    "        l1.append(1)"
   ]
  },
  {
   "cell_type": "code",
   "execution_count": 104,
   "metadata": {},
   "outputs": [],
   "source": [
    "df_traf=df_traf.reset_index()\n",
    "df_traf['confusion']=l1"
   ]
  },
  {
   "cell_type": "code",
   "execution_count": 105,
   "metadata": {},
   "outputs": [],
   "source": [
    "df_traf=df_traf.loc[:,['DATE','confusion']]\n",
    "df_traf.columns=['date','confusion']"
   ]
  },
  {
   "cell_type": "code",
   "execution_count": 106,
   "metadata": {
    "scrolled": true
   },
   "outputs": [],
   "source": [
    "df_traf=df_traf.groupby(['date'])['confusion'].sum()"
   ]
  },
  {
   "cell_type": "code",
   "execution_count": 107,
   "metadata": {},
   "outputs": [],
   "source": [
    "df_traf=df_traf.reset_index()"
   ]
  },
  {
   "cell_type": "code",
   "execution_count": 108,
   "metadata": {},
   "outputs": [],
   "source": [
    "df_traf.date=pd.to_datetime(df_traf.date)"
   ]
  },
  {
   "cell_type": "code",
   "execution_count": 109,
   "metadata": {},
   "outputs": [],
   "source": [
    "df=pd.merge(df,df_traf,on='date',how='left')"
   ]
  },
  {
   "cell_type": "code",
   "execution_count": 110,
   "metadata": {},
   "outputs": [
    {
     "data": {
      "text/plain": [
       "879270"
      ]
     },
     "execution_count": 110,
     "metadata": {},
     "output_type": "execute_result"
    }
   ],
   "source": [
    "df.shape[0]"
   ]
  },
  {
   "cell_type": "markdown",
   "metadata": {},
   "source": [
    "#### 기상데이터 추가"
   ]
  },
  {
   "cell_type": "code",
   "execution_count": 111,
   "metadata": {},
   "outputs": [],
   "source": [
    "weather=pd.read_csv('서울시_기상데이터.csv',encoding='cp949')"
   ]
  },
  {
   "cell_type": "code",
   "execution_count": 112,
   "metadata": {},
   "outputs": [
    {
     "data": {
      "text/html": [
       "<div>\n",
       "<style scoped>\n",
       "    .dataframe tbody tr th:only-of-type {\n",
       "        vertical-align: middle;\n",
       "    }\n",
       "\n",
       "    .dataframe tbody tr th {\n",
       "        vertical-align: top;\n",
       "    }\n",
       "\n",
       "    .dataframe thead th {\n",
       "        text-align: right;\n",
       "    }\n",
       "</style>\n",
       "<table border=\"1\" class=\"dataframe\">\n",
       "  <thead>\n",
       "    <tr style=\"text-align: right;\">\n",
       "      <th></th>\n",
       "      <th>지점</th>\n",
       "      <th>일시</th>\n",
       "      <th>기온</th>\n",
       "      <th>강수량</th>\n",
       "      <th>풍속</th>\n",
       "      <th>습도</th>\n",
       "      <th>일조시간</th>\n",
       "      <th>적설량</th>\n",
       "      <th>지면온도</th>\n",
       "      <th>지중온도</th>\n",
       "    </tr>\n",
       "  </thead>\n",
       "  <tbody>\n",
       "    <tr>\n",
       "      <th>0</th>\n",
       "      <td>108</td>\n",
       "      <td>2020-01-01 1:00</td>\n",
       "      <td>-5.9</td>\n",
       "      <td>NaN</td>\n",
       "      <td>1.7</td>\n",
       "      <td>40</td>\n",
       "      <td>NaN</td>\n",
       "      <td>NaN</td>\n",
       "      <td>-2.4</td>\n",
       "      <td>3.2</td>\n",
       "    </tr>\n",
       "    <tr>\n",
       "      <th>1</th>\n",
       "      <td>108</td>\n",
       "      <td>2020-01-01 2:00</td>\n",
       "      <td>-5.7</td>\n",
       "      <td>NaN</td>\n",
       "      <td>0.1</td>\n",
       "      <td>42</td>\n",
       "      <td>NaN</td>\n",
       "      <td>NaN</td>\n",
       "      <td>-2.4</td>\n",
       "      <td>3.1</td>\n",
       "    </tr>\n",
       "    <tr>\n",
       "      <th>2</th>\n",
       "      <td>108</td>\n",
       "      <td>2020-01-01 3:00</td>\n",
       "      <td>-5.6</td>\n",
       "      <td>0.0</td>\n",
       "      <td>0.0</td>\n",
       "      <td>46</td>\n",
       "      <td>NaN</td>\n",
       "      <td>NaN</td>\n",
       "      <td>-2.7</td>\n",
       "      <td>3.1</td>\n",
       "    </tr>\n",
       "    <tr>\n",
       "      <th>3</th>\n",
       "      <td>108</td>\n",
       "      <td>2020-01-01 4:00</td>\n",
       "      <td>-5.4</td>\n",
       "      <td>NaN</td>\n",
       "      <td>0.0</td>\n",
       "      <td>50</td>\n",
       "      <td>NaN</td>\n",
       "      <td>NaN</td>\n",
       "      <td>-2.5</td>\n",
       "      <td>3.0</td>\n",
       "    </tr>\n",
       "    <tr>\n",
       "      <th>4</th>\n",
       "      <td>108</td>\n",
       "      <td>2020-01-01 5:00</td>\n",
       "      <td>-5.2</td>\n",
       "      <td>NaN</td>\n",
       "      <td>0.0</td>\n",
       "      <td>55</td>\n",
       "      <td>NaN</td>\n",
       "      <td>NaN</td>\n",
       "      <td>-2.2</td>\n",
       "      <td>3.0</td>\n",
       "    </tr>\n",
       "  </tbody>\n",
       "</table>\n",
       "</div>"
      ],
      "text/plain": [
       "    지점               일시   기온  강수량   풍속  습도  일조시간  적설량  지면온도  지중온도\n",
       "0  108  2020-01-01 1:00 -5.9  NaN  1.7  40   NaN  NaN  -2.4   3.2\n",
       "1  108  2020-01-01 2:00 -5.7  NaN  0.1  42   NaN  NaN  -2.4   3.1\n",
       "2  108  2020-01-01 3:00 -5.6  0.0  0.0  46   NaN  NaN  -2.7   3.1\n",
       "3  108  2020-01-01 4:00 -5.4  NaN  0.0  50   NaN  NaN  -2.5   3.0\n",
       "4  108  2020-01-01 5:00 -5.2  NaN  0.0  55   NaN  NaN  -2.2   3.0"
      ]
     },
     "execution_count": 112,
     "metadata": {},
     "output_type": "execute_result"
    }
   ],
   "source": [
    "weather.head()"
   ]
  },
  {
   "cell_type": "code",
   "execution_count": 113,
   "metadata": {},
   "outputs": [],
   "source": [
    "weather['일시']=pd.to_datetime(weather.일시).dt.strftime(\"%Y-%m-%d\")"
   ]
  },
  {
   "cell_type": "code",
   "execution_count": 114,
   "metadata": {},
   "outputs": [],
   "source": [
    "weather['일시']=pd.to_datetime(weather.일시)"
   ]
  },
  {
   "cell_type": "code",
   "execution_count": 115,
   "metadata": {},
   "outputs": [],
   "source": [
    "weather=weather.fillna(0)"
   ]
  },
  {
   "cell_type": "code",
   "execution_count": 116,
   "metadata": {},
   "outputs": [],
   "source": [
    "weather=weather.groupby('일시')[['적설량','풍속','강수량']].mean()"
   ]
  },
  {
   "cell_type": "markdown",
   "metadata": {},
   "source": [
    "1. 일일 강수량이 80이상(폭우 기준)  \n",
    "2. 일일 적설량이 5이상(데이터가 실제 대설주의보를 측정하는 신적설은 아닌것 같지만 적절한 기준이라 판단해 사용)  \n",
    "3. 풍속이 4이상(임의로 설정한 기준)  \n",
    "    1~3조건 중 하나라도 만족하는 날은 Bad_Weather로 선정"
   ]
  },
  {
   "cell_type": "code",
   "execution_count": 117,
   "metadata": {},
   "outputs": [],
   "source": [
    "l1=[]\n",
    "for i in range(weather.shape[0]):\n",
    "    if weather['적설량'][i] > 5 or weather['풍속'][i] > 4 or weather['강수량'][i] > 80:\n",
    "        l1.append('B_W')\n",
    "    else:\n",
    "        l1.append('NB_W')"
   ]
  },
  {
   "cell_type": "code",
   "execution_count": 118,
   "metadata": {},
   "outputs": [],
   "source": [
    "weather['status']=l1"
   ]
  },
  {
   "cell_type": "code",
   "execution_count": 119,
   "metadata": {},
   "outputs": [],
   "source": [
    "weather=weather.reset_index()"
   ]
  },
  {
   "cell_type": "code",
   "execution_count": 120,
   "metadata": {},
   "outputs": [],
   "source": [
    "weather=weather.loc[:,['일시','status']]\n",
    "weather.columns=['date','날씨상태']"
   ]
  },
  {
   "cell_type": "code",
   "execution_count": 121,
   "metadata": {},
   "outputs": [],
   "source": [
    "df=pd.merge(df,weather,on='date',how='left')"
   ]
  },
  {
   "cell_type": "code",
   "execution_count": 122,
   "metadata": {},
   "outputs": [
    {
     "data": {
      "text/plain": [
       "879270"
      ]
     },
     "execution_count": 122,
     "metadata": {},
     "output_type": "execute_result"
    }
   ],
   "source": [
    "df.shape[0]"
   ]
  },
  {
   "cell_type": "markdown",
   "metadata": {},
   "source": [
    "***"
   ]
  },
  {
   "cell_type": "markdown",
   "metadata": {},
   "source": [
    "### Ⅴ. 변수를 추가해 다시 머신러닝 수행\n",
    "#### - 요일별 유저별 분석과 교통량 날씨 데이터를 통해 새로운 변수 (weekdayYN,holiday,reg_grade,confusion,status) 추가 학습"
   ]
  },
  {
   "cell_type": "code",
   "execution_count": 123,
   "metadata": {},
   "outputs": [],
   "source": [
    "Train_X=df.loc[df['date']<'20201001',:].drop('count',axis=1)\n",
    "Train_y=df.loc[df['date']<'20201001','count']\n",
    "Train_X=Train_X.drop(['join_date','date'],axis=1)\n",
    "Test_X=df.loc[df['date']>='20201001',:].drop('count',axis=1)\n",
    "Test_X=Test_X.drop(['join_date','date'],axis=1)\n",
    "Test_y=df.loc[df['date']>='20201001','count']"
   ]
  },
  {
   "cell_type": "code",
   "execution_count": 124,
   "metadata": {},
   "outputs": [],
   "source": [
    "Train_X=Train_X.reindex(['user_id', 'd_type', 'store_id', 'goods_type', 'ad1','j_y',\n",
    "       'j_m', 'j_wday', 'p_y', 'p_m', 'holiday','weekdayYN', 'reg_grade', 'confusion', 'status'],axis=1)\n",
    "Test_X=Test_X.reindex(['user_id', 'd_type', 'store_id', 'goods_type', 'ad1','j_y',\n",
    "       'j_m', 'j_wday', 'p_y', 'p_m', 'holiday','weekdayYN', 'reg_grade', 'confusion', 'status'],axis=1)"
   ]
  },
  {
   "cell_type": "code",
   "execution_count": 125,
   "metadata": {},
   "outputs": [],
   "source": [
    "col1=Train_X.columns.values\n",
    "\n",
    "train_numcol=[]\n",
    "train_strcol=[]\n",
    "for i in col1:\n",
    "    if Train_X[i].dtype == 'int64':\n",
    "        train_numcol.append(i)\n",
    "    elif Train_X[i].dtype == 'object':\n",
    "        train_strcol.append(i)\n",
    "        "
   ]
  },
  {
   "cell_type": "code",
   "execution_count": 126,
   "metadata": {},
   "outputs": [],
   "source": [
    "col2=Test_X.columns.values\n",
    "test_numcol=[]\n",
    "test_strcol=[]\n",
    "for i in col1:\n",
    "    if Train_X[i].dtype == 'int64':\n",
    "        test_numcol.append(i)\n",
    "    elif Train_X[i].dtype == 'object':\n",
    "        test_strcol.append(i)"
   ]
  },
  {
   "cell_type": "code",
   "execution_count": 127,
   "metadata": {},
   "outputs": [],
   "source": [
    "# 스케일링\n",
    "Train_X.loc[:,train_numcol]=scaler.fit_transform(Train_X.loc[:,train_numcol])\n",
    "Test_X.loc[:,test_numcol]=scaler.fit_transform(Test_X.loc[:,test_numcol])"
   ]
  },
  {
   "cell_type": "code",
   "execution_count": 128,
   "metadata": {},
   "outputs": [],
   "source": [
    "# 인코딩\n",
    "Train_X=pd.get_dummies(Train_X)\n",
    "Test_X=pd.get_dummies(Test_X)"
   ]
  },
  {
   "cell_type": "code",
   "execution_count": 129,
   "metadata": {},
   "outputs": [],
   "source": [
    "a1=Train_X.columns.values"
   ]
  },
  {
   "cell_type": "code",
   "execution_count": 130,
   "metadata": {},
   "outputs": [],
   "source": [
    "b1=Test_X.columns.values"
   ]
  },
  {
   "cell_type": "code",
   "execution_count": 131,
   "metadata": {},
   "outputs": [
    {
     "data": {
      "text/plain": [
       "['ad1_NW', 'ad1_SP', 'ad1_WOID']"
      ]
     },
     "execution_count": 131,
     "metadata": {},
     "output_type": "execute_result"
    }
   ],
   "source": [
    "# test에 없는 train 컬럼\n",
    "l12=[]\n",
    "for i in a1:\n",
    "    if i not in b1:\n",
    "        l12.append(i)\n",
    "l12"
   ]
  },
  {
   "cell_type": "code",
   "execution_count": 132,
   "metadata": {},
   "outputs": [
    {
     "data": {
      "text/plain": [
       "['ad1_ADS', 'ad1_CVB', 'ad1_GR', 'ad1_VO', 'ad1_WH', 'ad1_X']"
      ]
     },
     "execution_count": 132,
     "metadata": {},
     "output_type": "execute_result"
    }
   ],
   "source": [
    "# train에 없는 test 컬럼\n",
    "l11=[]\n",
    "for i in b1:\n",
    "    if i not in a1:\n",
    "        l11.append(i)\n",
    "l11"
   ]
  },
  {
   "cell_type": "code",
   "execution_count": 133,
   "metadata": {},
   "outputs": [],
   "source": [
    "Train_X=Train_X.drop(l12,axis=1)"
   ]
  },
  {
   "cell_type": "code",
   "execution_count": 134,
   "metadata": {},
   "outputs": [],
   "source": [
    "Test_X=Test_X.drop(l11,axis=1)"
   ]
  },
  {
   "cell_type": "code",
   "execution_count": 135,
   "metadata": {},
   "outputs": [
    {
     "data": {
      "text/plain": [
       "XGBRegressor(base_score=0.5, booster='gbtree', colsample_bylevel=1,\n",
       "             colsample_bynode=1, colsample_bytree=1, gamma=0, gpu_id=-1,\n",
       "             importance_type='gain', interaction_constraints='',\n",
       "             learning_rate=0.300000012, max_delta_step=0, max_depth=6,\n",
       "             min_child_weight=1, missing=nan, monotone_constraints='()',\n",
       "             n_estimators=100, n_jobs=8, num_parallel_tree=1, random_state=42,\n",
       "             reg_alpha=0, reg_lambda=1, scale_pos_weight=1, subsample=1,\n",
       "             tree_method='exact', validate_parameters=1, verbosity=None)"
      ]
     },
     "execution_count": 135,
     "metadata": {},
     "output_type": "execute_result"
    }
   ],
   "source": [
    "from xgboost import XGBRegressor\n",
    "from sklearn.model_selection import GridSearchCV\n",
    "\n",
    "xgb_reg=XGBRegressor(random_state=42)\n",
    "\n",
    "#params = [{ 'max_depth' : [3,7,10]}]\n",
    "\n",
    "#girdcv=GridSearchCV(estimator=xgb_reg,\n",
    "#                       param_grid=params,\n",
    "#                       scoring='neg_mean_squared_error',\n",
    "#                       cv=5)\n",
    "\n",
    "xgb_reg.fit(Train_X,Train_y)"
   ]
  },
  {
   "cell_type": "code",
   "execution_count": 136,
   "metadata": {},
   "outputs": [],
   "source": [
    "y_pred=xgb_reg.predict(Test_X)"
   ]
  },
  {
   "cell_type": "code",
   "execution_count": 137,
   "metadata": {},
   "outputs": [
    {
     "data": {
      "text/plain": [
       "0.4477662499772668"
      ]
     },
     "execution_count": 137,
     "metadata": {},
     "output_type": "execute_result"
    }
   ],
   "source": [
    "# 이전 mse = 0.4574057987965948\n",
    "mean_squared_error(Test_y,y_pred)"
   ]
  },
  {
   "cell_type": "code",
   "execution_count": 138,
   "metadata": {
    "scrolled": true
   },
   "outputs": [
    {
     "data": {
      "text/plain": [
       "0.053136393620370204"
      ]
     },
     "execution_count": 138,
     "metadata": {},
     "output_type": "execute_result"
    }
   ],
   "source": [
    "# 이전 mae = 0.054749509685301574\n",
    "mean_absolute_error(Test_y,y_pred)"
   ]
  },
  {
   "cell_type": "code",
   "execution_count": 145,
   "metadata": {},
   "outputs": [
    {
     "data": {
      "text/plain": [
       "<matplotlib.axes._subplots.AxesSubplot at 0x20f9624e408>"
      ]
     },
     "execution_count": 145,
     "metadata": {},
     "output_type": "execute_result"
    },
    {
     "data": {
      "image/png": "[encoded data removed]",
      "text/plain": [
       "<Figure size 864x864 with 1 Axes>"
      ]
     },
     "metadata": {
      "needs_background": "light"
     },
     "output_type": "display_data"
    }
   ],
   "source": [
    "from xgboost import plot_importance\n",
    "plt.rcParams['font.family'] = 'Malgun Gothic'\n",
    "fig, ax = plt.subplots(figsize = (12, 12))\n",
    "plot_importance(xgb_reg,ax=ax)"
   ]
  },
  {
   "cell_type": "markdown",
   "metadata": {},
   "source": [
    "### 변수 추가로 mse의 값과 mae값은 0.01단위넘게 낮아져 모델 예측 성능의 개선이 확인되었다.\n",
    "### 추가로 feature_importance를 보면 혼잡도가 3번째로 중요한 지표이며, 유저별 지역별 결제등급도 비교적 상위에\n",
    "### 활용된다는 것을 알 수 있다."
   ]
  }
 ],
 "metadata": {
  "kernelspec": {
   "display_name": "Python 3",
   "language": "python",
   "name": "python3"
  },
  "language_info": {
   "codemirror_mode": {
    "name": "ipython",
    "version": 3
   },
   "file_extension": ".py",
   "mimetype": "text/x-python",
   "name": "python",
   "nbconvert_exporter": "python",
   "pygments_lexer": "ipython3",
   "version": "3.7.4"
  }
 },
 "nbformat": 4,
 "nbformat_minor": 2
}
