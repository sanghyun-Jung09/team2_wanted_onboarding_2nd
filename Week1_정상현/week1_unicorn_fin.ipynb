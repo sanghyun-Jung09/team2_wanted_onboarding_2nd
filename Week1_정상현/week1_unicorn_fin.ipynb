{
 "cells": [
  {
   "cell_type": "markdown",
   "metadata": {},
   "source": [
    "### <U> 유니콘 기업의 정의 </U>  \n",
    "#### 기업가치가 10억 달러 이상인 비상장 스타트업을 이르는 말 (출처 : 나무위키)\n",
    "#### 인터넷을 검색하다보면 매출은 얼마 안되는 반면, 가치가 수천 억에 달하는 스타트업들을 종종 볼 수 있다. \n",
    "#### 기업 가치는 매출만으로 정해지지 않기 때문이다. \n",
    "#### 오히려 매출과 수익이 안정적으로 발생하는 기업이라면투자를 받을 이유가 덜할 것이다. \n",
    "#### 기업 가치 평가는 시장규모와 시장점유율, 현금 유동성, 기술 혁신성, 대표의 야망 등을\n",
    "#### 종합적으로 고려하여 진행된다. 따라서 언제든지 아래 기업들의 순위가 뒤바뀔 가능성이 크다."
   ]
  },
  {
   "cell_type": "markdown",
   "metadata": {},
   "source": [
    "### 가설 설정\n",
    "1. 5천개의 회사중에 5개의 기업을 찾아야 하므로 년도와 월 컬럼을 제외하고 LocalOutlierFactor를 사용해 데이터를 클러스터링 후 데이터의 특징을  \n",
    "파악하면 유니콘 기업을 발굴할 수 있을 것이다.\n",
    "2. 유니콘 기업으로 성장하기 위해서는 최소 3개년 이상 유지되어야 하며, 회사의 연매출액 증가율이 높은 기업이어야 할 것이다.\n",
    "3. (월별매출액/ 월별직원수)를 구하면 직원당 생산성의 판단이 가능하므로, 이 지표가 최상위인 기업들이 기술기반 혁신기업인 유니콘  \n",
    "    기업일 것이다.\n",
    "4. 연금보험료는 임금과 연동되는 지표로 매출액/연금보험료는 회사입장에서 지급하는 임금당 생산성을 나타내는 지표이다. 이를 통해  \n",
    "   같은 임금으로도 매출액을 증가시키는 고효율 인재들이 많은 기업을 찾을 수 있는 변수로 이 지표가 최상위 그룹에 속하면 유니콘  \n",
    "   기업일 것이다.(양질의 인력의 지속적인 확보)\n",
    "    "
   ]
  },
  {
   "cell_type": "code",
   "execution_count": 1,
   "metadata": {},
   "outputs": [],
   "source": [
    "import pandas as pd\n",
    "import numpy as np\n",
    "import matplotlib.pyplot as plt \n",
    "import seaborn as sns\n",
    "plt.rcParams['axes.unicode_minus'] = False\n",
    "plt.rcParams['font.family'] = 'Malgun Gothic'"
   ]
  },
  {
   "cell_type": "code",
   "execution_count": 2,
   "metadata": {},
   "outputs": [],
   "source": [
    "df1=pd.read_csv('company_nps_data.csv',encoding='euc-kr')"
   ]
  },
  {
   "cell_type": "code",
   "execution_count": 3,
   "metadata": {},
   "outputs": [
    {
     "name": "stdout",
     "output_type": "stream",
     "text": [
      "<class 'pandas.core.frame.DataFrame'>\n",
      "RangeIndex: 99801 entries, 0 to 99800\n",
      "Data columns (total 6 columns):\n",
      " #   Column    Non-Null Count  Dtype\n",
      "---  ------    --------------  -----\n",
      " 0   회사ID      99801 non-null  int64\n",
      " 1   연매출액      99801 non-null  int64\n",
      " 2   년도        99801 non-null  int64\n",
      " 3   월         99801 non-null  int64\n",
      " 4   월별_연금보험료  99801 non-null  int64\n",
      " 5   월별_직원수    99801 non-null  int64\n",
      "dtypes: int64(6)\n",
      "memory usage: 4.6 MB\n"
     ]
    }
   ],
   "source": [
    "df1.info()"
   ]
  },
  {
   "cell_type": "markdown",
   "metadata": {},
   "source": [
    "- 추가 변수 생성"
   ]
  },
  {
   "cell_type": "code",
   "execution_count": 4,
   "metadata": {},
   "outputs": [],
   "source": [
    "df1['월별_매출액']=(df1.연매출액)/12"
   ]
  },
  {
   "cell_type": "code",
   "execution_count": 5,
   "metadata": {},
   "outputs": [],
   "source": [
    "df1['직원의 생산성']=df1.월별_매출액/df1.월별_직원수"
   ]
  },
  {
   "cell_type": "code",
   "execution_count": 6,
   "metadata": {},
   "outputs": [],
   "source": [
    "df1['임금당 생산성']=df1.월별_매출액/(df1.월별_연금보험료*0.09)"
   ]
  },
  {
   "cell_type": "code",
   "execution_count": 7,
   "metadata": {},
   "outputs": [],
   "source": [
    "# 일 데이터가 없기 때문에 임의로 1로 추가함\n",
    "df1['일'] = 1"
   ]
  },
  {
   "cell_type": "code",
   "execution_count": 8,
   "metadata": {},
   "outputs": [],
   "source": [
    "df1.columns=['회사ID', '연매출액', 'year', 'month', '월별_연금보험료', '월별_직원수','월별_매출액','직원의 생산성','임금당 생산성','day']"
   ]
  },
  {
   "cell_type": "code",
   "execution_count": 9,
   "metadata": {},
   "outputs": [
    {
     "data": {
      "text/html": [
       "<div>\n",
       "<style scoped>\n",
       "    .dataframe tbody tr th:only-of-type {\n",
       "        vertical-align: middle;\n",
       "    }\n",
       "\n",
       "    .dataframe tbody tr th {\n",
       "        vertical-align: top;\n",
       "    }\n",
       "\n",
       "    .dataframe thead th {\n",
       "        text-align: right;\n",
       "    }\n",
       "</style>\n",
       "<table border=\"1\" class=\"dataframe\">\n",
       "  <thead>\n",
       "    <tr style=\"text-align: right;\">\n",
       "      <th></th>\n",
       "      <th>회사ID</th>\n",
       "      <th>연매출액</th>\n",
       "      <th>year</th>\n",
       "      <th>month</th>\n",
       "      <th>월별_연금보험료</th>\n",
       "      <th>월별_직원수</th>\n",
       "      <th>월별_매출액</th>\n",
       "      <th>직원의 생산성</th>\n",
       "      <th>임금당 생산성</th>\n",
       "      <th>day</th>\n",
       "      <th>date</th>\n",
       "    </tr>\n",
       "  </thead>\n",
       "  <tbody>\n",
       "    <tr>\n",
       "      <th>0</th>\n",
       "      <td>233757</td>\n",
       "      <td>41688077</td>\n",
       "      <td>2018</td>\n",
       "      <td>7</td>\n",
       "      <td>8912380</td>\n",
       "      <td>36</td>\n",
       "      <td>3.474006e+06</td>\n",
       "      <td>96500.178241</td>\n",
       "      <td>4.331062</td>\n",
       "      <td>1</td>\n",
       "      <td>2018-07-01</td>\n",
       "    </tr>\n",
       "    <tr>\n",
       "      <th>1</th>\n",
       "      <td>123464</td>\n",
       "      <td>1760695</td>\n",
       "      <td>2018</td>\n",
       "      <td>3</td>\n",
       "      <td>942380</td>\n",
       "      <td>5</td>\n",
       "      <td>1.467246e+05</td>\n",
       "      <td>29344.916667</td>\n",
       "      <td>1.729953</td>\n",
       "      <td>1</td>\n",
       "      <td>2018-03-01</td>\n",
       "    </tr>\n",
       "    <tr>\n",
       "      <th>2</th>\n",
       "      <td>342124</td>\n",
       "      <td>3221341</td>\n",
       "      <td>2018</td>\n",
       "      <td>7</td>\n",
       "      <td>781180</td>\n",
       "      <td>4</td>\n",
       "      <td>2.684451e+05</td>\n",
       "      <td>67111.270833</td>\n",
       "      <td>3.818228</td>\n",
       "      <td>1</td>\n",
       "      <td>2018-07-01</td>\n",
       "    </tr>\n",
       "    <tr>\n",
       "      <th>3</th>\n",
       "      <td>386420</td>\n",
       "      <td>4815584</td>\n",
       "      <td>2015</td>\n",
       "      <td>11</td>\n",
       "      <td>3795900</td>\n",
       "      <td>14</td>\n",
       "      <td>4.012987e+05</td>\n",
       "      <td>28664.190476</td>\n",
       "      <td>1.174655</td>\n",
       "      <td>1</td>\n",
       "      <td>2015-11-01</td>\n",
       "    </tr>\n",
       "    <tr>\n",
       "      <th>4</th>\n",
       "      <td>129243</td>\n",
       "      <td>9799736</td>\n",
       "      <td>2018</td>\n",
       "      <td>10</td>\n",
       "      <td>40724680</td>\n",
       "      <td>151</td>\n",
       "      <td>8.166447e+05</td>\n",
       "      <td>5408.242826</td>\n",
       "      <td>0.222809</td>\n",
       "      <td>1</td>\n",
       "      <td>2018-10-01</td>\n",
       "    </tr>\n",
       "    <tr>\n",
       "      <th>...</th>\n",
       "      <td>...</td>\n",
       "      <td>...</td>\n",
       "      <td>...</td>\n",
       "      <td>...</td>\n",
       "      <td>...</td>\n",
       "      <td>...</td>\n",
       "      <td>...</td>\n",
       "      <td>...</td>\n",
       "      <td>...</td>\n",
       "      <td>...</td>\n",
       "      <td>...</td>\n",
       "    </tr>\n",
       "    <tr>\n",
       "      <th>99796</th>\n",
       "      <td>171439</td>\n",
       "      <td>4630622</td>\n",
       "      <td>2017</td>\n",
       "      <td>2</td>\n",
       "      <td>2402740</td>\n",
       "      <td>11</td>\n",
       "      <td>3.858852e+05</td>\n",
       "      <td>35080.469697</td>\n",
       "      <td>1.784468</td>\n",
       "      <td>1</td>\n",
       "      <td>2017-02-01</td>\n",
       "    </tr>\n",
       "    <tr>\n",
       "      <th>99797</th>\n",
       "      <td>239388</td>\n",
       "      <td>1045021</td>\n",
       "      <td>2018</td>\n",
       "      <td>10</td>\n",
       "      <td>1428800</td>\n",
       "      <td>9</td>\n",
       "      <td>8.708508e+04</td>\n",
       "      <td>9676.120370</td>\n",
       "      <td>0.677220</td>\n",
       "      <td>1</td>\n",
       "      <td>2018-10-01</td>\n",
       "    </tr>\n",
       "    <tr>\n",
       "      <th>99798</th>\n",
       "      <td>272304</td>\n",
       "      <td>181898</td>\n",
       "      <td>2018</td>\n",
       "      <td>3</td>\n",
       "      <td>392560</td>\n",
       "      <td>4</td>\n",
       "      <td>1.515817e+04</td>\n",
       "      <td>3789.541667</td>\n",
       "      <td>0.429040</td>\n",
       "      <td>1</td>\n",
       "      <td>2018-03-01</td>\n",
       "    </tr>\n",
       "    <tr>\n",
       "      <th>99799</th>\n",
       "      <td>362194</td>\n",
       "      <td>2100218</td>\n",
       "      <td>2018</td>\n",
       "      <td>12</td>\n",
       "      <td>874780</td>\n",
       "      <td>3</td>\n",
       "      <td>1.750182e+05</td>\n",
       "      <td>58339.388889</td>\n",
       "      <td>2.223012</td>\n",
       "      <td>1</td>\n",
       "      <td>2018-12-01</td>\n",
       "    </tr>\n",
       "    <tr>\n",
       "      <th>99800</th>\n",
       "      <td>124281</td>\n",
       "      <td>132900</td>\n",
       "      <td>2017</td>\n",
       "      <td>11</td>\n",
       "      <td>291940</td>\n",
       "      <td>5</td>\n",
       "      <td>1.107500e+04</td>\n",
       "      <td>2215.000000</td>\n",
       "      <td>0.421510</td>\n",
       "      <td>1</td>\n",
       "      <td>2017-11-01</td>\n",
       "    </tr>\n",
       "  </tbody>\n",
       "</table>\n",
       "<p>99801 rows × 11 columns</p>\n",
       "</div>"
      ],
      "text/plain": [
       "         회사ID      연매출액  year  month  월별_연금보험료  월별_직원수        월별_매출액  \\\n",
       "0      233757  41688077  2018      7   8912380      36  3.474006e+06   \n",
       "1      123464   1760695  2018      3    942380       5  1.467246e+05   \n",
       "2      342124   3221341  2018      7    781180       4  2.684451e+05   \n",
       "3      386420   4815584  2015     11   3795900      14  4.012987e+05   \n",
       "4      129243   9799736  2018     10  40724680     151  8.166447e+05   \n",
       "...       ...       ...   ...    ...       ...     ...           ...   \n",
       "99796  171439   4630622  2017      2   2402740      11  3.858852e+05   \n",
       "99797  239388   1045021  2018     10   1428800       9  8.708508e+04   \n",
       "99798  272304    181898  2018      3    392560       4  1.515817e+04   \n",
       "99799  362194   2100218  2018     12    874780       3  1.750182e+05   \n",
       "99800  124281    132900  2017     11    291940       5  1.107500e+04   \n",
       "\n",
       "            직원의 생산성   임금당 생산성  day       date  \n",
       "0      96500.178241  4.331062    1 2018-07-01  \n",
       "1      29344.916667  1.729953    1 2018-03-01  \n",
       "2      67111.270833  3.818228    1 2018-07-01  \n",
       "3      28664.190476  1.174655    1 2015-11-01  \n",
       "4       5408.242826  0.222809    1 2018-10-01  \n",
       "...             ...       ...  ...        ...  \n",
       "99796  35080.469697  1.784468    1 2017-02-01  \n",
       "99797   9676.120370  0.677220    1 2018-10-01  \n",
       "99798   3789.541667  0.429040    1 2018-03-01  \n",
       "99799  58339.388889  2.223012    1 2018-12-01  \n",
       "99800   2215.000000  0.421510    1 2017-11-01  \n",
       "\n",
       "[99801 rows x 11 columns]"
      ]
     },
     "execution_count": 9,
     "metadata": {},
     "output_type": "execute_result"
    }
   ],
   "source": [
    "# 날짜타입변환\n",
    "df1['date']=pd.to_datetime(df1[['year','month','day']])\n",
    "df1"
   ]
  },
  {
   "cell_type": "markdown",
   "metadata": {},
   "source": [
    "### 1. EDA\n"
   ]
  },
  {
   "cell_type": "markdown",
   "metadata": {},
   "source": [
    "- 변수별 상관관계 파악"
   ]
  },
  {
   "cell_type": "code",
   "execution_count": 10,
   "metadata": {},
   "outputs": [
    {
     "data": {
      "text/plain": [
       "Text(0.5, 1, 'Feature Correlation')"
      ]
     },
     "execution_count": 10,
     "metadata": {},
     "output_type": "execute_result"
    },
    {
     "data": {
      "image/png": "[encoded data removed]",
      "text/plain": [
       "<Figure size 1080x1080 with 2 Axes>"
      ]
     },
     "metadata": {
      "needs_background": "light"
     },
     "output_type": "display_data"
    }
   ],
   "source": [
    "dcorr=df1.corr()\n",
    "plt.figure(figsize=(15, 15));\n",
    "sns.heatmap(dcorr,\n",
    "            vmax=0.8,\n",
    "            linewidths=0.01,\n",
    "            square=True,\n",
    "            annot=True,\n",
    "            cmap='YlGnBu');\n",
    "plt.title('Feature Correlation')"
   ]
  },
  {
   "cell_type": "markdown",
   "metadata": {},
   "source": [
    "<U>직원수가 많고 보험료를 많이 낼수록 매출액이 증가하는 상관관계를 보인다.</U>\n",
    "즉, 상관관계만 보더라도 이 세가지 변수가 모두 높은 그룹이  \n",
    "유니콘기업일 것이라는 가설이 더 신빙성이 있다.  \n",
    "<br></br>\n",
    "그러나, 박스플롯으로 매출액, 직원의 생산성, 보험료 등은 한쪽에 데이터가 너무 몰려있어 박스플롯이 이상하게 나온다."
   ]
  },
  {
   "cell_type": "code",
   "execution_count": 11,
   "metadata": {},
   "outputs": [
    {
     "data": {
      "text/plain": [
       "<matplotlib.axes._subplots.AxesSubplot at 0x155107d7988>"
      ]
     },
     "execution_count": 11,
     "metadata": {},
     "output_type": "execute_result"
    },
    {
     "data": {
      "image/png": "[encoded data removed]",
      "text/plain": [
       "<Figure size 432x288 with 1 Axes>"
      ]
     },
     "metadata": {
      "needs_background": "light"
     },
     "output_type": "display_data"
    }
   ],
   "source": [
    "sns.boxplot(x='year',y='연매출액',data=df1)"
   ]
  },
  {
   "cell_type": "code",
   "execution_count": 12,
   "metadata": {},
   "outputs": [
    {
     "data": {
      "text/plain": [
       "회사ID     year\n",
       "63       2018    1.132878e+10\n",
       "95       2018    6.569474e+08\n",
       "102      2018    7.426589e+08\n",
       "295      2018    8.377670e+07\n",
       "414      2018    1.973277e+07\n",
       "                     ...     \n",
       "2400284  2018    1.263406e+06\n",
       "2437574  2018    2.140160e+05\n",
       "2693684  2019    2.380760e+05\n",
       "3312354  2019    1.451563e+06\n",
       "5159723  2019    2.591898e+06\n",
       "Name: 연매출액, Length: 10111, dtype: float64"
      ]
     },
     "execution_count": 12,
     "metadata": {},
     "output_type": "execute_result"
    }
   ],
   "source": [
    "df1.groupby(['회사ID','year'])['연매출액'].mean()"
   ]
  },
  {
   "cell_type": "code",
   "execution_count": 13,
   "metadata": {},
   "outputs": [
    {
     "data": {
      "text/plain": [
       "<matplotlib.axes._subplots.AxesSubplot at 0x155102ced88>"
      ]
     },
     "execution_count": 13,
     "metadata": {},
     "output_type": "execute_result"
    },
    {
     "data": {
      "image/png": "[encoded data removed]",
      "text/plain": [
       "<Figure size 432x288 with 1 Axes>"
      ]
     },
     "metadata": {
      "needs_background": "light"
     },
     "output_type": "display_data"
    }
   ],
   "source": [
    "sns.boxplot(x='year',y='직원의 생산성',data=df1)"
   ]
  },
  {
   "cell_type": "code",
   "execution_count": 14,
   "metadata": {},
   "outputs": [
    {
     "data": {
      "text/plain": [
       "<matplotlib.axes._subplots.AxesSubplot at 0x1550ff60f88>"
      ]
     },
     "execution_count": 14,
     "metadata": {},
     "output_type": "execute_result"
    },
    {
     "data": {
      "image/png": "[encoded data removed]",
      "text/plain": [
       "<Figure size 432x288 with 1 Axes>"
      ]
     },
     "metadata": {
      "needs_background": "light"
     },
     "output_type": "display_data"
    }
   ],
   "source": [
    "sns.boxplot(x='year',y='월별_연금보험료',data=df1)"
   ]
  },
  {
   "cell_type": "markdown",
   "metadata": {},
   "source": [
    "- 실제 유니콘 회사들의 영업이력이 평균 5년정도 되므로, 최소 3년 이상의 기업만 필터링"
   ]
  },
  {
   "cell_type": "code",
   "execution_count": 15,
   "metadata": {},
   "outputs": [],
   "source": [
    "y_count=df1.groupby('회사ID')['year'].count().loc[df1.groupby('회사ID')['year'].count()>=36].reset_index()"
   ]
  },
  {
   "cell_type": "code",
   "execution_count": 16,
   "metadata": {},
   "outputs": [],
   "source": [
    "y_count.columns=['회사ID','y_count']"
   ]
  },
  {
   "cell_type": "code",
   "execution_count": 17,
   "metadata": {},
   "outputs": [],
   "source": [
    "# 불필요한 행을 제외하기 위해 inner join 수행\n",
    "df1=pd.merge(df1,y_count,on='회사ID')"
   ]
  },
  {
   "cell_type": "markdown",
   "metadata": {},
   "source": [
    "- 밀도기반으로 이상값을 찾는 방법인 LocalOutlierFactor를 사용해 소수의 회사를 추출  \n",
    "  (향후에 가설대로 추출한 유니콘 기업과 비교)"
   ]
  },
  {
   "cell_type": "code",
   "execution_count": 18,
   "metadata": {},
   "outputs": [],
   "source": [
    "from sklearn.neighbors import LocalOutlierFactor\n",
    "lof = LocalOutlierFactor(contamination=0.00125)\n",
    "df1['outlier'] = lof.fit_predict(np.asmatrix(df1.drop(['year','month','date','day'],axis=1)))"
   ]
  },
  {
   "cell_type": "code",
   "execution_count": 19,
   "metadata": {},
   "outputs": [
    {
     "data": {
      "text/plain": [
       "7"
      ]
     },
     "execution_count": 19,
     "metadata": {},
     "output_type": "execute_result"
    }
   ],
   "source": [
    "len(df1.query(\"outlier==-1\").회사ID.unique())"
   ]
  },
  {
   "cell_type": "code",
   "execution_count": 20,
   "metadata": {},
   "outputs": [],
   "source": [
    "df1=df1.sort_values(by=['회사ID','year','month'])"
   ]
  },
  {
   "cell_type": "markdown",
   "metadata": {},
   "source": [
    "### 2. 첫번째 가설인 '최소 3개년 이상 유지되는 회사의 연매출액 증가율이 높은 기업 추출'"
   ]
  },
  {
   "cell_type": "code",
   "execution_count": 21,
   "metadata": {},
   "outputs": [
    {
     "data": {
      "text/html": [
       "<div>\n",
       "<style scoped>\n",
       "    .dataframe tbody tr th:only-of-type {\n",
       "        vertical-align: middle;\n",
       "    }\n",
       "\n",
       "    .dataframe tbody tr th {\n",
       "        vertical-align: top;\n",
       "    }\n",
       "\n",
       "    .dataframe thead th {\n",
       "        text-align: right;\n",
       "    }\n",
       "</style>\n",
       "<table border=\"1\" class=\"dataframe\">\n",
       "  <thead>\n",
       "    <tr style=\"text-align: right;\">\n",
       "      <th></th>\n",
       "      <th>회사ID</th>\n",
       "      <th>year</th>\n",
       "      <th>연매출액</th>\n",
       "      <th>연매출액gr</th>\n",
       "    </tr>\n",
       "  </thead>\n",
       "  <tbody>\n",
       "    <tr>\n",
       "      <th>0</th>\n",
       "      <td>14271</td>\n",
       "      <td>2015</td>\n",
       "      <td>1199495.0</td>\n",
       "      <td>0.000000</td>\n",
       "    </tr>\n",
       "    <tr>\n",
       "      <th>1</th>\n",
       "      <td>14271</td>\n",
       "      <td>2016</td>\n",
       "      <td>4257715.0</td>\n",
       "      <td>2.549590</td>\n",
       "    </tr>\n",
       "    <tr>\n",
       "      <th>2</th>\n",
       "      <td>14271</td>\n",
       "      <td>2017</td>\n",
       "      <td>5005248.0</td>\n",
       "      <td>0.175571</td>\n",
       "    </tr>\n",
       "    <tr>\n",
       "      <th>3</th>\n",
       "      <td>14271</td>\n",
       "      <td>2018</td>\n",
       "      <td>8388401.0</td>\n",
       "      <td>0.675921</td>\n",
       "    </tr>\n",
       "    <tr>\n",
       "      <th>4</th>\n",
       "      <td>14271</td>\n",
       "      <td>2019</td>\n",
       "      <td>9039340.0</td>\n",
       "      <td>0.077600</td>\n",
       "    </tr>\n",
       "    <tr>\n",
       "      <th>...</th>\n",
       "      <td>...</td>\n",
       "      <td>...</td>\n",
       "      <td>...</td>\n",
       "      <td>...</td>\n",
       "    </tr>\n",
       "    <tr>\n",
       "      <th>4238</th>\n",
       "      <td>514934</td>\n",
       "      <td>2017</td>\n",
       "      <td>422440.0</td>\n",
       "      <td>0.099208</td>\n",
       "    </tr>\n",
       "    <tr>\n",
       "      <th>4239</th>\n",
       "      <td>514934</td>\n",
       "      <td>2018</td>\n",
       "      <td>556216.0</td>\n",
       "      <td>0.316675</td>\n",
       "    </tr>\n",
       "    <tr>\n",
       "      <th>4240</th>\n",
       "      <td>515264</td>\n",
       "      <td>2016</td>\n",
       "      <td>1489321.0</td>\n",
       "      <td>0.000000</td>\n",
       "    </tr>\n",
       "    <tr>\n",
       "      <th>4241</th>\n",
       "      <td>515264</td>\n",
       "      <td>2017</td>\n",
       "      <td>2074820.0</td>\n",
       "      <td>0.393132</td>\n",
       "    </tr>\n",
       "    <tr>\n",
       "      <th>4242</th>\n",
       "      <td>515264</td>\n",
       "      <td>2018</td>\n",
       "      <td>2422405.0</td>\n",
       "      <td>0.167525</td>\n",
       "    </tr>\n",
       "  </tbody>\n",
       "</table>\n",
       "<p>4243 rows × 4 columns</p>\n",
       "</div>"
      ],
      "text/plain": [
       "        회사ID  year       연매출액    연매출액gr\n",
       "0      14271  2015  1199495.0  0.000000\n",
       "1      14271  2016  4257715.0  2.549590\n",
       "2      14271  2017  5005248.0  0.175571\n",
       "3      14271  2018  8388401.0  0.675921\n",
       "4      14271  2019  9039340.0  0.077600\n",
       "...      ...   ...        ...       ...\n",
       "4238  514934  2017   422440.0  0.099208\n",
       "4239  514934  2018   556216.0  0.316675\n",
       "4240  515264  2016  1489321.0  0.000000\n",
       "4241  515264  2017  2074820.0  0.393132\n",
       "4242  515264  2018  2422405.0  0.167525\n",
       "\n",
       "[4243 rows x 4 columns]"
      ]
     },
     "execution_count": 21,
     "metadata": {},
     "output_type": "execute_result"
    }
   ],
   "source": [
    "# 3년 이상 운영한 회사의 연별 매출액의 성장률을 출력\n",
    "tempt=df1.groupby(['회사ID','year'])['연매출액'].mean().reset_index()\n",
    "tempt2=tempt.groupby('회사ID')['연매출액'].pct_change()\n",
    "tempt=pd.concat([tempt,tempt2],axis=1)\n",
    "tempt.columns=['회사ID','year','연매출액','연매출액gr']\n",
    "tempt=tempt.fillna(0.0)\n",
    "tempt"
   ]
  },
  {
   "cell_type": "code",
   "execution_count": 22,
   "metadata": {},
   "outputs": [
    {
     "data": {
      "text/plain": [
       "56.793850589231845"
      ]
     },
     "execution_count": 22,
     "metadata": {},
     "output_type": "execute_result"
    }
   ],
   "source": [
    "# 3년이상 운영한 기업\n",
    "tempt.연매출액gr.max()"
   ]
  },
  {
   "cell_type": "code",
   "execution_count": 23,
   "metadata": {},
   "outputs": [
    {
     "data": {
      "text/plain": [
       "(array([3., 0., 0., 0., 0., 0., 0., 0., 0., 1.]),\n",
       " array([10., 15., 20., 25., 30., 35., 40., 45., 50., 55., 60.]),\n",
       " <a list of 10 Patch objects>)"
      ]
     },
     "execution_count": 23,
     "metadata": {},
     "output_type": "execute_result"
    },
    {
     "data": {
      "image/png": "[encoded data removed]",
      "text/plain": [
       "<Figure size 432x288 with 1 Axes>"
      ]
     },
     "metadata": {
      "needs_background": "light"
     },
     "output_type": "display_data"
    }
   ],
   "source": [
    "# 히스토그램을 통해 연매출액 증가율이 10%대에 데이터가 좀 있는 편이고 55% 이상으로  빈도가 크게 줄어든다는 것을 확인\n",
    "plt.hist(tempt.연매출액gr,range=(10,60))"
   ]
  },
  {
   "cell_type": "code",
   "execution_count": 24,
   "metadata": {},
   "outputs": [
    {
     "data": {
      "text/plain": [
       "(array([745.,  78.,  23.,   7.,   5.,   2.,   1.,   1.,   1.,   0.]),\n",
       " array([ 0.2 ,  1.18,  2.16,  3.14,  4.12,  5.1 ,  6.08,  7.06,  8.04,\n",
       "         9.02, 10.  ]),\n",
       " <a list of 10 Patch objects>)"
      ]
     },
     "execution_count": 24,
     "metadata": {},
     "output_type": "execute_result"
    },
    {
     "data": {
      "image/png": "[encoded data removed]",
      "text/plain": [
       "<Figure size 432x288 with 1 Axes>"
      ]
     },
     "metadata": {
      "needs_background": "light"
     },
     "output_type": "display_data"
    }
   ],
   "source": [
    "plt.hist(tempt.연매출액gr,range=(0.2,10))"
   ]
  },
  {
   "cell_type": "markdown",
   "metadata": {},
   "source": [
    "- 매출성장률 기반 유니콘 후보기업 추출"
   ]
  },
  {
   "cell_type": "code",
   "execution_count": 25,
   "metadata": {},
   "outputs": [
    {
     "data": {
      "text/plain": [
       "array([ 14271, 123882, 124386, 127366, 131485, 131723, 132029, 133493,\n",
       "       134599, 135634, 136269, 136566, 137601, 137755, 138709, 140801,\n",
       "       144925, 145177, 148537, 150455, 155877, 157470, 159105, 159487,\n",
       "       161646, 163302, 163400, 169374, 171408, 172547, 175022, 175072,\n",
       "       175766, 176840, 179828, 180401, 182436, 184654, 191123, 192166,\n",
       "       192633, 199864, 206965, 207592, 209395, 231260, 231703, 232214,\n",
       "       232779, 233340, 233757, 233957, 234300, 236378, 236539, 237381,\n",
       "       237625, 238384, 238673, 239211, 240785, 241762, 242011, 243108,\n",
       "       244133, 244226, 245286, 245643, 247210, 248177, 248936, 249702,\n",
       "       250472, 250889, 251842, 254425, 254718, 254865, 257618, 259149,\n",
       "       261685, 261973, 263195, 264568, 266016, 266692, 267549, 271386,\n",
       "       272258, 272811, 273819, 280967, 284028, 286635, 294620, 294790,\n",
       "       296209, 305146, 306768, 310835, 311024, 314638, 315746, 322227,\n",
       "       331110, 332709, 335237, 376841, 382160, 403470, 403826, 404804,\n",
       "       404867, 405710, 405759, 408924, 408951, 412758, 428380, 428817,\n",
       "       429429, 429453, 430504, 431317, 435512, 439585, 441107, 441735,\n",
       "       442467, 443164, 445165, 445499, 448907, 470994, 473265, 474776,\n",
       "       474900, 481259, 507625], dtype=int64)"
      ]
     },
     "execution_count": 25,
     "metadata": {},
     "output_type": "execute_result"
    }
   ],
   "source": [
    "# 연매출액증가율이 높은 기업이 유니콘 기업이라고 가정하였으므로 연매출액 증가율 최대값보다 조금 낮은 기준으로 기업 필터링\n",
    "# 다만 직원당 생산성 성장률이나 임금당 생산성 성장률에 비해 매출액이 더 중요하다고 판단하여 더 넓은 범위를 잡음\n",
    "sal_gr=tempt.query(\"연매출액gr>=1 \")['회사ID'].unique()\n",
    "sal_gr"
   ]
  },
  {
   "cell_type": "markdown",
   "metadata": {},
   "source": [
    "### 3. 두번째 가설인 직원의 생산성이 높은 기업을 추출"
   ]
  },
  {
   "cell_type": "code",
   "execution_count": 26,
   "metadata": {},
   "outputs": [
    {
     "data": {
      "text/html": [
       "<div>\n",
       "<style scoped>\n",
       "    .dataframe tbody tr th:only-of-type {\n",
       "        vertical-align: middle;\n",
       "    }\n",
       "\n",
       "    .dataframe tbody tr th {\n",
       "        vertical-align: top;\n",
       "    }\n",
       "\n",
       "    .dataframe thead th {\n",
       "        text-align: right;\n",
       "    }\n",
       "</style>\n",
       "<table border=\"1\" class=\"dataframe\">\n",
       "  <thead>\n",
       "    <tr style=\"text-align: right;\">\n",
       "      <th></th>\n",
       "      <th>회사ID</th>\n",
       "      <th>year</th>\n",
       "      <th>month</th>\n",
       "      <th>연매출액</th>\n",
       "      <th>직원생산성gr</th>\n",
       "    </tr>\n",
       "  </thead>\n",
       "  <tbody>\n",
       "    <tr>\n",
       "      <th>0</th>\n",
       "      <td>14271</td>\n",
       "      <td>2015</td>\n",
       "      <td>11</td>\n",
       "      <td>9087.083333</td>\n",
       "      <td>0.000000</td>\n",
       "    </tr>\n",
       "    <tr>\n",
       "      <th>1</th>\n",
       "      <td>14271</td>\n",
       "      <td>2015</td>\n",
       "      <td>12</td>\n",
       "      <td>6663.861111</td>\n",
       "      <td>-0.266667</td>\n",
       "    </tr>\n",
       "    <tr>\n",
       "      <th>2</th>\n",
       "      <td>14271</td>\n",
       "      <td>2016</td>\n",
       "      <td>1</td>\n",
       "      <td>23653.972222</td>\n",
       "      <td>0.000000</td>\n",
       "    </tr>\n",
       "    <tr>\n",
       "      <th>3</th>\n",
       "      <td>14271</td>\n",
       "      <td>2016</td>\n",
       "      <td>2</td>\n",
       "      <td>25343.541667</td>\n",
       "      <td>0.071429</td>\n",
       "    </tr>\n",
       "    <tr>\n",
       "      <th>4</th>\n",
       "      <td>14271</td>\n",
       "      <td>2016</td>\n",
       "      <td>3</td>\n",
       "      <td>27293.044872</td>\n",
       "      <td>0.076923</td>\n",
       "    </tr>\n",
       "    <tr>\n",
       "      <th>...</th>\n",
       "      <td>...</td>\n",
       "      <td>...</td>\n",
       "      <td>...</td>\n",
       "      <td>...</td>\n",
       "      <td>...</td>\n",
       "    </tr>\n",
       "    <tr>\n",
       "      <th>42465</th>\n",
       "      <td>515264</td>\n",
       "      <td>2018</td>\n",
       "      <td>8</td>\n",
       "      <td>40373.416667</td>\n",
       "      <td>0.000000</td>\n",
       "    </tr>\n",
       "    <tr>\n",
       "      <th>42466</th>\n",
       "      <td>515264</td>\n",
       "      <td>2018</td>\n",
       "      <td>9</td>\n",
       "      <td>40373.416667</td>\n",
       "      <td>0.000000</td>\n",
       "    </tr>\n",
       "    <tr>\n",
       "      <th>42467</th>\n",
       "      <td>515264</td>\n",
       "      <td>2018</td>\n",
       "      <td>10</td>\n",
       "      <td>40373.416667</td>\n",
       "      <td>0.000000</td>\n",
       "    </tr>\n",
       "    <tr>\n",
       "      <th>42468</th>\n",
       "      <td>515264</td>\n",
       "      <td>2018</td>\n",
       "      <td>11</td>\n",
       "      <td>40373.416667</td>\n",
       "      <td>0.000000</td>\n",
       "    </tr>\n",
       "    <tr>\n",
       "      <th>42469</th>\n",
       "      <td>515264</td>\n",
       "      <td>2018</td>\n",
       "      <td>12</td>\n",
       "      <td>40373.416667</td>\n",
       "      <td>0.000000</td>\n",
       "    </tr>\n",
       "  </tbody>\n",
       "</table>\n",
       "<p>42470 rows × 5 columns</p>\n",
       "</div>"
      ],
      "text/plain": [
       "         회사ID  year  month          연매출액   직원생산성gr\n",
       "0       14271  2015     11   9087.083333  0.000000\n",
       "1       14271  2015     12   6663.861111 -0.266667\n",
       "2       14271  2016      1  23653.972222  0.000000\n",
       "3       14271  2016      2  25343.541667  0.071429\n",
       "4       14271  2016      3  27293.044872  0.076923\n",
       "...       ...   ...    ...           ...       ...\n",
       "42465  515264  2018      8  40373.416667  0.000000\n",
       "42466  515264  2018      9  40373.416667  0.000000\n",
       "42467  515264  2018     10  40373.416667  0.000000\n",
       "42468  515264  2018     11  40373.416667  0.000000\n",
       "42469  515264  2018     12  40373.416667  0.000000\n",
       "\n",
       "[42470 rows x 5 columns]"
      ]
     },
     "execution_count": 26,
     "metadata": {},
     "output_type": "execute_result"
    }
   ],
   "source": [
    "# 직원 생산성은 월별로 측정가능한 변수이기 때문에 월별로 성장률을 구함\n",
    "tempt=df1.groupby(['회사ID','year','month'])['직원의 생산성'].mean().reset_index()\n",
    "tempt2=tempt.groupby(['회사ID','year'])['직원의 생산성'].pct_change()\n",
    "tempt=pd.concat([tempt,tempt2],axis=1)\n",
    "tempt.columns=['회사ID','year','month','연매출액','직원생산성gr']\n",
    "tempt=tempt.fillna(0.0)\n",
    "tempt"
   ]
  },
  {
   "cell_type": "code",
   "execution_count": 27,
   "metadata": {},
   "outputs": [
    {
     "data": {
      "text/plain": [
       "4.25"
      ]
     },
     "execution_count": 27,
     "metadata": {},
     "output_type": "execute_result"
    }
   ],
   "source": [
    "tempt.직원생산성gr.max()"
   ]
  },
  {
   "cell_type": "code",
   "execution_count": 28,
   "metadata": {},
   "outputs": [
    {
     "data": {
      "text/plain": [
       "0.0018836544052751884"
      ]
     },
     "execution_count": 28,
     "metadata": {},
     "output_type": "execute_result"
    }
   ],
   "source": [
    "tempt.직원생산성gr.mean()"
   ]
  },
  {
   "cell_type": "code",
   "execution_count": 29,
   "metadata": {},
   "outputs": [
    {
     "data": {
      "text/plain": [
       "(array([2.2000e+02, 4.1678e+04, 5.3300e+02, 2.5000e+01, 8.0000e+00,\n",
       "        1.0000e+00, 2.0000e+00, 1.0000e+00, 1.0000e+00, 1.0000e+00]),\n",
       " array([-0.77777778, -0.275     ,  0.22777778,  0.73055556,  1.23333333,\n",
       "         1.73611111,  2.23888889,  2.74166667,  3.24444444,  3.74722222,\n",
       "         4.25      ]),\n",
       " <a list of 10 Patch objects>)"
      ]
     },
     "execution_count": 29,
     "metadata": {},
     "output_type": "execute_result"
    },
    {
     "data": {
      "image/png": "[encoded data removed]",
      "text/plain": [
       "<Figure size 432x288 with 1 Axes>"
      ]
     },
     "metadata": {
      "needs_background": "light"
     },
     "output_type": "display_data"
    }
   ],
   "source": [
    "# 히스토 그램에 의해 직원생산성이 0을 중심으로 밀집되어 있으며 -값도 존재한다는 것을 확인\n",
    "plt.hist(tempt.직원생산성gr)"
   ]
  },
  {
   "cell_type": "code",
   "execution_count": 30,
   "metadata": {},
   "outputs": [
    {
     "data": {
      "text/plain": [
       "(array([19.,  7.,  3.,  2.,  1.,  0.,  1.,  0.,  1.,  0.]),\n",
       " array([0.8 , 1.22, 1.64, 2.06, 2.48, 2.9 , 3.32, 3.74, 4.16, 4.58, 5.  ]),\n",
       " <a list of 10 Patch objects>)"
      ]
     },
     "execution_count": 30,
     "metadata": {},
     "output_type": "execute_result"
    },
    {
     "data": {
      "image/png": "[encoded data removed]",
      "text/plain": [
       "<Figure size 432x288 with 1 Axes>"
      ]
     },
     "metadata": {
      "needs_background": "light"
     },
     "output_type": "display_data"
    }
   ],
   "source": [
    "# 유니콘 기업을 찾기 위해 직원생산성이 높은 상위 그룹의 빈도 파악\n",
    "plt.hist(tempt.직원생산성gr,range=(0.8,5))"
   ]
  },
  {
   "cell_type": "markdown",
   "metadata": {},
   "source": [
    "- 직원 생산성 기반 유니콘 기업 후보 추출"
   ]
  },
  {
   "cell_type": "code",
   "execution_count": 31,
   "metadata": {},
   "outputs": [
    {
     "data": {
      "text/plain": [
       "array([137889, 158148, 164870, 228565, 234427, 235976, 239075, 250300,\n",
       "       264218, 268835, 302860, 315746, 331110, 386420, 396729, 404071,\n",
       "       406133, 406912, 445254, 445499, 470994, 471146, 473265, 474900,\n",
       "       507086], dtype=int64)"
      ]
     },
     "execution_count": 31,
     "metadata": {},
     "output_type": "execute_result"
    }
   ],
   "source": [
    "# 유니콘 기업을 찾기 위해 직원생산성이 높은 상위 그룹중 적절한 빈도를 가진 생산성으로 필터링하여 회사 추출 \n",
    "emppd_gr=tempt.query(\"직원생산성gr>=1.0 \")['회사ID'].unique()\n",
    "emppd_gr"
   ]
  },
  {
   "cell_type": "markdown",
   "metadata": {},
   "source": [
    "### 4. 마직막 가설인 임금당 생산성 증가율(양질의 인력의 지속적인 확보)로 유니콘 기업 후보 추출"
   ]
  },
  {
   "cell_type": "code",
   "execution_count": 32,
   "metadata": {},
   "outputs": [
    {
     "data": {
      "text/html": [
       "<div>\n",
       "<style scoped>\n",
       "    .dataframe tbody tr th:only-of-type {\n",
       "        vertical-align: middle;\n",
       "    }\n",
       "\n",
       "    .dataframe tbody tr th {\n",
       "        vertical-align: top;\n",
       "    }\n",
       "\n",
       "    .dataframe thead th {\n",
       "        text-align: right;\n",
       "    }\n",
       "</style>\n",
       "<table border=\"1\" class=\"dataframe\">\n",
       "  <thead>\n",
       "    <tr style=\"text-align: right;\">\n",
       "      <th></th>\n",
       "      <th>회사ID</th>\n",
       "      <th>year</th>\n",
       "      <th>month</th>\n",
       "      <th>연매출액</th>\n",
       "      <th>임금당생산성gr</th>\n",
       "    </tr>\n",
       "  </thead>\n",
       "  <tbody>\n",
       "    <tr>\n",
       "      <th>0</th>\n",
       "      <td>14271</td>\n",
       "      <td>2015</td>\n",
       "      <td>11</td>\n",
       "      <td>0.431848</td>\n",
       "      <td>0.000000</td>\n",
       "    </tr>\n",
       "    <tr>\n",
       "      <th>1</th>\n",
       "      <td>14271</td>\n",
       "      <td>2015</td>\n",
       "      <td>12</td>\n",
       "      <td>0.312085</td>\n",
       "      <td>-0.277325</td>\n",
       "    </tr>\n",
       "    <tr>\n",
       "      <th>2</th>\n",
       "      <td>14271</td>\n",
       "      <td>2016</td>\n",
       "      <td>1</td>\n",
       "      <td>1.173892</td>\n",
       "      <td>0.000000</td>\n",
       "    </tr>\n",
       "    <tr>\n",
       "      <th>3</th>\n",
       "      <td>14271</td>\n",
       "      <td>2016</td>\n",
       "      <td>2</td>\n",
       "      <td>1.254584</td>\n",
       "      <td>0.068739</td>\n",
       "    </tr>\n",
       "    <tr>\n",
       "      <th>4</th>\n",
       "      <td>14271</td>\n",
       "      <td>2016</td>\n",
       "      <td>3</td>\n",
       "      <td>1.306991</td>\n",
       "      <td>0.041772</td>\n",
       "    </tr>\n",
       "    <tr>\n",
       "      <th>...</th>\n",
       "      <td>...</td>\n",
       "      <td>...</td>\n",
       "      <td>...</td>\n",
       "      <td>...</td>\n",
       "      <td>...</td>\n",
       "    </tr>\n",
       "    <tr>\n",
       "      <th>42465</th>\n",
       "      <td>515264</td>\n",
       "      <td>2018</td>\n",
       "      <td>8</td>\n",
       "      <td>2.936898</td>\n",
       "      <td>0.000000</td>\n",
       "    </tr>\n",
       "    <tr>\n",
       "      <th>42466</th>\n",
       "      <td>515264</td>\n",
       "      <td>2018</td>\n",
       "      <td>9</td>\n",
       "      <td>2.936898</td>\n",
       "      <td>0.000000</td>\n",
       "    </tr>\n",
       "    <tr>\n",
       "      <th>42467</th>\n",
       "      <td>515264</td>\n",
       "      <td>2018</td>\n",
       "      <td>10</td>\n",
       "      <td>2.936898</td>\n",
       "      <td>0.000000</td>\n",
       "    </tr>\n",
       "    <tr>\n",
       "      <th>42468</th>\n",
       "      <td>515264</td>\n",
       "      <td>2018</td>\n",
       "      <td>11</td>\n",
       "      <td>2.936898</td>\n",
       "      <td>0.000000</td>\n",
       "    </tr>\n",
       "    <tr>\n",
       "      <th>42469</th>\n",
       "      <td>515264</td>\n",
       "      <td>2018</td>\n",
       "      <td>12</td>\n",
       "      <td>2.936898</td>\n",
       "      <td>0.000000</td>\n",
       "    </tr>\n",
       "  </tbody>\n",
       "</table>\n",
       "<p>42470 rows × 5 columns</p>\n",
       "</div>"
      ],
      "text/plain": [
       "         회사ID  year  month      연매출액  임금당생산성gr\n",
       "0       14271  2015     11  0.431848  0.000000\n",
       "1       14271  2015     12  0.312085 -0.277325\n",
       "2       14271  2016      1  1.173892  0.000000\n",
       "3       14271  2016      2  1.254584  0.068739\n",
       "4       14271  2016      3  1.306991  0.041772\n",
       "...       ...   ...    ...       ...       ...\n",
       "42465  515264  2018      8  2.936898  0.000000\n",
       "42466  515264  2018      9  2.936898  0.000000\n",
       "42467  515264  2018     10  2.936898  0.000000\n",
       "42468  515264  2018     11  2.936898  0.000000\n",
       "42469  515264  2018     12  2.936898  0.000000\n",
       "\n",
       "[42470 rows x 5 columns]"
      ]
     },
     "execution_count": 32,
     "metadata": {},
     "output_type": "execute_result"
    }
   ],
   "source": [
    "# 임금당 생산성은 월별로 측정가능한 변수이기 때문에 월별로 성장률을 구함\n",
    "tempt=df1.groupby(['회사ID','year','month'])['임금당 생산성'].mean().reset_index()\n",
    "tempt2=tempt.groupby(['회사ID','year'])['임금당 생산성'].pct_change()\n",
    "tempt=pd.concat([tempt,tempt2],axis=1)\n",
    "tempt.columns=['회사ID','year','month','연매출액','임금당생산성gr']\n",
    "tempt=tempt.fillna(0.0)\n",
    "tempt"
   ]
  },
  {
   "cell_type": "code",
   "execution_count": 33,
   "metadata": {},
   "outputs": [
    {
     "data": {
      "text/plain": [
       "3.537147969503657"
      ]
     },
     "execution_count": 33,
     "metadata": {},
     "output_type": "execute_result"
    }
   ],
   "source": [
    "tempt.임금당생산성gr.max()"
   ]
  },
  {
   "cell_type": "code",
   "execution_count": 34,
   "metadata": {},
   "outputs": [
    {
     "data": {
      "text/plain": [
       "-0.0016574264424023006"
      ]
     },
     "execution_count": 34,
     "metadata": {},
     "output_type": "execute_result"
    }
   ],
   "source": [
    "tempt.임금당생산성gr.mean()"
   ]
  },
  {
   "cell_type": "code",
   "execution_count": 35,
   "metadata": {},
   "outputs": [
    {
     "data": {
      "text/plain": [
       "(array([1.1300e+02, 3.9424e+04, 2.8450e+03, 6.0000e+01, 1.4000e+01,\n",
       "        6.0000e+00, 3.0000e+00, 3.0000e+00, 0.0000e+00, 2.0000e+00]),\n",
       " array([-0.79279442, -0.35980018,  0.07319406,  0.5061883 ,  0.93918253,\n",
       "         1.37217677,  1.80517101,  2.23816525,  2.67115949,  3.10415373,\n",
       "         3.53714797]),\n",
       " <a list of 10 Patch objects>)"
      ]
     },
     "execution_count": 35,
     "metadata": {},
     "output_type": "execute_result"
    },
    {
     "data": {
      "image/png": "[encoded data removed]",
      "text/plain": [
       "<Figure size 432x288 with 1 Axes>"
      ]
     },
     "metadata": {
      "needs_background": "light"
     },
     "output_type": "display_data"
    }
   ],
   "source": [
    "plt.hist(tempt.임금당생산성gr)"
   ]
  },
  {
   "cell_type": "code",
   "execution_count": 36,
   "metadata": {},
   "outputs": [
    {
     "data": {
      "text/plain": [
       "(array([9., 8., 3., 2., 2., 1., 0., 1., 1., 0.]),\n",
       " array([1. , 1.3, 1.6, 1.9, 2.2, 2.5, 2.8, 3.1, 3.4, 3.7, 4. ]),\n",
       " <a list of 10 Patch objects>)"
      ]
     },
     "execution_count": 36,
     "metadata": {},
     "output_type": "execute_result"
    },
    {
     "data": {
      "image/png": "[encoded data removed]",
      "text/plain": [
       "<Figure size 432x288 with 1 Axes>"
      ]
     },
     "metadata": {
      "needs_background": "light"
     },
     "output_type": "display_data"
    }
   ],
   "source": [
    "plt.hist(tempt.임금당생산성gr,range=(1,4))"
   ]
  },
  {
   "cell_type": "markdown",
   "metadata": {},
   "source": [
    "### 5. 최종 유니콘 기업을 선정하기 위해 각 후보군의 교집합을 추출"
   ]
  },
  {
   "cell_type": "code",
   "execution_count": 37,
   "metadata": {},
   "outputs": [
    {
     "data": {
      "text/plain": [
       "array([137889, 164870, 234427, 250300, 331110, 404071, 445499, 470994,\n",
       "       473265, 474900, 507086], dtype=int64)"
      ]
     },
     "execution_count": 37,
     "metadata": {},
     "output_type": "execute_result"
    }
   ],
   "source": [
    "# 유니콘 기업을 찾기 위해 임금당생산성이 높은 상위 그룹중 적절한 빈도를 가진 생산성으로 필터링하여 회사 추출 \n",
    "pm_gr=tempt.query(\"임금당생산성gr>=1.5 \")['회사ID'].unique()\n",
    "pm_gr"
   ]
  },
  {
   "cell_type": "markdown",
   "metadata": {},
   "source": [
    "- 3개의 가설로 구한 회사 ID별 교집합 추출"
   ]
  },
  {
   "cell_type": "code",
   "execution_count": 38,
   "metadata": {},
   "outputs": [
    {
     "data": {
      "text/plain": [
       "array([315746, 331110, 445499, 470994, 473265, 474900], dtype=int64)"
      ]
     },
     "execution_count": 38,
     "metadata": {},
     "output_type": "execute_result"
    }
   ],
   "source": [
    "# 매출액성장률\n",
    "sol1=np.intersect1d(sal_gr, emppd_gr)\n",
    "sol1"
   ]
  },
  {
   "cell_type": "code",
   "execution_count": 39,
   "metadata": {},
   "outputs": [
    {
     "data": {
      "text/plain": [
       "array([331110, 445499, 470994, 473265, 474900], dtype=int64)"
      ]
     },
     "execution_count": 39,
     "metadata": {},
     "output_type": "execute_result"
    }
   ],
   "source": [
    "sol2=np.intersect1d(sal_gr, pm_gr)\n",
    "sol2"
   ]
  },
  {
   "cell_type": "markdown",
   "metadata": {},
   "source": [
    "### 6. 최종적으로 다음의 5개의 회사를 유니콘 기업으로 선정"
   ]
  },
  {
   "cell_type": "code",
   "execution_count": 40,
   "metadata": {},
   "outputs": [
    {
     "data": {
      "text/plain": [
       "array([331110, 445499, 470994, 473265, 474900], dtype=int64)"
      ]
     },
     "execution_count": 40,
     "metadata": {},
     "output_type": "execute_result"
    }
   ],
   "source": [
    "sol3=np.intersect1d(sol1, sol2)\n",
    "sol3"
   ]
  }
 ],
 "metadata": {
  "kernelspec": {
   "display_name": "Python 3",
   "language": "python",
   "name": "python3"
  },
  "language_info": {
   "codemirror_mode": {
    "name": "ipython",
    "version": 3
   },
   "file_extension": ".py",
   "mimetype": "text/x-python",
   "name": "python",
   "nbconvert_exporter": "python",
   "pygments_lexer": "ipython3",
   "version": "3.7.4"
  }
 },
 "nbformat": 4,
 "nbformat_minor": 5
}
