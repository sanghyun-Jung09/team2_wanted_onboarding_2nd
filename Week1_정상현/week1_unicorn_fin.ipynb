{
 "cells": [
  {
   "cell_type": "markdown",
   "metadata": {},
   "source": [
    "### <U> 유니콘 기업의 정의 </U>  \n",
    "#### 기업가치가 10억 달러 이상인 비상장 스타트업을 이르는 말 (출처 : 나무위키)\n",
    "#### 인터넷을 검색하다보면 매출은 얼마 안되는 반면, 가치가 수천 억에 달하는 스타트업들을 종종 볼 수 있다. \n",
    "#### 기업 가치는 매출만으로 정해지지 않기 때문이다. \n",
    "#### 오히려 매출과 수익이 안정적으로 발생하는 기업이라면투자를 받을 이유가 덜할 것이다. \n",
    "#### 기업 가치 평가는 시장규모와 시장점유율, 현금 유동성, 기술 혁신성, 대표의 야망 등을\n",
    "#### 종합적으로 고려하여 진행된다. 따라서 언제든지 아래 기업들의 순위가 뒤바뀔 가능성이 크다."
   ]
  },
  {
   "cell_type": "markdown",
   "metadata": {},
   "source": [
    "### 가설 설정\n",
    "1. 5천개의 회사중에 5개의 기업을 찾아야 하므로 년도와 월 컬럼을 제외하고 LocalOutlierFactor를 사용해 데이터를 클러스터링 후 데이터의 특징을  \n",
    "파악하면 유니콘 기업을 발굴할 수 있을 것이다.\n",
    "2. 유니콘 기업으로 성장하기 위해서는 최소 3개년 이상 유지되어야 하며, 회사의 연매출액 증가율이 높은 기업이어야 할 것이다.\n",
    "3. (월별매출액/ 월별직원수)를 구하면 직원당 생산성의 판단이 가능하므로, 이 지표가 최상위인 기업들이 기술기반 혁신기업인 유니콘  \n",
    "    기업일 것이다.\n",
    "4. 연금보험료는 임금과 연동되는 지표로 매출액/연금보험료는 회사입장에서 지급하는 임금당 생산성을 나타내는 지표이다. 이를 통해  \n",
    "   같은 임금으로도 매출액을 증가시키는 고효율 인재들이 많은 기업을 찾을 수 있는 변수로 이 지표가 최상위 그룹에 속하면 유니콘  \n",
    "   기업일 것이다.(양질의 인력의 지속적인 확보)\n",
    "    "
   ]
  },
  {
   "cell_type": "code",
   "execution_count": 1,
   "metadata": {},
   "outputs": [],
   "source": [
    "import pandas as pd\n",
    "import numpy as np\n",
    "import matplotlib.pyplot as plt \n",
    "import seaborn as sns\n",
    "plt.rcParams['axes.unicode_minus'] = False\n",
    "plt.rcParams['font.family'] = 'Malgun Gothic'"
   ]
  },
  {
   "cell_type": "code",
   "execution_count": 2,
   "metadata": {},
   "outputs": [],
   "source": [
    "df1=pd.read_csv('company_nps_data.csv',encoding='euc-kr')"
   ]
  },
  {
   "cell_type": "code",
   "execution_count": 3,
   "metadata": {},
   "outputs": [
    {
     "name": "stdout",
     "output_type": "stream",
     "text": [
      "<class 'pandas.core.frame.DataFrame'>\n",
      "RangeIndex: 99801 entries, 0 to 99800\n",
      "Data columns (total 6 columns):\n",
      " #   Column    Non-Null Count  Dtype\n",
      "---  ------    --------------  -----\n",
      " 0   회사ID      99801 non-null  int64\n",
      " 1   연매출액      99801 non-null  int64\n",
      " 2   년도        99801 non-null  int64\n",
      " 3   월         99801 non-null  int64\n",
      " 4   월별_연금보험료  99801 non-null  int64\n",
      " 5   월별_직원수    99801 non-null  int64\n",
      "dtypes: int64(6)\n",
      "memory usage: 4.6 MB\n"
     ]
    }
   ],
   "source": [
    "df1.info()"
   ]
  },
  {
   "cell_type": "markdown",
   "metadata": {},
   "source": [
    "- 추가 변수 생성"
   ]
  },
  {
   "cell_type": "code",
   "execution_count": 4,
   "metadata": {},
   "outputs": [],
   "source": [
    "df1['월별_매출액']=(df1.연매출액)/12"
   ]
  },
  {
   "cell_type": "code",
   "execution_count": 5,
   "metadata": {},
   "outputs": [],
   "source": [
    "df1['직원의 생산성']=df1.월별_매출액/df1.월별_직원수"
   ]
  },
  {
   "cell_type": "code",
   "execution_count": 6,
   "metadata": {},
   "outputs": [],
   "source": [
    "df1['임금당 생산성']=df1.월별_매출액/(df1.월별_연금보험료*0.09)"
   ]
  },
  {
   "cell_type": "code",
   "execution_count": 7,
   "metadata": {},
   "outputs": [],
   "source": [
    "# 일 데이터가 없기 때문에 임의로 1로 추가함\n",
    "df1['일'] = 1"
   ]
  },
  {
   "cell_type": "code",
   "execution_count": 8,
   "metadata": {},
   "outputs": [],
   "source": [
    "df1.columns=['회사ID', '연매출액', 'year', 'month', '월별_연금보험료', '월별_직원수','월별_매출액','직원의 생산성','임금당 생산성','day']"
   ]
  },
  {
   "cell_type": "code",
   "execution_count": 9,
   "metadata": {},
   "outputs": [
    {
     "data": {
      "text/html": [
       "<div>\n",
       "<style scoped>\n",
       "    .dataframe tbody tr th:only-of-type {\n",
       "        vertical-align: middle;\n",
       "    }\n",
       "\n",
       "    .dataframe tbody tr th {\n",
       "        vertical-align: top;\n",
       "    }\n",
       "\n",
       "    .dataframe thead th {\n",
       "        text-align: right;\n",
       "    }\n",
       "</style>\n",
       "<table border=\"1\" class=\"dataframe\">\n",
       "  <thead>\n",
       "    <tr style=\"text-align: right;\">\n",
       "      <th></th>\n",
       "      <th>회사ID</th>\n",
       "      <th>연매출액</th>\n",
       "      <th>year</th>\n",
       "      <th>month</th>\n",
       "      <th>월별_연금보험료</th>\n",
       "      <th>월별_직원수</th>\n",
       "      <th>월별_매출액</th>\n",
       "      <th>직원의 생산성</th>\n",
       "      <th>임금당 생산성</th>\n",
       "      <th>day</th>\n",
       "      <th>date</th>\n",
       "    </tr>\n",
       "  </thead>\n",
       "  <tbody>\n",
       "    <tr>\n",
       "      <th>0</th>\n",
       "      <td>233757</td>\n",
       "      <td>41688077</td>\n",
       "      <td>2018</td>\n",
       "      <td>7</td>\n",
       "      <td>8912380</td>\n",
       "      <td>36</td>\n",
       "      <td>3.474006e+06</td>\n",
       "      <td>96500.178241</td>\n",
       "      <td>4.331062</td>\n",
       "      <td>1</td>\n",
       "      <td>2018-07-01</td>\n",
       "    </tr>\n",
       "    <tr>\n",
       "      <th>1</th>\n",
       "      <td>123464</td>\n",
       "      <td>1760695</td>\n",
       "      <td>2018</td>\n",
       "      <td>3</td>\n",
       "      <td>942380</td>\n",
       "      <td>5</td>\n",
       "      <td>1.467246e+05</td>\n",
       "      <td>29344.916667</td>\n",
       "      <td>1.729953</td>\n",
       "      <td>1</td>\n",
       "      <td>2018-03-01</td>\n",
       "    </tr>\n",
       "    <tr>\n",
       "      <th>2</th>\n",
       "      <td>342124</td>\n",
       "      <td>3221341</td>\n",
       "      <td>2018</td>\n",
       "      <td>7</td>\n",
       "      <td>781180</td>\n",
       "      <td>4</td>\n",
       "      <td>2.684451e+05</td>\n",
       "      <td>67111.270833</td>\n",
       "      <td>3.818228</td>\n",
       "      <td>1</td>\n",
       "      <td>2018-07-01</td>\n",
       "    </tr>\n",
       "    <tr>\n",
       "      <th>3</th>\n",
       "      <td>386420</td>\n",
       "      <td>4815584</td>\n",
       "      <td>2015</td>\n",
       "      <td>11</td>\n",
       "      <td>3795900</td>\n",
       "      <td>14</td>\n",
       "      <td>4.012987e+05</td>\n",
       "      <td>28664.190476</td>\n",
       "      <td>1.174655</td>\n",
       "      <td>1</td>\n",
       "      <td>2015-11-01</td>\n",
       "    </tr>\n",
       "    <tr>\n",
       "      <th>4</th>\n",
       "      <td>129243</td>\n",
       "      <td>9799736</td>\n",
       "      <td>2018</td>\n",
       "      <td>10</td>\n",
       "      <td>40724680</td>\n",
       "      <td>151</td>\n",
       "      <td>8.166447e+05</td>\n",
       "      <td>5408.242826</td>\n",
       "      <td>0.222809</td>\n",
       "      <td>1</td>\n",
       "      <td>2018-10-01</td>\n",
       "    </tr>\n",
       "    <tr>\n",
       "      <th>...</th>\n",
       "      <td>...</td>\n",
       "      <td>...</td>\n",
       "      <td>...</td>\n",
       "      <td>...</td>\n",
       "      <td>...</td>\n",
       "      <td>...</td>\n",
       "      <td>...</td>\n",
       "      <td>...</td>\n",
       "      <td>...</td>\n",
       "      <td>...</td>\n",
       "      <td>...</td>\n",
       "    </tr>\n",
       "    <tr>\n",
       "      <th>99796</th>\n",
       "      <td>171439</td>\n",
       "      <td>4630622</td>\n",
       "      <td>2017</td>\n",
       "      <td>2</td>\n",
       "      <td>2402740</td>\n",
       "      <td>11</td>\n",
       "      <td>3.858852e+05</td>\n",
       "      <td>35080.469697</td>\n",
       "      <td>1.784468</td>\n",
       "      <td>1</td>\n",
       "      <td>2017-02-01</td>\n",
       "    </tr>\n",
       "    <tr>\n",
       "      <th>99797</th>\n",
       "      <td>239388</td>\n",
       "      <td>1045021</td>\n",
       "      <td>2018</td>\n",
       "      <td>10</td>\n",
       "      <td>1428800</td>\n",
       "      <td>9</td>\n",
       "      <td>8.708508e+04</td>\n",
       "      <td>9676.120370</td>\n",
       "      <td>0.677220</td>\n",
       "      <td>1</td>\n",
       "      <td>2018-10-01</td>\n",
       "    </tr>\n",
       "    <tr>\n",
       "      <th>99798</th>\n",
       "      <td>272304</td>\n",
       "      <td>181898</td>\n",
       "      <td>2018</td>\n",
       "      <td>3</td>\n",
       "      <td>392560</td>\n",
       "      <td>4</td>\n",
       "      <td>1.515817e+04</td>\n",
       "      <td>3789.541667</td>\n",
       "      <td>0.429040</td>\n",
       "      <td>1</td>\n",
       "      <td>2018-03-01</td>\n",
       "    </tr>\n",
       "    <tr>\n",
       "      <th>99799</th>\n",
       "      <td>362194</td>\n",
       "      <td>2100218</td>\n",
       "      <td>2018</td>\n",
       "      <td>12</td>\n",
       "      <td>874780</td>\n",
       "      <td>3</td>\n",
       "      <td>1.750182e+05</td>\n",
       "      <td>58339.388889</td>\n",
       "      <td>2.223012</td>\n",
       "      <td>1</td>\n",
       "      <td>2018-12-01</td>\n",
       "    </tr>\n",
       "    <tr>\n",
       "      <th>99800</th>\n",
       "      <td>124281</td>\n",
       "      <td>132900</td>\n",
       "      <td>2017</td>\n",
       "      <td>11</td>\n",
       "      <td>291940</td>\n",
       "      <td>5</td>\n",
       "      <td>1.107500e+04</td>\n",
       "      <td>2215.000000</td>\n",
       "      <td>0.421510</td>\n",
       "      <td>1</td>\n",
       "      <td>2017-11-01</td>\n",
       "    </tr>\n",
       "  </tbody>\n",
       "</table>\n",
       "<p>99801 rows × 11 columns</p>\n",
       "</div>"
      ],
      "text/plain": [
       "         회사ID      연매출액  year  month  월별_연금보험료  월별_직원수        월별_매출액  \\\n",
       "0      233757  41688077  2018      7   8912380      36  3.474006e+06   \n",
       "1      123464   1760695  2018      3    942380       5  1.467246e+05   \n",
       "2      342124   3221341  2018      7    781180       4  2.684451e+05   \n",
       "3      386420   4815584  2015     11   3795900      14  4.012987e+05   \n",
       "4      129243   9799736  2018     10  40724680     151  8.166447e+05   \n",
       "...       ...       ...   ...    ...       ...     ...           ...   \n",
       "99796  171439   4630622  2017      2   2402740      11  3.858852e+05   \n",
       "99797  239388   1045021  2018     10   1428800       9  8.708508e+04   \n",
       "99798  272304    181898  2018      3    392560       4  1.515817e+04   \n",
       "99799  362194   2100218  2018     12    874780       3  1.750182e+05   \n",
       "99800  124281    132900  2017     11    291940       5  1.107500e+04   \n",
       "\n",
       "            직원의 생산성   임금당 생산성  day       date  \n",
       "0      96500.178241  4.331062    1 2018-07-01  \n",
       "1      29344.916667  1.729953    1 2018-03-01  \n",
       "2      67111.270833  3.818228    1 2018-07-01  \n",
       "3      28664.190476  1.174655    1 2015-11-01  \n",
       "4       5408.242826  0.222809    1 2018-10-01  \n",
       "...             ...       ...  ...        ...  \n",
       "99796  35080.469697  1.784468    1 2017-02-01  \n",
       "99797   9676.120370  0.677220    1 2018-10-01  \n",
       "99798   3789.541667  0.429040    1 2018-03-01  \n",
       "99799  58339.388889  2.223012    1 2018-12-01  \n",
       "99800   2215.000000  0.421510    1 2017-11-01  \n",
       "\n",
       "[99801 rows x 11 columns]"
      ]
     },
     "execution_count": 9,
     "metadata": {},
     "output_type": "execute_result"
    }
   ],
   "source": [
    "# 날짜타입변환\n",
    "df1['date']=pd.to_datetime(df1[['year','month','day']])\n",
    "df1"
   ]
  },
  {
   "cell_type": "markdown",
   "metadata": {},
   "source": [
    "***"
   ]
  },
  {
   "cell_type": "markdown",
   "metadata": {},
   "source": [
    "### 1. EDA\n"
   ]
  },
  {
   "cell_type": "markdown",
   "metadata": {},
   "source": [
    "- 변수별 상관관계 파악"
   ]
  },
  {
   "cell_type": "code",
   "execution_count": 10,
   "metadata": {},
   "outputs": [
    {
     "data": {
      "text/plain": [
       "Text(0.5, 1, 'Feature Correlation')"
      ]
     },
     "execution_count": 10,
     "metadata": {},
     "output_type": "execute_result"
    },
    {
     "data": {
      "image/png": "[encoded data removed]",
      "text/plain": [
       "<Figure size 1080x1080 with 2 Axes>"
      ]
     },
     "metadata": {
      "needs_background": "light"
     },
     "output_type": "display_data"
    }
   ],
   "source": [
    "dcorr=df1.corr()\n",
    "plt.figure(figsize=(15, 15));\n",
    "sns.heatmap(dcorr,\n",
    "            vmax=0.8,\n",
    "            linewidths=0.01,\n",
    "            square=True,\n",
    "            annot=True,\n",
    "            cmap='YlGnBu');\n",
    "plt.title('Feature Correlation')"
   ]
  },
  {
   "cell_type": "markdown",
   "metadata": {},
   "source": [
    "<U>직원수가 많고 보험료를 많이 낼수록 매출액이 증가하는 상관관계를 보인다.</U>\n",
    "즉, 상관관계만 보더라도 이 세가지 변수가 모두 높은 그룹이  \n",
    "유니콘기업일 것이라는 가설이 더 신빙성이 있다.  \n",
    "<br></br>\n",
    "그러나, 박스플롯으로 매출액, 직원의 생산성, 보험료 등은 한쪽에 데이터가 너무 몰려있어 박스플롯이 이상하게 나온다."
   ]
  },
  {
   "cell_type": "code",
   "execution_count": 11,
   "metadata": {},
   "outputs": [
    {
     "data": {
      "text/plain": [
       "<matplotlib.axes._subplots.AxesSubplot at 0x1508df55448>"
      ]
     },
     "execution_count": 11,
     "metadata": {},
     "output_type": "execute_result"
    },
    {
     "data": {
      "image/png": "[encoded data removed]",
      "text/plain": [
       "<Figure size 432x288 with 1 Axes>"
      ]
     },
     "metadata": {
      "needs_background": "light"
     },
     "output_type": "display_data"
    }
   ],
   "source": [
    "sns.boxplot(x='year',y='연매출액',data=df1)"
   ]
  },
  {
   "cell_type": "markdown",
   "metadata": {},
   "source": [
    "- 그러므로 이를 살펴보기 위해 매출액에서 제일 많이 수치를 제외하고 히스트플롯을 생성한다.  \n",
    "- 전체 범위로 히스토그램을 그리면 아래처럼 너무 몰려있는 데이터가 많아서 나머지 데이터의 빈도를 알기 힘들다.  \n",
    "- 향후 매출액 증가율을 확인하는데, 매출액의 절대적인 수치 또한 기업의 성장을 위해 중요하다고 판단되 고려한다.  \n",
    "- 매출액을 히스토그램에서 보는 것처럼 0.1e+10의 범위, 그이상부터 0.25e+10, 그이상부터 0.6e+10, 그이상부터 max까지로 카테고리화 한다."
   ]
  },
  {
   "cell_type": "code",
   "execution_count": 12,
   "metadata": {},
   "outputs": [
    {
     "data": {
      "text/plain": [
       "(array([9.9431e+04, 1.2400e+02, 0.0000e+00, 1.2400e+02, 6.2000e+01,\n",
       "        0.0000e+00, 2.4000e+01, 1.2000e+01, 1.2000e+01, 1.2000e+01]),\n",
       " array([-7.88217600e+06,  1.12578398e+09,  2.25945014e+09,  3.39311630e+09,\n",
       "         4.52678245e+09,  5.66044861e+09,  6.79411477e+09,  7.92778092e+09,\n",
       "         9.06144708e+09,  1.01951132e+10,  1.13287794e+10]),\n",
       " <a list of 10 Patch objects>)"
      ]
     },
     "execution_count": 12,
     "metadata": {},
     "output_type": "execute_result"
    },
    {
     "data": {
      "image/png": "[encoded data removed]",
      "text/plain": [
       "<Figure size 432x288 with 1 Axes>"
      ]
     },
     "metadata": {
      "needs_background": "light"
     },
     "output_type": "display_data"
    }
   ],
   "source": [
    "plt.hist(df1.연매출액)"
   ]
  },
  {
   "cell_type": "markdown",
   "metadata": {},
   "source": [
    "- 매출액을 더 자세하게 보기 위하여 히스토그램 범위 지정"
   ]
  },
  {
   "cell_type": "code",
   "execution_count": 13,
   "metadata": {},
   "outputs": [
    {
     "data": {
      "text/plain": [
       "(array([140.,  24.,  64.,  98.,  24.,  12.,  12.,  12.,  12.,  12.]),\n",
       " array([1.00000000e+09, 2.03287795e+09, 3.06575590e+09, 4.09863385e+09,\n",
       "        5.13151180e+09, 6.16438975e+09, 7.19726770e+09, 8.23014565e+09,\n",
       "        9.26302360e+09, 1.02959015e+10, 1.13287795e+10]),\n",
       " <a list of 10 Patch objects>)"
      ]
     },
     "execution_count": 13,
     "metadata": {},
     "output_type": "execute_result"
    },
    {
     "data": {
      "image/png": "[encoded data removed]",
      "text/plain": [
       "<Figure size 432x288 with 1 Axes>"
      ]
     },
     "metadata": {
      "needs_background": "light"
     },
     "output_type": "display_data"
    }
   ],
   "source": [
    "plt.hist(df1.연매출액,range=(0.1e+10,df1.연매출액.max()+100))"
   ]
  },
  {
   "cell_type": "code",
   "execution_count": 14,
   "metadata": {},
   "outputs": [],
   "source": [
    "# 히스토그램 기반 매출액 크기 기준으로 점수 부여 (향후 매출액성장률과 혼용하여 평가지표로 사용)\n",
    "l1=[]\n",
    "for i in df1.연매출액:\n",
    "    if i >= 0.6e+10:\n",
    "        l1.append(2)\n",
    "    elif i >= 0.2e+10:\n",
    "        l1.append(1.5)\n",
    "    elif i>= 0.1e+10:\n",
    "        l1.append(1)\n",
    "    else:\n",
    "        l1.append(0.5)\n",
    "\n",
    "        \n",
    "df1['sal_grade']=l1"
   ]
  },
  {
   "cell_type": "code",
   "execution_count": 15,
   "metadata": {
    "scrolled": true
   },
   "outputs": [
    {
     "data": {
      "text/plain": [
       "0.5    99391\n",
       "1.5      212\n",
       "1.0      138\n",
       "2.0       60\n",
       "Name: sal_grade, dtype: int64"
      ]
     },
     "execution_count": 15,
     "metadata": {},
     "output_type": "execute_result"
    }
   ],
   "source": [
    "df1['sal_grade'].value_counts()"
   ]
  },
  {
   "cell_type": "code",
   "execution_count": 16,
   "metadata": {},
   "outputs": [
    {
     "data": {
      "text/plain": [
       "회사ID     year\n",
       "63       2018    1.132878e+10\n",
       "95       2018    6.569474e+08\n",
       "102      2018    7.426589e+08\n",
       "295      2018    8.377670e+07\n",
       "414      2018    1.973277e+07\n",
       "                     ...     \n",
       "2400284  2018    1.263406e+06\n",
       "2437574  2018    2.140160e+05\n",
       "2693684  2019    2.380760e+05\n",
       "3312354  2019    1.451563e+06\n",
       "5159723  2019    2.591898e+06\n",
       "Name: 연매출액, Length: 10111, dtype: float64"
      ]
     },
     "execution_count": 16,
     "metadata": {},
     "output_type": "execute_result"
    }
   ],
   "source": [
    "df1.groupby(['회사ID','year'])['연매출액'].mean()"
   ]
  },
  {
   "cell_type": "code",
   "execution_count": 17,
   "metadata": {},
   "outputs": [
    {
     "data": {
      "text/plain": [
       "<matplotlib.axes._subplots.AxesSubplot at 0x1508db65f48>"
      ]
     },
     "execution_count": 17,
     "metadata": {},
     "output_type": "execute_result"
    },
    {
     "data": {
      "image/png": "[encoded data removed]",
      "text/plain": [
       "<Figure size 432x288 with 1 Axes>"
      ]
     },
     "metadata": {
      "needs_background": "light"
     },
     "output_type": "display_data"
    }
   ],
   "source": [
    "sns.boxplot(x='year',y='직원의 생산성',data=df1)"
   ]
  },
  {
   "cell_type": "code",
   "execution_count": 18,
   "metadata": {},
   "outputs": [
    {
     "data": {
      "text/plain": [
       "<matplotlib.axes._subplots.AxesSubplot at 0x1508dc28188>"
      ]
     },
     "execution_count": 18,
     "metadata": {},
     "output_type": "execute_result"
    },
    {
     "data": {
      "image/png": "[encoded data removed]",
      "text/plain": [
       "<Figure size 432x288 with 1 Axes>"
      ]
     },
     "metadata": {
      "needs_background": "light"
     },
     "output_type": "display_data"
    }
   ],
   "source": [
    "sns.boxplot(x='year',y='월별_연금보험료',data=df1)"
   ]
  },
  {
   "cell_type": "markdown",
   "metadata": {},
   "source": [
    "- 실제 유니콘 회사들의 영업이력이 평균 5년정도 되므로, 최소 3년 이상의 기업만 필터링"
   ]
  },
  {
   "cell_type": "code",
   "execution_count": 19,
   "metadata": {},
   "outputs": [],
   "source": [
    "y_count=df1.groupby('회사ID')['year'].count().loc[df1.groupby('회사ID')['year'].count()>=36].reset_index()"
   ]
  },
  {
   "cell_type": "code",
   "execution_count": 20,
   "metadata": {},
   "outputs": [],
   "source": [
    "y_count.columns=['회사ID','y_count']"
   ]
  },
  {
   "cell_type": "code",
   "execution_count": 21,
   "metadata": {},
   "outputs": [],
   "source": [
    "# 불필요한 행을 제외하기 위해 inner join 수행\n",
    "df1=pd.merge(df1,y_count,on='회사ID')"
   ]
  },
  {
   "cell_type": "markdown",
   "metadata": {},
   "source": [
    "- 밀도기반으로 이상값을 찾는 방법인 LocalOutlierFactor를 사용해 소수의 회사를 추출  \n",
    "  (향후에 가설대로 추출한 유니콘 기업과 비교)"
   ]
  },
  {
   "cell_type": "code",
   "execution_count": 22,
   "metadata": {},
   "outputs": [],
   "source": [
    "from sklearn.neighbors import LocalOutlierFactor\n",
    "lof = LocalOutlierFactor(contamination=0.00125)\n",
    "df1['outlier'] = lof.fit_predict(np.asmatrix(df1.drop(['year','month','date','day'],axis=1)))"
   ]
  },
  {
   "cell_type": "code",
   "execution_count": 23,
   "metadata": {},
   "outputs": [
    {
     "data": {
      "text/plain": [
       "7"
      ]
     },
     "execution_count": 23,
     "metadata": {},
     "output_type": "execute_result"
    }
   ],
   "source": [
    "len(df1.query(\"outlier==-1\").회사ID.unique())"
   ]
  },
  {
   "cell_type": "code",
   "execution_count": 24,
   "metadata": {},
   "outputs": [],
   "source": [
    "df1=df1.sort_values(by=['회사ID','year','month'])"
   ]
  },
  {
   "cell_type": "markdown",
   "metadata": {},
   "source": [
    "***"
   ]
  },
  {
   "cell_type": "markdown",
   "metadata": {},
   "source": [
    "### 2. 첫번째 가설인 '최소 3개년 이상 유지되는 회사의 연매출액 증가율이 높은 기업 추출'"
   ]
  },
  {
   "cell_type": "code",
   "execution_count": 25,
   "metadata": {},
   "outputs": [
    {
     "data": {
      "text/plain": [
       "회사ID\n",
       "145177    18.405927\n",
       "233340     5.327505\n",
       "435512     5.101907\n",
       "335237     5.035858\n",
       "294620     4.760962\n",
       "            ...    \n",
       "144945    -0.425689\n",
       "430507    -0.426755\n",
       "331827    -0.472882\n",
       "264218    -0.668611\n",
       "432911    -2.164515\n",
       "Name: 연매출액gr, Length: 1127, dtype: float64"
      ]
     },
     "execution_count": 25,
     "metadata": {},
     "output_type": "execute_result"
    }
   ],
   "source": [
    "# 3년 이상 운영한 회사의 연별 매출액의 성장률을 출력\n",
    "tempt=df1.groupby(['회사ID','year'])['연매출액'].mean().reset_index()\n",
    "tempt2=tempt.groupby('회사ID')['연매출액'].pct_change()\n",
    "tempt=pd.concat([tempt,tempt2],axis=1)\n",
    "tempt.columns=['회사ID','year','연매출액','연매출액gr']\n",
    "tempt=tempt.dropna()\n",
    "tempt2=tempt.groupby(['회사ID'])['연매출액gr'].mean().sort_values(ascending=False)\n",
    "tempt2"
   ]
  },
  {
   "cell_type": "code",
   "execution_count": 26,
   "metadata": {},
   "outputs": [
    {
     "data": {
      "text/plain": [
       "(array([  0.,   0.,   0.,   4., 350., 622., 103.,  29.,   5.,   2.]),\n",
       " array([-2. , -1.6, -1.2, -0.8, -0.4,  0. ,  0.4,  0.8,  1.2,  1.6,  2. ]),\n",
       " <a list of 10 Patch objects>)"
      ]
     },
     "execution_count": 26,
     "metadata": {},
     "output_type": "execute_result"
    },
    {
     "data": {
      "image/png": "[encoded data removed]",
      "text/plain": [
       "<Figure size 432x288 with 1 Axes>"
      ]
     },
     "metadata": {
      "needs_background": "light"
     },
     "output_type": "display_data"
    }
   ],
   "source": [
    "# 히스토그램을 통해 연매출액 증가율이 3단계로 구분할 수 있다는 것을  확인할 수 있음\n",
    "plt.hist(tempt2,range=(-2,2))"
   ]
  },
  {
   "cell_type": "code",
   "execution_count": 27,
   "metadata": {},
   "outputs": [],
   "source": [
    "l1=[]\n",
    "for i in tempt2:\n",
    "    if i >= 0.75:\n",
    "        l1.append(3)\n",
    "    elif i >= 0:\n",
    "        l1.append(2)\n",
    "    else:\n",
    "        l1.append(1)"
   ]
  },
  {
   "cell_type": "code",
   "execution_count": 28,
   "metadata": {},
   "outputs": [
    {
     "data": {
      "text/html": [
       "<div>\n",
       "<style scoped>\n",
       "    .dataframe tbody tr th:only-of-type {\n",
       "        vertical-align: middle;\n",
       "    }\n",
       "\n",
       "    .dataframe tbody tr th {\n",
       "        vertical-align: top;\n",
       "    }\n",
       "\n",
       "    .dataframe thead th {\n",
       "        text-align: right;\n",
       "    }\n",
       "</style>\n",
       "<table border=\"1\" class=\"dataframe\">\n",
       "  <thead>\n",
       "    <tr style=\"text-align: right;\">\n",
       "      <th></th>\n",
       "      <th>회사ID</th>\n",
       "      <th>연매출액gr</th>\n",
       "      <th>cat_매출액gr</th>\n",
       "    </tr>\n",
       "  </thead>\n",
       "  <tbody>\n",
       "    <tr>\n",
       "      <th>0</th>\n",
       "      <td>145177</td>\n",
       "      <td>18.405927</td>\n",
       "      <td>3</td>\n",
       "    </tr>\n",
       "    <tr>\n",
       "      <th>1</th>\n",
       "      <td>233340</td>\n",
       "      <td>5.327505</td>\n",
       "      <td>3</td>\n",
       "    </tr>\n",
       "    <tr>\n",
       "      <th>2</th>\n",
       "      <td>435512</td>\n",
       "      <td>5.101907</td>\n",
       "      <td>3</td>\n",
       "    </tr>\n",
       "    <tr>\n",
       "      <th>3</th>\n",
       "      <td>335237</td>\n",
       "      <td>5.035858</td>\n",
       "      <td>3</td>\n",
       "    </tr>\n",
       "    <tr>\n",
       "      <th>4</th>\n",
       "      <td>294620</td>\n",
       "      <td>4.760962</td>\n",
       "      <td>3</td>\n",
       "    </tr>\n",
       "    <tr>\n",
       "      <th>...</th>\n",
       "      <td>...</td>\n",
       "      <td>...</td>\n",
       "      <td>...</td>\n",
       "    </tr>\n",
       "    <tr>\n",
       "      <th>1122</th>\n",
       "      <td>144945</td>\n",
       "      <td>-0.425689</td>\n",
       "      <td>1</td>\n",
       "    </tr>\n",
       "    <tr>\n",
       "      <th>1123</th>\n",
       "      <td>430507</td>\n",
       "      <td>-0.426755</td>\n",
       "      <td>1</td>\n",
       "    </tr>\n",
       "    <tr>\n",
       "      <th>1124</th>\n",
       "      <td>331827</td>\n",
       "      <td>-0.472882</td>\n",
       "      <td>1</td>\n",
       "    </tr>\n",
       "    <tr>\n",
       "      <th>1125</th>\n",
       "      <td>264218</td>\n",
       "      <td>-0.668611</td>\n",
       "      <td>1</td>\n",
       "    </tr>\n",
       "    <tr>\n",
       "      <th>1126</th>\n",
       "      <td>432911</td>\n",
       "      <td>-2.164515</td>\n",
       "      <td>1</td>\n",
       "    </tr>\n",
       "  </tbody>\n",
       "</table>\n",
       "<p>1127 rows × 3 columns</p>\n",
       "</div>"
      ],
      "text/plain": [
       "        회사ID     연매출액gr  cat_매출액gr\n",
       "0     145177  18.405927          3\n",
       "1     233340   5.327505          3\n",
       "2     435512   5.101907          3\n",
       "3     335237   5.035858          3\n",
       "4     294620   4.760962          3\n",
       "...      ...        ...        ...\n",
       "1122  144945  -0.425689          1\n",
       "1123  430507  -0.426755          1\n",
       "1124  331827  -0.472882          1\n",
       "1125  264218  -0.668611          1\n",
       "1126  432911  -2.164515          1\n",
       "\n",
       "[1127 rows x 3 columns]"
      ]
     },
     "execution_count": 28,
     "metadata": {},
     "output_type": "execute_result"
    }
   ],
   "source": [
    "tempt2=tempt2.reset_index()\n",
    "tempt2['cat_매출액gr']=l1\n",
    "tempt2"
   ]
  },
  {
   "cell_type": "markdown",
   "metadata": {},
   "source": [
    "- 원본 데이터에 추가한 매출액 규모기준 점수를 성장률 점수와 합하기 위하여 left join으로 추가한다.\n",
    "- 그리고 점수별로 데이터의 개수를 파악하여 0.5점과 1점의 회사는 성장률과 매출액 모두 뛰어난 요소가 없기에 제외한다."
   ]
  },
  {
   "cell_type": "code",
   "execution_count": 29,
   "metadata": {},
   "outputs": [
    {
     "data": {
      "text/html": [
       "<div>\n",
       "<style scoped>\n",
       "    .dataframe tbody tr th:only-of-type {\n",
       "        vertical-align: middle;\n",
       "    }\n",
       "\n",
       "    .dataframe tbody tr th {\n",
       "        vertical-align: top;\n",
       "    }\n",
       "\n",
       "    .dataframe thead th {\n",
       "        text-align: right;\n",
       "    }\n",
       "</style>\n",
       "<table border=\"1\" class=\"dataframe\">\n",
       "  <thead>\n",
       "    <tr style=\"text-align: right;\">\n",
       "      <th></th>\n",
       "      <th>회사ID</th>\n",
       "      <th>연매출액gr</th>\n",
       "      <th>cat_매출액gr</th>\n",
       "      <th>sal_grade</th>\n",
       "    </tr>\n",
       "  </thead>\n",
       "  <tbody>\n",
       "    <tr>\n",
       "      <th>0</th>\n",
       "      <td>145177</td>\n",
       "      <td>18.405927</td>\n",
       "      <td>3</td>\n",
       "      <td>0.5</td>\n",
       "    </tr>\n",
       "    <tr>\n",
       "      <th>1</th>\n",
       "      <td>145177</td>\n",
       "      <td>18.405927</td>\n",
       "      <td>3</td>\n",
       "      <td>0.5</td>\n",
       "    </tr>\n",
       "    <tr>\n",
       "      <th>2</th>\n",
       "      <td>145177</td>\n",
       "      <td>18.405927</td>\n",
       "      <td>3</td>\n",
       "      <td>0.5</td>\n",
       "    </tr>\n",
       "    <tr>\n",
       "      <th>3</th>\n",
       "      <td>145177</td>\n",
       "      <td>18.405927</td>\n",
       "      <td>3</td>\n",
       "      <td>0.5</td>\n",
       "    </tr>\n",
       "    <tr>\n",
       "      <th>4</th>\n",
       "      <td>145177</td>\n",
       "      <td>18.405927</td>\n",
       "      <td>3</td>\n",
       "      <td>0.5</td>\n",
       "    </tr>\n",
       "    <tr>\n",
       "      <th>...</th>\n",
       "      <td>...</td>\n",
       "      <td>...</td>\n",
       "      <td>...</td>\n",
       "      <td>...</td>\n",
       "    </tr>\n",
       "    <tr>\n",
       "      <th>42465</th>\n",
       "      <td>432911</td>\n",
       "      <td>-2.164515</td>\n",
       "      <td>1</td>\n",
       "      <td>0.5</td>\n",
       "    </tr>\n",
       "    <tr>\n",
       "      <th>42466</th>\n",
       "      <td>432911</td>\n",
       "      <td>-2.164515</td>\n",
       "      <td>1</td>\n",
       "      <td>0.5</td>\n",
       "    </tr>\n",
       "    <tr>\n",
       "      <th>42467</th>\n",
       "      <td>432911</td>\n",
       "      <td>-2.164515</td>\n",
       "      <td>1</td>\n",
       "      <td>0.5</td>\n",
       "    </tr>\n",
       "    <tr>\n",
       "      <th>42468</th>\n",
       "      <td>432911</td>\n",
       "      <td>-2.164515</td>\n",
       "      <td>1</td>\n",
       "      <td>0.5</td>\n",
       "    </tr>\n",
       "    <tr>\n",
       "      <th>42469</th>\n",
       "      <td>432911</td>\n",
       "      <td>-2.164515</td>\n",
       "      <td>1</td>\n",
       "      <td>0.5</td>\n",
       "    </tr>\n",
       "  </tbody>\n",
       "</table>\n",
       "<p>42470 rows × 4 columns</p>\n",
       "</div>"
      ],
      "text/plain": [
       "         회사ID     연매출액gr  cat_매출액gr  sal_grade\n",
       "0      145177  18.405927          3        0.5\n",
       "1      145177  18.405927          3        0.5\n",
       "2      145177  18.405927          3        0.5\n",
       "3      145177  18.405927          3        0.5\n",
       "4      145177  18.405927          3        0.5\n",
       "...       ...        ...        ...        ...\n",
       "42465  432911  -2.164515          1        0.5\n",
       "42466  432911  -2.164515          1        0.5\n",
       "42467  432911  -2.164515          1        0.5\n",
       "42468  432911  -2.164515          1        0.5\n",
       "42469  432911  -2.164515          1        0.5\n",
       "\n",
       "[42470 rows x 4 columns]"
      ]
     },
     "execution_count": 29,
     "metadata": {},
     "output_type": "execute_result"
    }
   ],
   "source": [
    "tempt2=pd.merge(tempt2,df1.loc[:,['회사ID','sal_grade']],on='회사ID',how='left')\n",
    "df_fin=tempt2\n",
    "df_fin"
   ]
  },
  {
   "cell_type": "code",
   "execution_count": 30,
   "metadata": {
    "scrolled": true
   },
   "outputs": [
    {
     "data": {
      "text/plain": [
       "1.0    26754\n",
       "0.5    13238\n",
       "1.5     2190\n",
       "3.0      140\n",
       "2.0      100\n",
       "4.0       48\n",
       "Name: sal_grade_fin, dtype: int64"
      ]
     },
     "execution_count": 30,
     "metadata": {},
     "output_type": "execute_result"
    }
   ],
   "source": [
    "# 매출액 규모와 성장률을 모두 고려한 매출 기반 점수 설정\n",
    "tempt2['sal_grade_fin']=tempt2.cat_매출액gr*tempt2.sal_grade\n",
    "tempt2['sal_grade_fin'].value_counts()"
   ]
  },
  {
   "cell_type": "markdown",
   "metadata": {},
   "source": [
    "- 매출성장률 기반 유니콘 후보기업 추출(점수기준 역성장하거나 정체되어 있는 그룹 제거)"
   ]
  },
  {
   "cell_type": "markdown",
   "metadata": {},
   "source": [
    "***"
   ]
  },
  {
   "cell_type": "markdown",
   "metadata": {},
   "source": [
    "### 3. 두번째 가설인 직원의 생산성이 높은 기업을 추출"
   ]
  },
  {
   "cell_type": "code",
   "execution_count": 31,
   "metadata": {},
   "outputs": [
    {
     "data": {
      "text/plain": [
       "회사ID\n",
       "404071    0.120977\n",
       "507086    0.108481\n",
       "137889    0.104031\n",
       "228565    0.083298\n",
       "474900    0.083099\n",
       "            ...   \n",
       "405759   -0.044975\n",
       "297402   -0.048071\n",
       "129633   -0.049712\n",
       "472892   -0.054916\n",
       "137755   -0.064765\n",
       "Name: 직원생산성gr, Length: 1127, dtype: float64"
      ]
     },
     "execution_count": 31,
     "metadata": {},
     "output_type": "execute_result"
    }
   ],
   "source": [
    "# 직원 생산성은 월별로 측정가능한 변수이기 때문에 월별로 성장률을 구함\n",
    "tempt=df1.groupby(['회사ID','year','month'])['직원의 생산성'].mean().reset_index()\n",
    "tempt2=tempt.groupby(['회사ID','year'])['직원의 생산성'].pct_change()\n",
    "tempt=pd.concat([tempt,tempt2],axis=1).dropna()\n",
    "tempt.columns=['회사ID','year','month','직원의 생산성','직원생산성gr']\n",
    "tempt=tempt.fillna(0.0)\n",
    "tempt\n",
    "tempt2=tempt.groupby(['회사ID'])['직원생산성gr'].mean().sort_values(ascending=False)\n",
    "tempt2"
   ]
  },
  {
   "cell_type": "code",
   "execution_count": 32,
   "metadata": {},
   "outputs": [
    {
     "data": {
      "text/plain": [
       "4.25"
      ]
     },
     "execution_count": 32,
     "metadata": {},
     "output_type": "execute_result"
    }
   ],
   "source": [
    "tempt.직원생산성gr.max()"
   ]
  },
  {
   "cell_type": "code",
   "execution_count": 33,
   "metadata": {},
   "outputs": [
    {
     "data": {
      "text/plain": [
       "-0.7777777777777778"
      ]
     },
     "execution_count": 33,
     "metadata": {},
     "output_type": "execute_result"
    }
   ],
   "source": [
    "tempt.직원생산성gr.min()"
   ]
  },
  {
   "cell_type": "code",
   "execution_count": 34,
   "metadata": {},
   "outputs": [
    {
     "data": {
      "text/plain": [
       "0.0020927303369879208"
      ]
     },
     "execution_count": 34,
     "metadata": {},
     "output_type": "execute_result"
    }
   ],
   "source": [
    "tempt.직원생산성gr.mean()"
   ]
  },
  {
   "cell_type": "code",
   "execution_count": 35,
   "metadata": {},
   "outputs": [
    {
     "data": {
      "text/plain": [
       "(array([2.2000e+02, 3.7435e+04, 5.3300e+02, 2.5000e+01, 8.0000e+00,\n",
       "        1.0000e+00, 2.0000e+00, 1.0000e+00, 1.0000e+00, 1.0000e+00]),\n",
       " array([-0.77777778, -0.275     ,  0.22777778,  0.73055556,  1.23333333,\n",
       "         1.73611111,  2.23888889,  2.74166667,  3.24444444,  3.74722222,\n",
       "         4.25      ]),\n",
       " <a list of 10 Patch objects>)"
      ]
     },
     "execution_count": 35,
     "metadata": {},
     "output_type": "execute_result"
    },
    {
     "data": {
      "image/png": "[encoded data removed]",
      "text/plain": [
       "<Figure size 432x288 with 1 Axes>"
      ]
     },
     "metadata": {
      "needs_background": "light"
     },
     "output_type": "display_data"
    }
   ],
   "source": [
    "# 히스토 그램에 의해 직원생산성이 0을 중심으로 밀집되어 있으며 -값도 존재한다는 것을 확인\n",
    "plt.hist(tempt.직원생산성gr)"
   ]
  },
  {
   "cell_type": "code",
   "execution_count": 36,
   "metadata": {},
   "outputs": [
    {
     "data": {
      "text/plain": [
       "(array([2.6475e+04, 1.6860e+03, 3.6100e+02, 1.8000e+02, 3.2000e+01,\n",
       "        5.2000e+01, 1.2000e+01, 1.0000e+01, 5.0000e+00, 9.0000e+00]),\n",
       " array([0. , 0.1, 0.2, 0.3, 0.4, 0.5, 0.6, 0.7, 0.8, 0.9, 1. ]),\n",
       " <a list of 10 Patch objects>)"
      ]
     },
     "execution_count": 36,
     "metadata": {},
     "output_type": "execute_result"
    },
    {
     "data": {
      "image/png": "[encoded data removed]",
      "text/plain": [
       "<Figure size 432x288 with 1 Axes>"
      ]
     },
     "metadata": {
      "needs_background": "light"
     },
     "output_type": "display_data"
    }
   ],
   "source": [
    "# 유니콘 기업을 찾기 위해 직원생산성이 높은 상위 그룹의 빈도 파악\n",
    "plt.hist(tempt.직원생산성gr,range=(0,1))"
   ]
  },
  {
   "cell_type": "markdown",
   "metadata": {},
   "source": [
    "- 직원생산성성장률도 히스토그램의 빈도를 기준으로 범주화하여 점수로 사용"
   ]
  },
  {
   "cell_type": "code",
   "execution_count": 37,
   "metadata": {},
   "outputs": [],
   "source": [
    "l1=[]\n",
    "for i in tempt2:\n",
    "    if i >= 0.2:\n",
    "        l1.append(3)\n",
    "    elif i >= 0.002:\n",
    "        l1.append(2)\n",
    "    elif i >= 0.0:\n",
    "        l1.append(1)\n",
    "    else:\n",
    "        l1.append(0.5)"
   ]
  },
  {
   "cell_type": "code",
   "execution_count": 38,
   "metadata": {},
   "outputs": [
    {
     "data": {
      "text/html": [
       "<div>\n",
       "<style scoped>\n",
       "    .dataframe tbody tr th:only-of-type {\n",
       "        vertical-align: middle;\n",
       "    }\n",
       "\n",
       "    .dataframe tbody tr th {\n",
       "        vertical-align: top;\n",
       "    }\n",
       "\n",
       "    .dataframe thead th {\n",
       "        text-align: right;\n",
       "    }\n",
       "</style>\n",
       "<table border=\"1\" class=\"dataframe\">\n",
       "  <thead>\n",
       "    <tr style=\"text-align: right;\">\n",
       "      <th></th>\n",
       "      <th>회사ID</th>\n",
       "      <th>직원생산성gr</th>\n",
       "      <th>cat_직원생산성gr</th>\n",
       "    </tr>\n",
       "  </thead>\n",
       "  <tbody>\n",
       "    <tr>\n",
       "      <th>0</th>\n",
       "      <td>404071</td>\n",
       "      <td>0.120977</td>\n",
       "      <td>2.0</td>\n",
       "    </tr>\n",
       "    <tr>\n",
       "      <th>1</th>\n",
       "      <td>507086</td>\n",
       "      <td>0.108481</td>\n",
       "      <td>2.0</td>\n",
       "    </tr>\n",
       "    <tr>\n",
       "      <th>2</th>\n",
       "      <td>137889</td>\n",
       "      <td>0.104031</td>\n",
       "      <td>2.0</td>\n",
       "    </tr>\n",
       "    <tr>\n",
       "      <th>3</th>\n",
       "      <td>228565</td>\n",
       "      <td>0.083298</td>\n",
       "      <td>2.0</td>\n",
       "    </tr>\n",
       "    <tr>\n",
       "      <th>4</th>\n",
       "      <td>474900</td>\n",
       "      <td>0.083099</td>\n",
       "      <td>2.0</td>\n",
       "    </tr>\n",
       "    <tr>\n",
       "      <th>...</th>\n",
       "      <td>...</td>\n",
       "      <td>...</td>\n",
       "      <td>...</td>\n",
       "    </tr>\n",
       "    <tr>\n",
       "      <th>1122</th>\n",
       "      <td>405759</td>\n",
       "      <td>-0.044975</td>\n",
       "      <td>0.5</td>\n",
       "    </tr>\n",
       "    <tr>\n",
       "      <th>1123</th>\n",
       "      <td>297402</td>\n",
       "      <td>-0.048071</td>\n",
       "      <td>0.5</td>\n",
       "    </tr>\n",
       "    <tr>\n",
       "      <th>1124</th>\n",
       "      <td>129633</td>\n",
       "      <td>-0.049712</td>\n",
       "      <td>0.5</td>\n",
       "    </tr>\n",
       "    <tr>\n",
       "      <th>1125</th>\n",
       "      <td>472892</td>\n",
       "      <td>-0.054916</td>\n",
       "      <td>0.5</td>\n",
       "    </tr>\n",
       "    <tr>\n",
       "      <th>1126</th>\n",
       "      <td>137755</td>\n",
       "      <td>-0.064765</td>\n",
       "      <td>0.5</td>\n",
       "    </tr>\n",
       "  </tbody>\n",
       "</table>\n",
       "<p>1127 rows × 3 columns</p>\n",
       "</div>"
      ],
      "text/plain": [
       "        회사ID   직원생산성gr  cat_직원생산성gr\n",
       "0     404071  0.120977          2.0\n",
       "1     507086  0.108481          2.0\n",
       "2     137889  0.104031          2.0\n",
       "3     228565  0.083298          2.0\n",
       "4     474900  0.083099          2.0\n",
       "...      ...       ...          ...\n",
       "1122  405759 -0.044975          0.5\n",
       "1123  297402 -0.048071          0.5\n",
       "1124  129633 -0.049712          0.5\n",
       "1125  472892 -0.054916          0.5\n",
       "1126  137755 -0.064765          0.5\n",
       "\n",
       "[1127 rows x 3 columns]"
      ]
     },
     "execution_count": 38,
     "metadata": {},
     "output_type": "execute_result"
    }
   ],
   "source": [
    "tempt2=tempt2.reset_index()\n",
    "tempt2['cat_직원생산성gr']=l1\n",
    "tempt2"
   ]
  },
  {
   "cell_type": "code",
   "execution_count": 39,
   "metadata": {},
   "outputs": [
    {
     "data": {
      "text/html": [
       "<div>\n",
       "<style scoped>\n",
       "    .dataframe tbody tr th:only-of-type {\n",
       "        vertical-align: middle;\n",
       "    }\n",
       "\n",
       "    .dataframe tbody tr th {\n",
       "        vertical-align: top;\n",
       "    }\n",
       "\n",
       "    .dataframe thead th {\n",
       "        text-align: right;\n",
       "    }\n",
       "</style>\n",
       "<table border=\"1\" class=\"dataframe\">\n",
       "  <thead>\n",
       "    <tr style=\"text-align: right;\">\n",
       "      <th></th>\n",
       "      <th>회사ID</th>\n",
       "      <th>연매출액gr</th>\n",
       "      <th>cat_매출액gr</th>\n",
       "      <th>sal_grade</th>\n",
       "      <th>sal_grade_fin</th>\n",
       "      <th>cat_직원생산성gr</th>\n",
       "    </tr>\n",
       "  </thead>\n",
       "  <tbody>\n",
       "    <tr>\n",
       "      <th>0</th>\n",
       "      <td>145177</td>\n",
       "      <td>18.405927</td>\n",
       "      <td>3</td>\n",
       "      <td>0.5</td>\n",
       "      <td>1.5</td>\n",
       "      <td>2.0</td>\n",
       "    </tr>\n",
       "    <tr>\n",
       "      <th>1</th>\n",
       "      <td>145177</td>\n",
       "      <td>18.405927</td>\n",
       "      <td>3</td>\n",
       "      <td>0.5</td>\n",
       "      <td>1.5</td>\n",
       "      <td>2.0</td>\n",
       "    </tr>\n",
       "    <tr>\n",
       "      <th>2</th>\n",
       "      <td>145177</td>\n",
       "      <td>18.405927</td>\n",
       "      <td>3</td>\n",
       "      <td>0.5</td>\n",
       "      <td>1.5</td>\n",
       "      <td>2.0</td>\n",
       "    </tr>\n",
       "    <tr>\n",
       "      <th>3</th>\n",
       "      <td>145177</td>\n",
       "      <td>18.405927</td>\n",
       "      <td>3</td>\n",
       "      <td>0.5</td>\n",
       "      <td>1.5</td>\n",
       "      <td>2.0</td>\n",
       "    </tr>\n",
       "    <tr>\n",
       "      <th>4</th>\n",
       "      <td>145177</td>\n",
       "      <td>18.405927</td>\n",
       "      <td>3</td>\n",
       "      <td>0.5</td>\n",
       "      <td>1.5</td>\n",
       "      <td>2.0</td>\n",
       "    </tr>\n",
       "    <tr>\n",
       "      <th>...</th>\n",
       "      <td>...</td>\n",
       "      <td>...</td>\n",
       "      <td>...</td>\n",
       "      <td>...</td>\n",
       "      <td>...</td>\n",
       "      <td>...</td>\n",
       "    </tr>\n",
       "    <tr>\n",
       "      <th>42465</th>\n",
       "      <td>432911</td>\n",
       "      <td>-2.164515</td>\n",
       "      <td>1</td>\n",
       "      <td>0.5</td>\n",
       "      <td>0.5</td>\n",
       "      <td>2.0</td>\n",
       "    </tr>\n",
       "    <tr>\n",
       "      <th>42466</th>\n",
       "      <td>432911</td>\n",
       "      <td>-2.164515</td>\n",
       "      <td>1</td>\n",
       "      <td>0.5</td>\n",
       "      <td>0.5</td>\n",
       "      <td>2.0</td>\n",
       "    </tr>\n",
       "    <tr>\n",
       "      <th>42467</th>\n",
       "      <td>432911</td>\n",
       "      <td>-2.164515</td>\n",
       "      <td>1</td>\n",
       "      <td>0.5</td>\n",
       "      <td>0.5</td>\n",
       "      <td>2.0</td>\n",
       "    </tr>\n",
       "    <tr>\n",
       "      <th>42468</th>\n",
       "      <td>432911</td>\n",
       "      <td>-2.164515</td>\n",
       "      <td>1</td>\n",
       "      <td>0.5</td>\n",
       "      <td>0.5</td>\n",
       "      <td>2.0</td>\n",
       "    </tr>\n",
       "    <tr>\n",
       "      <th>42469</th>\n",
       "      <td>432911</td>\n",
       "      <td>-2.164515</td>\n",
       "      <td>1</td>\n",
       "      <td>0.5</td>\n",
       "      <td>0.5</td>\n",
       "      <td>2.0</td>\n",
       "    </tr>\n",
       "  </tbody>\n",
       "</table>\n",
       "<p>42470 rows × 6 columns</p>\n",
       "</div>"
      ],
      "text/plain": [
       "         회사ID     연매출액gr  cat_매출액gr  sal_grade  sal_grade_fin  cat_직원생산성gr\n",
       "0      145177  18.405927          3        0.5            1.5          2.0\n",
       "1      145177  18.405927          3        0.5            1.5          2.0\n",
       "2      145177  18.405927          3        0.5            1.5          2.0\n",
       "3      145177  18.405927          3        0.5            1.5          2.0\n",
       "4      145177  18.405927          3        0.5            1.5          2.0\n",
       "...       ...        ...        ...        ...            ...          ...\n",
       "42465  432911  -2.164515          1        0.5            0.5          2.0\n",
       "42466  432911  -2.164515          1        0.5            0.5          2.0\n",
       "42467  432911  -2.164515          1        0.5            0.5          2.0\n",
       "42468  432911  -2.164515          1        0.5            0.5          2.0\n",
       "42469  432911  -2.164515          1        0.5            0.5          2.0\n",
       "\n",
       "[42470 rows x 6 columns]"
      ]
     },
     "execution_count": 39,
     "metadata": {},
     "output_type": "execute_result"
    }
   ],
   "source": [
    "df_fin=pd.merge(df_fin,tempt2.loc[:,['회사ID','cat_직원생산성gr']],on='회사ID',how='left')\n",
    "df_fin"
   ]
  },
  {
   "cell_type": "markdown",
   "metadata": {},
   "source": [
    "- 직원 생산성 기반 유니콘 기업 후보 추출"
   ]
  },
  {
   "cell_type": "markdown",
   "metadata": {},
   "source": [
    "***"
   ]
  },
  {
   "cell_type": "markdown",
   "metadata": {},
   "source": [
    "### 4. 마직막 가설인 임금당 생산성 증가율(양질의 인력의 지속적인 확보)로 유니콘 기업 후보 추출"
   ]
  },
  {
   "cell_type": "code",
   "execution_count": 40,
   "metadata": {},
   "outputs": [
    {
     "data": {
      "text/plain": [
       "회사ID\n",
       "474900    0.115805\n",
       "404071    0.097946\n",
       "507086    0.082750\n",
       "235976    0.073583\n",
       "137889    0.071053\n",
       "            ...   \n",
       "297402   -0.044731\n",
       "306768   -0.046338\n",
       "129633   -0.053895\n",
       "472892   -0.059353\n",
       "137755   -0.063877\n",
       "Name: 임금당생산성gr, Length: 1127, dtype: float64"
      ]
     },
     "execution_count": 40,
     "metadata": {},
     "output_type": "execute_result"
    }
   ],
   "source": [
    "# 임금당 생산성은 월별로 측정가능한 변수이기 때문에 월별로 성장률을 구함\n",
    "tempt=df1.groupby(['회사ID','year','month'])['임금당 생산성'].mean().reset_index()\n",
    "tempt2=tempt.groupby(['회사ID','year'])['임금당 생산성'].pct_change()\n",
    "tempt=pd.concat([tempt,tempt2],axis=1)\n",
    "tempt.columns=['회사ID','year','month','임금당 생산성','임금당생산성gr']\n",
    "tempt=tempt.fillna(0.0)\n",
    "tempt\n",
    "tempt2=tempt.groupby(['회사ID'])['임금당생산성gr'].mean().sort_values(ascending=False)\n",
    "tempt2"
   ]
  },
  {
   "cell_type": "code",
   "execution_count": 41,
   "metadata": {},
   "outputs": [
    {
     "data": {
      "text/plain": [
       "3.537147969503657"
      ]
     },
     "execution_count": 41,
     "metadata": {},
     "output_type": "execute_result"
    }
   ],
   "source": [
    "tempt.임금당생산성gr.max()"
   ]
  },
  {
   "cell_type": "code",
   "execution_count": 42,
   "metadata": {},
   "outputs": [
    {
     "data": {
      "text/plain": [
       "-0.7927944225657867"
      ]
     },
     "execution_count": 42,
     "metadata": {},
     "output_type": "execute_result"
    }
   ],
   "source": [
    "tempt.임금당생산성gr.min()"
   ]
  },
  {
   "cell_type": "code",
   "execution_count": 43,
   "metadata": {},
   "outputs": [
    {
     "data": {
      "text/plain": [
       "-0.0016574264424023006"
      ]
     },
     "execution_count": 43,
     "metadata": {},
     "output_type": "execute_result"
    }
   ],
   "source": [
    "tempt.임금당생산성gr.mean()"
   ]
  },
  {
   "cell_type": "markdown",
   "metadata": {},
   "source": [
    "- 히스토그램을 통한 임금당생산성 증가율의 임곗값 설정"
   ]
  },
  {
   "cell_type": "code",
   "execution_count": 44,
   "metadata": {},
   "outputs": [
    {
     "data": {
      "text/plain": [
       "(array([1.1300e+02, 3.9424e+04, 2.8450e+03, 6.0000e+01, 1.4000e+01,\n",
       "        6.0000e+00, 3.0000e+00, 3.0000e+00, 0.0000e+00, 2.0000e+00]),\n",
       " array([-0.79279442, -0.35980018,  0.07319406,  0.5061883 ,  0.93918253,\n",
       "         1.37217677,  1.80517101,  2.23816525,  2.67115949,  3.10415373,\n",
       "         3.53714797]),\n",
       " <a list of 10 Patch objects>)"
      ]
     },
     "execution_count": 44,
     "metadata": {},
     "output_type": "execute_result"
    },
    {
     "data": {
      "image/png": "[encoded data removed]",
      "text/plain": [
       "<Figure size 432x288 with 1 Axes>"
      ]
     },
     "metadata": {
      "needs_background": "light"
     },
     "output_type": "display_data"
    }
   ],
   "source": [
    "plt.hist(tempt.임금당생산성gr)"
   ]
  },
  {
   "cell_type": "code",
   "execution_count": 45,
   "metadata": {},
   "outputs": [
    {
     "data": {
      "text/plain": [
       "(array([   65.,   203.,   646.,  2964., 31932.,  5020.,  1035.,   269.,\n",
       "          129.,    63.]),\n",
       " array([-0.45 , -0.355, -0.26 , -0.165, -0.07 ,  0.025,  0.12 ,  0.215,\n",
       "         0.31 ,  0.405,  0.5  ]),\n",
       " <a list of 10 Patch objects>)"
      ]
     },
     "execution_count": 45,
     "metadata": {},
     "output_type": "execute_result"
    },
    {
     "data": {
      "image/png": "[encoded data removed]",
      "text/plain": [
       "<Figure size 432x288 with 1 Axes>"
      ]
     },
     "metadata": {
      "needs_background": "light"
     },
     "output_type": "display_data"
    }
   ],
   "source": [
    "plt.hist(tempt.임금당생산성gr,range=(-0.45,0.5))"
   ]
  },
  {
   "cell_type": "code",
   "execution_count": 46,
   "metadata": {},
   "outputs": [
    {
     "data": {
      "text/plain": [
       "(array([1.0471e+04, 1.6400e+02, 2.0000e+01, 1.3000e+01, 4.0000e+00,\n",
       "        3.0000e+00, 2.0000e+00, 1.0000e+00, 1.0000e+00, 1.0000e+00]),\n",
       " array([1.0000e-03, 3.6090e-01, 7.2080e-01, 1.0807e+00, 1.4406e+00,\n",
       "        1.8005e+00, 2.1604e+00, 2.5203e+00, 2.8802e+00, 3.2401e+00,\n",
       "        3.6000e+00]),\n",
       " <a list of 10 Patch objects>)"
      ]
     },
     "execution_count": 46,
     "metadata": {},
     "output_type": "execute_result"
    },
    {
     "data": {
      "image/png": "[encoded data removed]",
      "text/plain": [
       "<Figure size 432x288 with 1 Axes>"
      ]
     },
     "metadata": {
      "needs_background": "light"
     },
     "output_type": "display_data"
    }
   ],
   "source": [
    "plt.hist(tempt.임금당생산성gr,range=(0.001,3.6))"
   ]
  },
  {
   "cell_type": "code",
   "execution_count": 47,
   "metadata": {},
   "outputs": [],
   "source": [
    "l1=[]\n",
    "for i in tempt2:\n",
    "    if i >= 0.001:\n",
    "        l1.append(2)\n",
    "    elif i >= 0.0:\n",
    "        l1.append(1)\n",
    "    else:\n",
    "        l1.append(0.5)"
   ]
  },
  {
   "cell_type": "code",
   "execution_count": 48,
   "metadata": {},
   "outputs": [
    {
     "data": {
      "text/html": [
       "<div>\n",
       "<style scoped>\n",
       "    .dataframe tbody tr th:only-of-type {\n",
       "        vertical-align: middle;\n",
       "    }\n",
       "\n",
       "    .dataframe tbody tr th {\n",
       "        vertical-align: top;\n",
       "    }\n",
       "\n",
       "    .dataframe thead th {\n",
       "        text-align: right;\n",
       "    }\n",
       "</style>\n",
       "<table border=\"1\" class=\"dataframe\">\n",
       "  <thead>\n",
       "    <tr style=\"text-align: right;\">\n",
       "      <th></th>\n",
       "      <th>회사ID</th>\n",
       "      <th>임금당생산성gr</th>\n",
       "      <th>cat_임금당생산성gr</th>\n",
       "    </tr>\n",
       "  </thead>\n",
       "  <tbody>\n",
       "    <tr>\n",
       "      <th>0</th>\n",
       "      <td>474900</td>\n",
       "      <td>0.115805</td>\n",
       "      <td>2.0</td>\n",
       "    </tr>\n",
       "    <tr>\n",
       "      <th>1</th>\n",
       "      <td>404071</td>\n",
       "      <td>0.097946</td>\n",
       "      <td>2.0</td>\n",
       "    </tr>\n",
       "    <tr>\n",
       "      <th>2</th>\n",
       "      <td>507086</td>\n",
       "      <td>0.082750</td>\n",
       "      <td>2.0</td>\n",
       "    </tr>\n",
       "    <tr>\n",
       "      <th>3</th>\n",
       "      <td>235976</td>\n",
       "      <td>0.073583</td>\n",
       "      <td>2.0</td>\n",
       "    </tr>\n",
       "    <tr>\n",
       "      <th>4</th>\n",
       "      <td>137889</td>\n",
       "      <td>0.071053</td>\n",
       "      <td>2.0</td>\n",
       "    </tr>\n",
       "    <tr>\n",
       "      <th>...</th>\n",
       "      <td>...</td>\n",
       "      <td>...</td>\n",
       "      <td>...</td>\n",
       "    </tr>\n",
       "    <tr>\n",
       "      <th>1122</th>\n",
       "      <td>297402</td>\n",
       "      <td>-0.044731</td>\n",
       "      <td>0.5</td>\n",
       "    </tr>\n",
       "    <tr>\n",
       "      <th>1123</th>\n",
       "      <td>306768</td>\n",
       "      <td>-0.046338</td>\n",
       "      <td>0.5</td>\n",
       "    </tr>\n",
       "    <tr>\n",
       "      <th>1124</th>\n",
       "      <td>129633</td>\n",
       "      <td>-0.053895</td>\n",
       "      <td>0.5</td>\n",
       "    </tr>\n",
       "    <tr>\n",
       "      <th>1125</th>\n",
       "      <td>472892</td>\n",
       "      <td>-0.059353</td>\n",
       "      <td>0.5</td>\n",
       "    </tr>\n",
       "    <tr>\n",
       "      <th>1126</th>\n",
       "      <td>137755</td>\n",
       "      <td>-0.063877</td>\n",
       "      <td>0.5</td>\n",
       "    </tr>\n",
       "  </tbody>\n",
       "</table>\n",
       "<p>1127 rows × 3 columns</p>\n",
       "</div>"
      ],
      "text/plain": [
       "        회사ID  임금당생산성gr  cat_임금당생산성gr\n",
       "0     474900  0.115805           2.0\n",
       "1     404071  0.097946           2.0\n",
       "2     507086  0.082750           2.0\n",
       "3     235976  0.073583           2.0\n",
       "4     137889  0.071053           2.0\n",
       "...      ...       ...           ...\n",
       "1122  297402 -0.044731           0.5\n",
       "1123  306768 -0.046338           0.5\n",
       "1124  129633 -0.053895           0.5\n",
       "1125  472892 -0.059353           0.5\n",
       "1126  137755 -0.063877           0.5\n",
       "\n",
       "[1127 rows x 3 columns]"
      ]
     },
     "execution_count": 48,
     "metadata": {},
     "output_type": "execute_result"
    }
   ],
   "source": [
    "tempt2=tempt2.reset_index()\n",
    "tempt2['cat_임금당생산성gr']=l1\n",
    "tempt2"
   ]
  },
  {
   "cell_type": "code",
   "execution_count": 49,
   "metadata": {},
   "outputs": [
    {
     "data": {
      "text/html": [
       "<div>\n",
       "<style scoped>\n",
       "    .dataframe tbody tr th:only-of-type {\n",
       "        vertical-align: middle;\n",
       "    }\n",
       "\n",
       "    .dataframe tbody tr th {\n",
       "        vertical-align: top;\n",
       "    }\n",
       "\n",
       "    .dataframe thead th {\n",
       "        text-align: right;\n",
       "    }\n",
       "</style>\n",
       "<table border=\"1\" class=\"dataframe\">\n",
       "  <thead>\n",
       "    <tr style=\"text-align: right;\">\n",
       "      <th></th>\n",
       "      <th>회사ID</th>\n",
       "      <th>연매출액gr</th>\n",
       "      <th>cat_매출액gr</th>\n",
       "      <th>sal_grade</th>\n",
       "      <th>sal_grade_fin</th>\n",
       "      <th>cat_직원생산성gr</th>\n",
       "      <th>cat_임금당생산성gr</th>\n",
       "    </tr>\n",
       "  </thead>\n",
       "  <tbody>\n",
       "    <tr>\n",
       "      <th>0</th>\n",
       "      <td>145177</td>\n",
       "      <td>18.405927</td>\n",
       "      <td>3</td>\n",
       "      <td>0.5</td>\n",
       "      <td>1.5</td>\n",
       "      <td>2.0</td>\n",
       "      <td>2.0</td>\n",
       "    </tr>\n",
       "    <tr>\n",
       "      <th>1</th>\n",
       "      <td>145177</td>\n",
       "      <td>18.405927</td>\n",
       "      <td>3</td>\n",
       "      <td>0.5</td>\n",
       "      <td>1.5</td>\n",
       "      <td>2.0</td>\n",
       "      <td>2.0</td>\n",
       "    </tr>\n",
       "    <tr>\n",
       "      <th>2</th>\n",
       "      <td>145177</td>\n",
       "      <td>18.405927</td>\n",
       "      <td>3</td>\n",
       "      <td>0.5</td>\n",
       "      <td>1.5</td>\n",
       "      <td>2.0</td>\n",
       "      <td>2.0</td>\n",
       "    </tr>\n",
       "    <tr>\n",
       "      <th>3</th>\n",
       "      <td>145177</td>\n",
       "      <td>18.405927</td>\n",
       "      <td>3</td>\n",
       "      <td>0.5</td>\n",
       "      <td>1.5</td>\n",
       "      <td>2.0</td>\n",
       "      <td>2.0</td>\n",
       "    </tr>\n",
       "    <tr>\n",
       "      <th>4</th>\n",
       "      <td>145177</td>\n",
       "      <td>18.405927</td>\n",
       "      <td>3</td>\n",
       "      <td>0.5</td>\n",
       "      <td>1.5</td>\n",
       "      <td>2.0</td>\n",
       "      <td>2.0</td>\n",
       "    </tr>\n",
       "    <tr>\n",
       "      <th>...</th>\n",
       "      <td>...</td>\n",
       "      <td>...</td>\n",
       "      <td>...</td>\n",
       "      <td>...</td>\n",
       "      <td>...</td>\n",
       "      <td>...</td>\n",
       "      <td>...</td>\n",
       "    </tr>\n",
       "    <tr>\n",
       "      <th>42465</th>\n",
       "      <td>432911</td>\n",
       "      <td>-2.164515</td>\n",
       "      <td>1</td>\n",
       "      <td>0.5</td>\n",
       "      <td>0.5</td>\n",
       "      <td>2.0</td>\n",
       "      <td>0.5</td>\n",
       "    </tr>\n",
       "    <tr>\n",
       "      <th>42466</th>\n",
       "      <td>432911</td>\n",
       "      <td>-2.164515</td>\n",
       "      <td>1</td>\n",
       "      <td>0.5</td>\n",
       "      <td>0.5</td>\n",
       "      <td>2.0</td>\n",
       "      <td>0.5</td>\n",
       "    </tr>\n",
       "    <tr>\n",
       "      <th>42467</th>\n",
       "      <td>432911</td>\n",
       "      <td>-2.164515</td>\n",
       "      <td>1</td>\n",
       "      <td>0.5</td>\n",
       "      <td>0.5</td>\n",
       "      <td>2.0</td>\n",
       "      <td>0.5</td>\n",
       "    </tr>\n",
       "    <tr>\n",
       "      <th>42468</th>\n",
       "      <td>432911</td>\n",
       "      <td>-2.164515</td>\n",
       "      <td>1</td>\n",
       "      <td>0.5</td>\n",
       "      <td>0.5</td>\n",
       "      <td>2.0</td>\n",
       "      <td>0.5</td>\n",
       "    </tr>\n",
       "    <tr>\n",
       "      <th>42469</th>\n",
       "      <td>432911</td>\n",
       "      <td>-2.164515</td>\n",
       "      <td>1</td>\n",
       "      <td>0.5</td>\n",
       "      <td>0.5</td>\n",
       "      <td>2.0</td>\n",
       "      <td>0.5</td>\n",
       "    </tr>\n",
       "  </tbody>\n",
       "</table>\n",
       "<p>42470 rows × 7 columns</p>\n",
       "</div>"
      ],
      "text/plain": [
       "         회사ID     연매출액gr  cat_매출액gr  sal_grade  sal_grade_fin  cat_직원생산성gr  \\\n",
       "0      145177  18.405927          3        0.5            1.5          2.0   \n",
       "1      145177  18.405927          3        0.5            1.5          2.0   \n",
       "2      145177  18.405927          3        0.5            1.5          2.0   \n",
       "3      145177  18.405927          3        0.5            1.5          2.0   \n",
       "4      145177  18.405927          3        0.5            1.5          2.0   \n",
       "...       ...        ...        ...        ...            ...          ...   \n",
       "42465  432911  -2.164515          1        0.5            0.5          2.0   \n",
       "42466  432911  -2.164515          1        0.5            0.5          2.0   \n",
       "42467  432911  -2.164515          1        0.5            0.5          2.0   \n",
       "42468  432911  -2.164515          1        0.5            0.5          2.0   \n",
       "42469  432911  -2.164515          1        0.5            0.5          2.0   \n",
       "\n",
       "       cat_임금당생산성gr  \n",
       "0               2.0  \n",
       "1               2.0  \n",
       "2               2.0  \n",
       "3               2.0  \n",
       "4               2.0  \n",
       "...             ...  \n",
       "42465           0.5  \n",
       "42466           0.5  \n",
       "42467           0.5  \n",
       "42468           0.5  \n",
       "42469           0.5  \n",
       "\n",
       "[42470 rows x 7 columns]"
      ]
     },
     "execution_count": 49,
     "metadata": {},
     "output_type": "execute_result"
    }
   ],
   "source": [
    "df_fin=pd.merge(df_fin,tempt2.loc[:,['회사ID','cat_임금당생산성gr']],on='회사ID',how='left')\n",
    "df_fin"
   ]
  },
  {
   "cell_type": "code",
   "execution_count": 50,
   "metadata": {
    "scrolled": true
   },
   "outputs": [
    {
     "data": {
      "text/plain": [
       "2.000000    405\n",
       "5.000000    174\n",
       "4.500000    167\n",
       "2.500000    104\n",
       "3.500000     88\n",
       "1.500000     86\n",
       "3.000000     48\n",
       "4.000000     35\n",
       "5.500000     17\n",
       "3.684211      1\n",
       "2.684211      1\n",
       "2.631579      1\n",
       "Name: t_score, dtype: int64"
      ]
     },
     "execution_count": 50,
     "metadata": {},
     "output_type": "execute_result"
    }
   ],
   "source": [
    "# 최고점인 5.5점 기준으로 유니콘 기업을 선정\n",
    "df_fin['t_score']=df_fin.sal_grade_fin+df_fin.cat_직원생산성gr+df_fin.cat_임금당생산성gr\n",
    "df_tscore=df_fin.groupby('회사ID')['t_score'].mean().sort_values(ascending=False)\n",
    "df_tscore.value_counts()"
   ]
  },
  {
   "cell_type": "code",
   "execution_count": 51,
   "metadata": {},
   "outputs": [],
   "source": [
    "top17=df_tscore.loc[df_tscore==5.5]"
   ]
  },
  {
   "cell_type": "code",
   "execution_count": 52,
   "metadata": {},
   "outputs": [
    {
     "data": {
      "text/plain": [
       "618107257.2404871"
      ]
     },
     "execution_count": 52,
     "metadata": {},
     "output_type": "execute_result"
    }
   ],
   "source": [
    "df1.query(\"회사ID in @top17.index\")['연매출액'].mean()"
   ]
  },
  {
   "cell_type": "code",
   "execution_count": 53,
   "metadata": {},
   "outputs": [
    {
     "data": {
      "text/plain": [
       "60267211.258817986"
      ]
     },
     "execution_count": 53,
     "metadata": {},
     "output_type": "execute_result"
    }
   ],
   "source": [
    "df1['연매출액'].mean()"
   ]
  },
  {
   "cell_type": "code",
   "execution_count": 54,
   "metadata": {},
   "outputs": [
    {
     "data": {
      "text/plain": [
       "81556.46223103792"
      ]
     },
     "execution_count": 54,
     "metadata": {},
     "output_type": "execute_result"
    }
   ],
   "source": [
    "df1.query(\"회사ID in @top17.index\")['직원의 생산성'].mean()"
   ]
  },
  {
   "cell_type": "code",
   "execution_count": 55,
   "metadata": {},
   "outputs": [
    {
     "data": {
      "text/plain": [
       "60973.36676495885"
      ]
     },
     "execution_count": 55,
     "metadata": {},
     "output_type": "execute_result"
    }
   ],
   "source": [
    "df1['직원의 생산성'].mean()"
   ]
  },
  {
   "cell_type": "code",
   "execution_count": 56,
   "metadata": {},
   "outputs": [
    {
     "data": {
      "text/plain": [
       "3.5488736397576606"
      ]
     },
     "execution_count": 56,
     "metadata": {},
     "output_type": "execute_result"
    }
   ],
   "source": [
    "df1.query(\"회사ID in @top17.index\")['임금당 생산성'].mean()"
   ]
  },
  {
   "cell_type": "code",
   "execution_count": 57,
   "metadata": {},
   "outputs": [
    {
     "data": {
      "text/plain": [
       "2.7193729534060704"
      ]
     },
     "execution_count": 57,
     "metadata": {},
     "output_type": "execute_result"
    }
   ],
   "source": [
    "df1['임금당 생산성'].mean()"
   ]
  },
  {
   "cell_type": "markdown",
   "metadata": {},
   "source": [
    "***"
   ]
  },
  {
   "cell_type": "markdown",
   "metadata": {},
   "source": [
    "### 5. 최종 유니콘 기업을 선정"
   ]
  },
  {
   "cell_type": "markdown",
   "metadata": {},
   "source": [
    "- 최종적으로 유니콘 기업 목록은 다음과 같다.\n",
    "- 다만, 아쉬운점은 localoutlierfactor를 기반으로 추출한 이상값이 유니콘기업일 것이라는 가정은 분석결과 틀렸다."
   ]
  },
  {
   "cell_type": "code",
   "execution_count": 58,
   "metadata": {},
   "outputs": [
    {
     "data": {
      "text/plain": [
       "array([264568, 254718, 435512, 474900, 445499, 140801, 431317, 280967,\n",
       "       180401, 259149, 145177, 331110, 419945, 470994, 248177, 441735,\n",
       "       195233], dtype=int64)"
      ]
     },
     "execution_count": 58,
     "metadata": {},
     "output_type": "execute_result"
    }
   ],
   "source": [
    "top17.index.values"
   ]
  },
  {
   "cell_type": "code",
   "execution_count": 59,
   "metadata": {},
   "outputs": [
    {
     "data": {
      "text/plain": [
       "array([1])"
      ]
     },
     "execution_count": 59,
     "metadata": {},
     "output_type": "execute_result"
    }
   ],
   "source": [
    "df1.query(\"회사ID in @top17.index\").outlier.unique()"
   ]
  }
 ],
 "metadata": {
  "kernelspec": {
   "display_name": "Python 3",
   "language": "python",
   "name": "python3"
  },
  "language_info": {
   "codemirror_mode": {
    "name": "ipython",
    "version": 3
   },
   "file_extension": ".py",
   "mimetype": "text/x-python",
   "name": "python",
   "nbconvert_exporter": "python",
   "pygments_lexer": "ipython3",
   "version": "3.7.4"
  }
 },
 "nbformat": 4,
 "nbformat_minor": 5
}
